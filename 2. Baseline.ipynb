{
 "cells": [
  {
   "cell_type": "markdown",
   "metadata": {
    "toc": true
   },
   "source": [
    "<h1>Table of Contents<span class=\"tocSkip\"></span></h1>\n",
    "<div class=\"toc\"><ul class=\"toc-item\"><li><span><a href=\"#Libraries\" data-toc-modified-id=\"Libraries-1\"><span class=\"toc-item-num\">1&nbsp;&nbsp;</span>Libraries</a></span></li><li><span><a href=\"#Split-Train/Test/Validation\" data-toc-modified-id=\"Split-Train/Test/Validation-2\"><span class=\"toc-item-num\">2&nbsp;&nbsp;</span>Split Train/Test/Validation</a></span></li><li><span><a href=\"#Baseline-model\" data-toc-modified-id=\"Baseline-model-3\"><span class=\"toc-item-num\">3&nbsp;&nbsp;</span>Baseline model</a></span></li><li><span><a href=\"#Models-Training\" data-toc-modified-id=\"Models-Training-4\"><span class=\"toc-item-num\">4&nbsp;&nbsp;</span>Models Training</a></span><ul class=\"toc-item\"><li><span><a href=\"#Light-Gradient-Boosting-Machine-(LGBM)\" data-toc-modified-id=\"Light-Gradient-Boosting-Machine-(LGBM)-4.1\"><span class=\"toc-item-num\">4.1&nbsp;&nbsp;</span>Light Gradient Boosting Machine (LGBM)</a></span></li></ul></li></ul></div>"
   ]
  },
  {
   "cell_type": "markdown",
   "metadata": {},
   "source": [
    "# Libraries"
   ]
  },
  {
   "cell_type": "code",
   "execution_count": 69,
   "metadata": {
    "ExecuteTime": {
     "end_time": "2018-08-01T20:12:37.818996Z",
     "start_time": "2018-08-01T20:12:37.445912Z"
    }
   },
   "outputs": [],
   "source": [
    "# numpy and pandas for data manipulation\n",
    "import numpy as np\n",
    "import pandas as pd \n",
    "import matplotlib.pyplot as plt\n",
    "\n",
    "from sklearn.model_selection import train_test_split"
   ]
  },
  {
   "cell_type": "markdown",
   "metadata": {},
   "source": [
    "# Split Train/Test/Validation"
   ]
  },
  {
   "cell_type": "code",
   "execution_count": 70,
   "metadata": {
    "ExecuteTime": {
     "end_time": "2018-08-01T14:50:42.684435Z",
     "start_time": "2018-08-01T14:49:47.286191Z"
    }
   },
   "outputs": [],
   "source": [
    "data = pd.read_csv('data/eda_dataset_imputed.csv')\n",
    "\n",
    "app_train, test_1 = train_test_split(data, test_size=0.30, random_state=64)\n",
    "app_test, app_validation = train_test_split(test_1, test_size=0.5, random_state=56)"
   ]
  },
  {
   "cell_type": "code",
   "execution_count": 71,
   "metadata": {
    "ExecuteTime": {
     "end_time": "2018-08-01T14:50:42.715385Z",
     "start_time": "2018-08-01T14:50:42.687230Z"
    }
   },
   "outputs": [
    {
     "data": {
      "text/plain": [
       "((215257, 450), (46127, 450), (46127, 450))"
      ]
     },
     "execution_count": 71,
     "metadata": {},
     "output_type": "execute_result"
    }
   ],
   "source": [
    "app_train.shape, app_test.shape, app_validation.shape"
   ]
  },
  {
   "cell_type": "markdown",
   "metadata": {},
   "source": [
    "# Baseline model"
   ]
  },
  {
   "cell_type": "code",
   "execution_count": 72,
   "metadata": {
    "ExecuteTime": {
     "end_time": "2018-07-31T20:10:38.780437Z",
     "start_time": "2018-07-31T20:10:38.774464Z"
    }
   },
   "outputs": [],
   "source": [
    "train_labels = app_train['TARGET']\n",
    "test_labels = app_test['TARGET']"
   ]
  },
  {
   "cell_type": "code",
   "execution_count": 73,
   "metadata": {
    "ExecuteTime": {
     "end_time": "2018-07-31T20:11:30.314442Z",
     "start_time": "2018-07-31T20:10:38.783257Z"
    }
   },
   "outputs": [
    {
     "name": "stdout",
     "output_type": "stream",
     "text": [
      "Training data shape:  (215257, 449)\n",
      "Testing data shape:  (46127, 449)\n",
      "Testing data shape:  (46127, 449)\n"
     ]
    }
   ],
   "source": [
    "from sklearn.preprocessing import MinMaxScaler, Imputer\n",
    "\n",
    "# Drop the target from the training data\n",
    "if 'TARGET' in app_train:\n",
    "    train = app_train.drop(['TARGET'], axis=1)\n",
    "else:\n",
    "    train = app_train.copy()\n",
    "\n",
    "    \n",
    "if 'TARGET' in app_test:\n",
    "    test = app_test.drop(['TARGET'], axis=1)\n",
    "else:\n",
    "    test = app_test.copy()\n",
    "\n",
    "if 'TARGET' in app_validation:\n",
    "    validation = app_validation.drop(['TARGET'], axis=1)\n",
    "else:\n",
    "    validation = app_validation.copy()\n",
    "    \n",
    "    \n",
    "# Feature names\n",
    "features = list(train.columns)\n",
    "\n",
    "# Median imputation of missing values\n",
    "imputer = Imputer(strategy = 'median')\n",
    "\n",
    "# Scale each feature to 0-1\n",
    "scaler = MinMaxScaler(feature_range = (0, 1))\n",
    "\n",
    "# Fit on the training data\n",
    "imputer.fit(train)\n",
    "\n",
    "# Transform both training and testing data\n",
    "train = imputer.transform(train)\n",
    "test = imputer.transform(test)\n",
    "validation = imputer.transform(validation)\n",
    "\n",
    "# Repeat with the scaler\n",
    "scaler.fit(train)\n",
    "train = scaler.transform(train)\n",
    "test = scaler.transform(test)\n",
    "validation = scaler.transform(validation)\n",
    "\n",
    "print('Training data shape: ', train.shape)\n",
    "print('Testing data shape: ', test.shape)\n",
    "print('Validation data shape: ', validation.shape)"
   ]
  },
  {
   "cell_type": "code",
   "execution_count": 74,
   "metadata": {
    "ExecuteTime": {
     "end_time": "2018-07-31T20:11:37.630184Z",
     "start_time": "2018-07-31T20:11:30.321827Z"
    }
   },
   "outputs": [
    {
     "data": {
      "text/plain": [
       "LogisticRegression(C=0.0001, class_weight=None, dual=False,\n",
       "          fit_intercept=True, intercept_scaling=1, max_iter=100,\n",
       "          multi_class='ovr', n_jobs=1, penalty='l2', random_state=None,\n",
       "          solver='liblinear', tol=0.0001, verbose=0, warm_start=False)"
      ]
     },
     "execution_count": 74,
     "metadata": {},
     "output_type": "execute_result"
    }
   ],
   "source": [
    "from sklearn.linear_model import LogisticRegression\n",
    "\n",
    "# Make the model with the specified regularization parameter\n",
    "log_reg = LogisticRegression(C = 0.0001)\n",
    "\n",
    "# Train on the training data\n",
    "log_reg.fit(train, train_labels)"
   ]
  },
  {
   "cell_type": "code",
   "execution_count": 75,
   "metadata": {
    "ExecuteTime": {
     "end_time": "2018-07-31T20:11:37.715568Z",
     "start_time": "2018-07-31T20:11:37.633614Z"
    }
   },
   "outputs": [],
   "source": [
    "# Make predictions\n",
    "# Make sure to select the second column only\n",
    "log_reg_pred = log_reg.predict_proba(test)[:, 1]"
   ]
  },
  {
   "cell_type": "code",
   "execution_count": 76,
   "metadata": {
    "ExecuteTime": {
     "end_time": "2018-07-31T20:11:37.767054Z",
     "start_time": "2018-07-31T20:11:37.718495Z"
    }
   },
   "outputs": [
    {
     "name": "stdout",
     "output_type": "stream",
     "text": [
      "ROC AUC:  0.713790323186\n",
      "MAE:  0.149072307289\n"
     ]
    }
   ],
   "source": [
    "from sklearn.metrics import roc_auc_score\n",
    "from sklearn.metrics import mean_absolute_error\n",
    "\n",
    "print(\"ROC AUC: \", roc_auc_score(test_labels, log_reg_pred))\n",
    "print(\"MAE: \", mean_absolute_error(test_labels, log_reg_pred))"
   ]
  },
  {
   "cell_type": "markdown",
   "metadata": {},
   "source": [
    "# Models Training"
   ]
  },
  {
   "cell_type": "markdown",
   "metadata": {
    "ExecuteTime": {
     "end_time": "2018-07-31T20:04:07.636114Z",
     "start_time": "2018-07-31T20:04:07.624940Z"
    }
   },
   "source": [
    "## Light Gradient Boosting Machine (LGBM)"
   ]
  },
  {
   "cell_type": "code",
   "execution_count": 99,
   "metadata": {
    "ExecuteTime": {
     "end_time": "2018-08-01T15:38:50.771511Z",
     "start_time": "2018-08-01T15:38:50.018599Z"
    }
   },
   "outputs": [],
   "source": [
    "from sklearn.model_selection import KFold\n",
    "from sklearn.metrics import roc_auc_score, mean_absolute_error\n",
    "import lightgbm as lgb\n",
    "from sklearn.utils.multiclass import type_of_target\n",
    "\n",
    "import gc\n",
    "\n",
    "def modelLGBM(features, test_features, lgbm_params, validation_features=None, n_folds = 5): \n",
    "    \"\"\"Train, test and validation a light gradient boosting model using cross validation. \n",
    "    \n",
    "    Parameters\n",
    "    --------\n",
    "        features (pd.DataFrame): \n",
    "            dataframe of training features to use \n",
    "            for training a model. Must include the TARGET column.\n",
    "        test_features (pd.DataFrame): \n",
    "            dataframe of testing features to use\n",
    "            for making predictions with the model. \n",
    "        \n",
    "    Return\n",
    "    --------\n",
    "        feature_importances (pd.DataFrame): \n",
    "            dataframe with the feature importances from the model.\n",
    "        valid_metrics (pd.DataFrame): \n",
    "            dataframe with training and validation metrics (ROC AUC) for each fold and overall.\n",
    "        \n",
    "    \"\"\"\n",
    "    \n",
    "    # Extract the ids\n",
    "    train_ids = features['SK_ID_CURR']\n",
    "    test_ids = test_features['SK_ID_CURR']\n",
    "    if validation_features is not None:\n",
    "        validation_ids = test_features['SK_ID_CURR']\n",
    "    \n",
    "    # Extract the labels for training\n",
    "    labels = np.array(features['TARGET'].astype(int))\n",
    "    test_labels = np.array(test_features['TARGET'].astype(int))\n",
    "    if validation_features is not None:\n",
    "        validation_labels = np.array(validation_features['TARGET'].astype(int))\n",
    "    \n",
    "    # Remove the ids and target\n",
    "    features = features.drop(['SK_ID_CURR', 'TARGET'], axis=1)\n",
    "    test_features = test_features.drop(['SK_ID_CURR', 'TARGET'], axis=1)\n",
    "    if validation_features is not None:\n",
    "        validation_features = validation_features.drop(['SK_ID_CURR', 'TARGET'], axis=1)\n",
    "    \n",
    "    print('Training Data Shape: ', features.shape)\n",
    "    print('Testing Data Shape: ', test_features.shape)\n",
    "    if validation_features is not None:\n",
    "        print('Validation Data Shape: ', test_features.shape)\n",
    "    \n",
    "    # Extract feature names\n",
    "    feature_names = list(features.columns)\n",
    "    \n",
    "    # Convert to np arrays\n",
    "    features = np.array(features)\n",
    "    test_features = np.array(test_features)\n",
    "    if validation_features is not None:\n",
    "        validation_features = np.array(validation_features)\n",
    "        \n",
    "    # Create the kfold object\n",
    "    k_fold = KFold(n_splits = n_folds, shuffle = True, random_state = 50)\n",
    "    \n",
    "    # Empty array for feature importances\n",
    "    feature_importance_values = np.zeros(len(feature_names))\n",
    "    \n",
    "    # Empty array for test predictions\n",
    "    test_predictions = np.zeros(test_features.shape[0])\n",
    "    if validation_features is not None:\n",
    "        validation_predictions = np.zeros(validation_features.shape[0])\n",
    "        \n",
    "    # Empty array for out of fold validation predictions\n",
    "    out_of_fold = np.zeros(features.shape[0])\n",
    "    \n",
    "    # Lists for recording validation and training scores\n",
    "    valid_scores_auc = []\n",
    "    train_scores_auc = []\n",
    "    valid_scores_mae = []\n",
    "    train_scores_mae = []\n",
    "    \n",
    "    # Iterate through each fold\n",
    "    for train_indices, valid_indices in k_fold.split(features):\n",
    "        \n",
    "        # Training data for the fold\n",
    "        train_features, train_labels = features[train_indices], labels[train_indices]\n",
    "        # Validation data for the fold\n",
    "        valid_features, valid_labels = features[valid_indices], labels[valid_indices]\n",
    "        \n",
    "        # Create the model\n",
    "        model = lgb.LGBMClassifier(application=\"binary\", boosting_type=lgbm_params[\"boosting\"],\n",
    "                          learning_rate=lgbm_params[\"learning_rate\"],n_estimators=lgbm_params[\"n_estimators\"],\n",
    "                          reg_alpha = lgbm_params[\"reg_alpha\"], reg_lambda = lgbm_params[\"reg_lambda\"], \n",
    "                          drop_rate=lgbm_params[\"drop_rate\"],\n",
    "                          num_leaves=lgbm_params[\"num_leaves\"], max_depth=lgbm_params[\"max_depth\"],\n",
    "                          max_bin=lgbm_params[\"max_bin\"],\n",
    "                          subsample = 0.8, n_jobs = -1, random_state = 50)\n",
    "        \n",
    "        # Train the model\n",
    "        model.fit(train_features, train_labels, eval_metric = ['auc', 'mae'],\n",
    "                  eval_set = [(valid_features, valid_labels), (train_features, train_labels)],\n",
    "                  eval_names = ['valid', 'train'],\n",
    "                  early_stopping_rounds = lgbm_params[\"early_stopping_rounds\"], verbose = 200)\n",
    "        \n",
    "        # Record the best iteration\n",
    "        best_iteration = model.best_iteration_\n",
    "        \n",
    "        # Record the feature importances\n",
    "        feature_importance_values += model.feature_importances_ / k_fold.n_splits\n",
    "        \n",
    "        # Make predictions\n",
    "        test_predictions += model.predict_proba(test_features, num_iteration = best_iteration)[:, 1] / k_fold.n_splits\n",
    "        if validation_features is not None:\n",
    "            validation_predictions += model.predict_proba(validation_features, num_iteration = best_iteration)[:, 1] / k_fold.n_splits\n",
    "            \n",
    "        # Record the best score\n",
    "        valid_score_auc = model.best_score_['valid']['auc']\n",
    "        train_score_auc = model.best_score_['train']['auc']\n",
    "        valid_score_mae = model.best_score_['valid']['l1']\n",
    "        train_score_mae = model.best_score_['train']['l1']\n",
    "        \n",
    "        valid_scores_auc.append(valid_score_auc)\n",
    "        train_scores_auc.append(train_score_auc)\n",
    "        valid_scores_mae.append(valid_score_mae)\n",
    "        train_scores_mae.append(train_score_mae)\n",
    "        \n",
    "        # Clean up memory\n",
    "        gc.enable()\n",
    "        del model, train_features, valid_features\n",
    "        gc.collect()\n",
    "        \n",
    "    # Make the feature importance dataframe\n",
    "    feature_importances = pd.DataFrame({'feature': feature_names, 'importance': feature_importance_values})\n",
    "    \n",
    "    # Overall validation score\n",
    "    valid_auc = roc_auc_score(test_labels, test_predictions)\n",
    "    valid_mae = mean_absolute_error(test_labels, test_predictions)\n",
    "    if validation_features is not None:\n",
    "        validation_auc = roc_auc_score(validation_labels, validation_predictions)\n",
    "        validation_mae = mean_absolute_error(validation_labels, validation_predictions)\n",
    "    \n",
    "    # Add the overall scores to the metrics\n",
    "    valid_scores_auc.append(valid_auc)\n",
    "    train_scores_auc.append(np.mean(train_scores_auc))\n",
    "    valid_scores_mae.append(valid_mae)\n",
    "    train_scores_mae.append(np.mean(train_scores_mae))\n",
    "    \n",
    "    # Needed for creating dataframe of validation scores\n",
    "    fold_names = list(range(n_folds))\n",
    "    fold_names.append('overall')\n",
    "    \n",
    "    # Dataframe of validation scores\n",
    "    metrics = pd.DataFrame({'fold': fold_names,\n",
    "                            'train auc': train_scores_auc,\n",
    "                            'valid auc': valid_scores_auc,\n",
    "                            'train mae': train_scores_mae,\n",
    "                            'valid mae': valid_scores_mae}) \n",
    "\n",
    "    if validation_features is not None:\n",
    "        validation_metrics = pd.DataFrame({'auc': [validation_auc],\n",
    "                                           'mae': [validation_mae]}) \n",
    "    else:\n",
    "        validation_metrics = None\n",
    "        \n",
    "\n",
    "    return feature_importances, metrics, validation_metrics"
   ]
  },
  {
   "cell_type": "code",
   "execution_count": 78,
   "metadata": {},
   "outputs": [],
   "source": [
    "def plot_feature_importances(df):\n",
    "    \"\"\"\n",
    "    Plot importances returned by a model. This can work with any measure of\n",
    "    feature importance provided that higher importance is better. \n",
    "    \n",
    "    Args:\n",
    "        df (dataframe): feature importances. Must have the features in a column\n",
    "        called `features` and the importances in a column called `importance\n",
    "        \n",
    "    Returns:\n",
    "        shows a plot of the 15 most importance features\n",
    "        \n",
    "        df (dataframe): feature importances sorted by importance (highest to lowest) \n",
    "        with a column for normalized importance\n",
    "        \"\"\"\n",
    "    \n",
    "    # Sort features according to importance\n",
    "    df = df.sort_values('importance', ascending = False).reset_index()\n",
    "    \n",
    "    # Normalize the feature importances to add up to one\n",
    "    df['importance_normalized'] = df['importance'] / df['importance'].sum()\n",
    "\n",
    "    # Make a horizontal bar chart of feature importances\n",
    "    plt.figure(figsize = (10, 6))\n",
    "    ax = plt.subplot()\n",
    "    \n",
    "    # Need to reverse the index to plot most important on top\n",
    "    ax.barh(list(reversed(list(df.index[:15]))), \n",
    "            df['importance_normalized'].head(15), \n",
    "            align = 'center', edgecolor = 'k')\n",
    "    \n",
    "    # Set the yticks and labels\n",
    "    ax.set_yticks(list(reversed(list(df.index[:15]))))\n",
    "    ax.set_yticklabels(df['feature'].head(15))\n",
    "    \n",
    "    # Plot labeling\n",
    "    plt.xlabel('Normalized Importance'); plt.title('Feature Importances')\n",
    "    plt.show()\n",
    "    \n",
    "    return df"
   ]
  },
  {
   "cell_type": "code",
   "execution_count": 100,
   "metadata": {
    "ExecuteTime": {
     "end_time": "2018-08-01T20:10:48.837373Z",
     "start_time": "2018-08-01T15:38:51.651540Z"
    }
   },
   "outputs": [
    {
     "name": "stdout",
     "output_type": "stream",
     "text": [
      "Training Data Shape:  (215257, 448)\n",
      "Testing Data Shape:  (46127, 448)\n",
      "Validation Data Shape:  (46127, 448)\n",
      "Training until validation scores don't improve for 200 rounds.\n",
      "Did not meet early stopping. Best iteration is:\n",
      "[1]\tvalid's l1: 0.147311\tvalid's auc: 0.723401\ttrain's l1: 0.14792\ttrain's auc: 0.7318\n",
      "Training until validation scores don't improve for 200 rounds.\n",
      "Did not meet early stopping. Best iteration is:\n",
      "[1]\tvalid's l1: 0.148166\tvalid's auc: 0.713849\ttrain's l1: 0.147331\ttrain's auc: 0.733773\n",
      "Training until validation scores don't improve for 200 rounds.\n",
      "Did not meet early stopping. Best iteration is:\n",
      "[1]\tvalid's l1: 0.146675\tvalid's auc: 0.710136\ttrain's l1: 0.148293\ttrain's auc: 0.736016\n",
      "Training until validation scores don't improve for 200 rounds.\n",
      "Did not meet early stopping. Best iteration is:\n",
      "[1]\tvalid's l1: 0.147919\tvalid's auc: 0.720005\ttrain's l1: 0.147496\ttrain's auc: 0.733249\n",
      "Training until validation scores don't improve for 200 rounds.\n",
      "Did not meet early stopping. Best iteration is:\n",
      "[1]\tvalid's l1: 0.148745\tvalid's auc: 0.715966\ttrain's l1: 0.146973\ttrain's auc: 0.733922\n",
      "Baseline metrics\n",
      "      fold  train auc  train mae  valid auc  valid mae\n",
      "0        0   0.731800   0.147920   0.723401   0.147311\n",
      "1        1   0.733773   0.147331   0.713849   0.148166\n",
      "2        2   0.736016   0.148293   0.710136   0.146675\n",
      "3        3   0.733249   0.147496   0.720005   0.147919\n",
      "4        4   0.733922   0.146973   0.715966   0.148745\n",
      "5  overall   0.733752   0.147603   0.725214   0.146644\n"
     ]
    },
    {
     "data": {
      "image/png": "[encoded data removed]",
      "text/plain": [
       "<matplotlib.figure.Figure at 0x7f090ef09be0>"
      ]
     },
     "metadata": {},
     "output_type": "display_data"
    },
    {
     "name": "stdout",
     "output_type": "stream",
     "text": [
      "        auc       mae\n",
      "0  0.724932  0.148637\n"
     ]
    }
   ],
   "source": [
    "lgbm_params = {\n",
    "    \"boosting\":\"dart\",\n",
    "    \"application\":\"binary\",\n",
    "    \"learning_rate\": 0.1,\n",
    "    'reg_alpha':0.01,\n",
    "    'reg_lambda': 0.01,\n",
    "    \"n_estimators\":10000,\n",
    "    \"max_depth\":7,\n",
    "    \"num_leaves\":100,\n",
    "    \"max_bin\":225,\n",
    "    \"drop_rate\":0.02,\n",
    "    \"early_stopping_rounds\": 200\n",
    "}\n",
    "\n",
    "fi, metrics, validation_metrics = modelLGBM(app_train, app_test, lgbm_params=lgbm_params)\n",
    "print('Baseline metrics')\n",
    "print(metrics)\n",
    "fi_sorted = plot_feature_importances(fi)"
   ]
  },
  {
   "cell_type": "code",
   "execution_count": 80,
   "metadata": {},
   "outputs": [
    {
     "name": "stdout",
     "output_type": "stream",
     "text": [
      "Training Data Shape:  (215257, 448)\n",
      "Testing Data Shape:  (46127, 448)\n",
      "Training until validation scores don't improve for 200 rounds.\n",
      "[200]\tvalid's l1: 0.133782\tvalid's auc: 0.7506\ttrain's l1: 0.120064\ttrain's auc: 0.912934\n",
      "Early stopping, best iteration is:\n",
      "[86]\tvalid's l1: 0.135583\tvalid's auc: 0.754204\ttrain's l1: 0.128797\ttrain's auc: 0.857283\n",
      "Training until validation scores don't improve for 200 rounds.\n",
      "[200]\tvalid's l1: 0.134541\tvalid's auc: 0.748257\ttrain's l1: 0.119671\ttrain's auc: 0.911534\n",
      "Early stopping, best iteration is:\n",
      "[97]\tvalid's l1: 0.13609\tvalid's auc: 0.750568\ttrain's l1: 0.127534\ttrain's auc: 0.864312\n",
      "Training until validation scores don't improve for 200 rounds.\n",
      "[200]\tvalid's l1: 0.133348\tvalid's auc: 0.739781\ttrain's l1: 0.120461\ttrain's auc: 0.909081\n",
      "Early stopping, best iteration is:\n",
      "[98]\tvalid's l1: 0.134877\tvalid's auc: 0.741182\ttrain's l1: 0.127649\ttrain's auc: 0.865789\n",
      "Training until validation scores don't improve for 200 rounds.\n",
      "[200]\tvalid's l1: 0.134689\tvalid's auc: 0.747338\ttrain's l1: 0.12056\ttrain's auc: 0.908049\n",
      "Early stopping, best iteration is:\n",
      "[89]\tvalid's l1: 0.136315\tvalid's auc: 0.750489\ttrain's l1: 0.128261\ttrain's auc: 0.859313\n",
      "Training until validation scores don't improve for 200 rounds.\n",
      "[200]\tvalid's l1: 0.135326\tvalid's auc: 0.743101\ttrain's l1: 0.119603\ttrain's auc: 0.911701\n",
      "Early stopping, best iteration is:\n",
      "[61]\tvalid's l1: 0.13762\tvalid's auc: 0.74801\ttrain's l1: 0.130212\ttrain's auc: 0.841988\n",
      "Baseline metrics\n",
      "      fold  train auc  train mae  valid auc  valid mae\n",
      "0        0   0.857283   0.128797   0.754204   0.135583\n",
      "1        1   0.864312   0.127534   0.750568   0.136090\n",
      "2        2   0.865789   0.127649   0.741182   0.134877\n",
      "3        3   0.859313   0.128261   0.750489   0.136315\n",
      "4        4   0.841988   0.130212   0.748010   0.137620\n",
      "5  overall   0.857737   0.128491   0.748855   0.136097\n"
     ]
    },
    {
     "data": {
      "image/png": "[encoded data removed]",
      "text/plain": [
       "<matplotlib.figure.Figure at 0x7f09c2beee10>"
      ]
     },
     "metadata": {},
     "output_type": "display_data"
    }
   ],
   "source": [
    "lgbm_params = {\n",
    "    \"boosting\":\"gbdt\",\n",
    "    \"application\":\"binary\",\n",
    "    \"learning_rate\": 0.1,\n",
    "    'reg_alpha':0.1,\n",
    "    'reg_lambda': 0.1,\n",
    "    \"n_estimators\":10000,\n",
    "    \"max_depth\":7,\n",
    "    \"num_leaves\":200,\n",
    "    \"max_bin\":225,\n",
    "    \"drop_rate\":0.02,\n",
    "    \"early_stopping_rounds\": 200\n",
    "}\n",
    "\n",
    "fi, metrics = modelLGBM(app_train, app_test, lgbm_params=lgbm_params)\n",
    "print('Baseline metrics')\n",
    "print(metrics)\n",
    "fi_sorted = plot_feature_importances(fi)"
   ]
  },
  {
   "cell_type": "code",
   "execution_count": 81,
   "metadata": {
    "ExecuteTime": {
     "end_time": "2018-08-01T20:29:09.906660Z",
     "start_time": "2018-08-01T20:24:01.501459Z"
    }
   },
   "outputs": [
    {
     "name": "stdout",
     "output_type": "stream",
     "text": [
      "Training Data Shape:  (215257, 448)\n",
      "Testing Data Shape:  (46127, 448)\n",
      "Training until validation scores don't improve for 200 rounds.\n",
      "[200]\tvalid's l1: 0.135621\tvalid's auc: 0.755764\ttrain's l1: 0.131104\ttrain's auc: 0.828261\n",
      "Early stopping, best iteration is:\n",
      "[134]\tvalid's l1: 0.135961\tvalid's auc: 0.756757\ttrain's l1: 0.133003\ttrain's auc: 0.809402\n",
      "Training until validation scores don't improve for 200 rounds.\n",
      "[200]\tvalid's l1: 0.136436\tvalid's auc: 0.751696\ttrain's l1: 0.130652\ttrain's auc: 0.828086\n",
      "Early stopping, best iteration is:\n",
      "[104]\tvalid's l1: 0.13708\tvalid's auc: 0.752171\ttrain's l1: 0.133561\ttrain's auc: 0.800085\n",
      "Training until validation scores don't improve for 200 rounds.\n",
      "[200]\tvalid's l1: 0.135294\tvalid's auc: 0.74148\ttrain's l1: 0.131054\ttrain's auc: 0.829337\n",
      "Early stopping, best iteration is:\n",
      "[157]\tvalid's l1: 0.135511\tvalid's auc: 0.742536\ttrain's l1: 0.132307\ttrain's auc: 0.817467\n",
      "Training until validation scores don't improve for 200 rounds.\n",
      "[200]\tvalid's l1: 0.136441\tvalid's auc: 0.754215\ttrain's l1: 0.130953\ttrain's auc: 0.827584\n",
      "Early stopping, best iteration is:\n",
      "[117]\tvalid's l1: 0.136936\tvalid's auc: 0.754814\ttrain's l1: 0.133318\ttrain's auc: 0.80487\n",
      "Training until validation scores don't improve for 200 rounds.\n",
      "[200]\tvalid's l1: 0.137024\tvalid's auc: 0.746839\ttrain's l1: 0.130395\ttrain's auc: 0.82842\n",
      "Early stopping, best iteration is:\n",
      "[113]\tvalid's l1: 0.137526\tvalid's auc: 0.749148\ttrain's l1: 0.132993\ttrain's auc: 0.802916\n",
      "Baseline metrics\n",
      "      fold  train auc  train mae  valid auc  valid mae\n",
      "0        0   0.809402   0.133003   0.756757   0.135961\n",
      "1        1   0.800085   0.133561   0.752171   0.137080\n",
      "2        2   0.817467   0.132307   0.742536   0.135511\n",
      "3        3   0.804870   0.133318   0.754814   0.136936\n",
      "4        4   0.802916   0.132993   0.749148   0.137526\n",
      "5  overall   0.806948   0.133036   0.751054   0.136603\n"
     ]
    },
    {
     "data": {
      "image/png": "[encoded data removed]",
      "text/plain": [
       "<matplotlib.figure.Figure at 0x7f09f4183470>"
      ]
     },
     "metadata": {},
     "output_type": "display_data"
    }
   ],
   "source": [
    "lgbm_params = {\n",
    "    \"boosting\":\"gbdt\",\n",
    "    \"application\":\"binary\",\n",
    "    \"learning_rate\": 0.1,\n",
    "    'reg_alpha':0.1,\n",
    "    'reg_lambda': 0.1,\n",
    "    \"n_estimators\":10000,\n",
    "    \"max_depth\":5,\n",
    "    \"num_leaves\":200,\n",
    "    \"max_bin\":225,\n",
    "    \"drop_rate\":0.02,\n",
    "    \"early_stopping_rounds\": 200\n",
    "}\n",
    "\n",
    "fi, metrics = modelLGBM(app_train, app_test, lgbm_params=lgbm_params)\n",
    "print('Baseline metrics')\n",
    "print(metrics)\n",
    "fi_sorted = plot_feature_importances(fi)"
   ]
  },
  {
   "cell_type": "code",
   "execution_count": 82,
   "metadata": {
    "ExecuteTime": {
     "end_time": "2018-08-01T20:51:42.766249Z",
     "start_time": "2018-08-01T20:45:03.384686Z"
    }
   },
   "outputs": [
    {
     "name": "stdout",
     "output_type": "stream",
     "text": [
      "Training Data Shape:  (215257, 448)\n",
      "Testing Data Shape:  (46127, 448)\n",
      "Training until validation scores don't improve for 200 rounds.\n",
      "[200]\tvalid's l1: 0.135633\tvalid's auc: 0.7586\ttrain's l1: 0.132768\ttrain's auc: 0.805001\n",
      "Early stopping, best iteration is:\n",
      "[199]\tvalid's l1: 0.135634\tvalid's auc: 0.758607\ttrain's l1: 0.132783\ttrain's auc: 0.804923\n",
      "Training until validation scores don't improve for 200 rounds.\n",
      "[200]\tvalid's l1: 0.136347\tvalid's auc: 0.754799\ttrain's l1: 0.132395\ttrain's auc: 0.805111\n",
      "[400]\tvalid's l1: 0.135693\tvalid's auc: 0.753615\ttrain's l1: 0.128439\ttrain's auc: 0.843778\n",
      "Early stopping, best iteration is:\n",
      "[224]\tvalid's l1: 0.136259\tvalid's auc: 0.755165\ttrain's l1: 0.131917\ttrain's auc: 0.810282\n",
      "Training until validation scores don't improve for 200 rounds.\n"
     ]
    },
    {
     "ename": "KeyboardInterrupt",
     "evalue": "",
     "output_type": "error",
     "traceback": [
      "\u001b[0;31m---------------------------------------------------------------------------\u001b[0m",
      "\u001b[0;31mKeyboardInterrupt\u001b[0m                         Traceback (most recent call last)",
      "\u001b[0;32m<ipython-input-82-b3cdc7435ab8>\u001b[0m in \u001b[0;36m<module>\u001b[0;34m()\u001b[0m\n\u001b[1;32m     13\u001b[0m }\n\u001b[1;32m     14\u001b[0m \u001b[0;34m\u001b[0m\u001b[0m\n\u001b[0;32m---> 15\u001b[0;31m \u001b[0mfi\u001b[0m\u001b[0;34m,\u001b[0m \u001b[0mmetrics\u001b[0m \u001b[0;34m=\u001b[0m \u001b[0mmodel\u001b[0m\u001b[0;34m(\u001b[0m\u001b[0mapp_train\u001b[0m\u001b[0;34m,\u001b[0m \u001b[0mapp_test\u001b[0m\u001b[0;34m,\u001b[0m \u001b[0mlgbm_params\u001b[0m\u001b[0;34m=\u001b[0m\u001b[0mlgbm_params\u001b[0m\u001b[0;34m)\u001b[0m\u001b[0;34m\u001b[0m\u001b[0m\n\u001b[0m\u001b[1;32m     16\u001b[0m \u001b[0mprint\u001b[0m\u001b[0;34m(\u001b[0m\u001b[0;34m'Baseline metrics'\u001b[0m\u001b[0;34m)\u001b[0m\u001b[0;34m\u001b[0m\u001b[0m\n\u001b[1;32m     17\u001b[0m \u001b[0mprint\u001b[0m\u001b[0;34m(\u001b[0m\u001b[0mmetrics\u001b[0m\u001b[0;34m)\u001b[0m\u001b[0;34m\u001b[0m\u001b[0m\n",
      "\u001b[0;32m<ipython-input-77-cc37967c513a>\u001b[0m in \u001b[0;36mmodel\u001b[0;34m(features, test_features, lgbm_params, n_folds)\u001b[0m\n\u001b[1;32m     88\u001b[0m                   \u001b[0meval_set\u001b[0m \u001b[0;34m=\u001b[0m \u001b[0;34m[\u001b[0m\u001b[0;34m(\u001b[0m\u001b[0mvalid_features\u001b[0m\u001b[0;34m,\u001b[0m \u001b[0mvalid_labels\u001b[0m\u001b[0;34m)\u001b[0m\u001b[0;34m,\u001b[0m \u001b[0;34m(\u001b[0m\u001b[0mtrain_features\u001b[0m\u001b[0;34m,\u001b[0m \u001b[0mtrain_labels\u001b[0m\u001b[0;34m)\u001b[0m\u001b[0;34m]\u001b[0m\u001b[0;34m,\u001b[0m\u001b[0;34m\u001b[0m\u001b[0m\n\u001b[1;32m     89\u001b[0m                   \u001b[0meval_names\u001b[0m \u001b[0;34m=\u001b[0m \u001b[0;34m[\u001b[0m\u001b[0;34m'valid'\u001b[0m\u001b[0;34m,\u001b[0m \u001b[0;34m'train'\u001b[0m\u001b[0;34m]\u001b[0m\u001b[0;34m,\u001b[0m\u001b[0;34m\u001b[0m\u001b[0m\n\u001b[0;32m---> 90\u001b[0;31m                   early_stopping_rounds = lgbm_params[\"early_stopping_rounds\"], verbose = 200)\n\u001b[0m\u001b[1;32m     91\u001b[0m \u001b[0;34m\u001b[0m\u001b[0m\n\u001b[1;32m     92\u001b[0m         \u001b[0;31m# Record the best iteration\u001b[0m\u001b[0;34m\u001b[0m\u001b[0;34m\u001b[0m\u001b[0m\n",
      "\u001b[0;32m~/environments/py_on_steroids/lib/python3.6/site-packages/lightgbm/sklearn.py\u001b[0m in \u001b[0;36mfit\u001b[0;34m(self, X, y, sample_weight, init_score, eval_set, eval_names, eval_sample_weight, eval_class_weight, eval_init_score, eval_metric, early_stopping_rounds, verbose, feature_name, categorical_feature, callbacks)\u001b[0m\n\u001b[1;32m    693\u001b[0m                                         \u001b[0mverbose\u001b[0m\u001b[0;34m=\u001b[0m\u001b[0mverbose\u001b[0m\u001b[0;34m,\u001b[0m \u001b[0mfeature_name\u001b[0m\u001b[0;34m=\u001b[0m\u001b[0mfeature_name\u001b[0m\u001b[0;34m,\u001b[0m\u001b[0;34m\u001b[0m\u001b[0m\n\u001b[1;32m    694\u001b[0m                                         \u001b[0mcategorical_feature\u001b[0m\u001b[0;34m=\u001b[0m\u001b[0mcategorical_feature\u001b[0m\u001b[0;34m,\u001b[0m\u001b[0;34m\u001b[0m\u001b[0m\n\u001b[0;32m--> 695\u001b[0;31m                                         callbacks=callbacks)\n\u001b[0m\u001b[1;32m    696\u001b[0m         \u001b[0;32mreturn\u001b[0m \u001b[0mself\u001b[0m\u001b[0;34m\u001b[0m\u001b[0m\n\u001b[1;32m    697\u001b[0m \u001b[0;34m\u001b[0m\u001b[0m\n",
      "\u001b[0;32m~/environments/py_on_steroids/lib/python3.6/site-packages/lightgbm/sklearn.py\u001b[0m in \u001b[0;36mfit\u001b[0;34m(self, X, y, sample_weight, init_score, group, eval_set, eval_names, eval_sample_weight, eval_class_weight, eval_init_score, eval_group, eval_metric, early_stopping_rounds, verbose, feature_name, categorical_feature, callbacks)\u001b[0m\n\u001b[1;32m    472\u001b[0m                               \u001b[0mverbose_eval\u001b[0m\u001b[0;34m=\u001b[0m\u001b[0mverbose\u001b[0m\u001b[0;34m,\u001b[0m \u001b[0mfeature_name\u001b[0m\u001b[0;34m=\u001b[0m\u001b[0mfeature_name\u001b[0m\u001b[0;34m,\u001b[0m\u001b[0;34m\u001b[0m\u001b[0m\n\u001b[1;32m    473\u001b[0m                               \u001b[0mcategorical_feature\u001b[0m\u001b[0;34m=\u001b[0m\u001b[0mcategorical_feature\u001b[0m\u001b[0;34m,\u001b[0m\u001b[0;34m\u001b[0m\u001b[0m\n\u001b[0;32m--> 474\u001b[0;31m                               callbacks=callbacks)\n\u001b[0m\u001b[1;32m    475\u001b[0m \u001b[0;34m\u001b[0m\u001b[0m\n\u001b[1;32m    476\u001b[0m         \u001b[0;32mif\u001b[0m \u001b[0mevals_result\u001b[0m\u001b[0;34m:\u001b[0m\u001b[0;34m\u001b[0m\u001b[0m\n",
      "\u001b[0;32m~/environments/py_on_steroids/lib/python3.6/site-packages/lightgbm/engine.py\u001b[0m in \u001b[0;36mtrain\u001b[0;34m(params, train_set, num_boost_round, valid_sets, valid_names, fobj, feval, init_model, feature_name, categorical_feature, early_stopping_rounds, evals_result, verbose_eval, learning_rates, keep_training_booster, callbacks)\u001b[0m\n\u001b[1;32m    202\u001b[0m                                     evaluation_result_list=None))\n\u001b[1;32m    203\u001b[0m \u001b[0;34m\u001b[0m\u001b[0m\n\u001b[0;32m--> 204\u001b[0;31m         \u001b[0mbooster\u001b[0m\u001b[0;34m.\u001b[0m\u001b[0mupdate\u001b[0m\u001b[0;34m(\u001b[0m\u001b[0mfobj\u001b[0m\u001b[0;34m=\u001b[0m\u001b[0mfobj\u001b[0m\u001b[0;34m)\u001b[0m\u001b[0;34m\u001b[0m\u001b[0m\n\u001b[0m\u001b[1;32m    205\u001b[0m \u001b[0;34m\u001b[0m\u001b[0m\n\u001b[1;32m    206\u001b[0m         \u001b[0mevaluation_result_list\u001b[0m \u001b[0;34m=\u001b[0m \u001b[0;34m[\u001b[0m\u001b[0;34m]\u001b[0m\u001b[0;34m\u001b[0m\u001b[0m\n",
      "\u001b[0;32m~/environments/py_on_steroids/lib/python3.6/site-packages/lightgbm/basic.py\u001b[0m in \u001b[0;36mupdate\u001b[0;34m(self, train_set, fobj)\u001b[0m\n\u001b[1;32m   1526\u001b[0m             _safe_call(_LIB.LGBM_BoosterUpdateOneIter(\n\u001b[1;32m   1527\u001b[0m                 \u001b[0mself\u001b[0m\u001b[0;34m.\u001b[0m\u001b[0mhandle\u001b[0m\u001b[0;34m,\u001b[0m\u001b[0;34m\u001b[0m\u001b[0m\n\u001b[0;32m-> 1528\u001b[0;31m                 ctypes.byref(is_finished)))\n\u001b[0m\u001b[1;32m   1529\u001b[0m             \u001b[0mself\u001b[0m\u001b[0;34m.\u001b[0m\u001b[0m__is_predicted_cur_iter\u001b[0m \u001b[0;34m=\u001b[0m \u001b[0;34m[\u001b[0m\u001b[0;32mFalse\u001b[0m \u001b[0;32mfor\u001b[0m \u001b[0m_\u001b[0m \u001b[0;32min\u001b[0m \u001b[0mrange_\u001b[0m\u001b[0;34m(\u001b[0m\u001b[0mself\u001b[0m\u001b[0;34m.\u001b[0m\u001b[0m__num_dataset\u001b[0m\u001b[0;34m)\u001b[0m\u001b[0;34m]\u001b[0m\u001b[0;34m\u001b[0m\u001b[0m\n\u001b[1;32m   1530\u001b[0m             \u001b[0;32mreturn\u001b[0m \u001b[0mis_finished\u001b[0m\u001b[0;34m.\u001b[0m\u001b[0mvalue\u001b[0m \u001b[0;34m==\u001b[0m \u001b[0;36m1\u001b[0m\u001b[0;34m\u001b[0m\u001b[0m\n",
      "\u001b[0;31mKeyboardInterrupt\u001b[0m: "
     ]
    }
   ],
   "source": [
    "lgbm_params = {\n",
    "    \"boosting\":\"gbdt\",\n",
    "    \"application\":\"binary\",\n",
    "    \"learning_rate\": 0.1,\n",
    "    'reg_alpha':10,\n",
    "    'reg_lambda': 10,\n",
    "    \"n_estimators\":10000,\n",
    "    \"max_depth\":5,\n",
    "    \"num_leaves\":200,\n",
    "    \"max_bin\":225,\n",
    "    \"drop_rate\":0.02,\n",
    "    \"early_stopping_rounds\": 200\n",
    "}\n",
    "\n",
    "fi, metrics = modelLGBM(app_train, app_test, lgbm_params=lgbm_params)\n",
    "print('Baseline metrics')\n",
    "print(metrics)\n",
    "fi_sorted = plot_feature_importances(fi)"
   ]
  },
  {
   "cell_type": "code",
   "execution_count": null,
   "metadata": {},
   "outputs": [],
   "source": [
    "lgbm_params = {\n",
    "    \"boosting\":\"gbdt\",\n",
    "    \"application\":\"binary\",\n",
    "    \"learning_rate\": 0.1,\n",
    "    'reg_alpha':100,\n",
    "    'reg_lambda': 100,\n",
    "    \"n_estimators\":10000,\n",
    "    \"max_depth\":5,\n",
    "    \"num_leaves\":200,\n",
    "    \"max_bin\":225,\n",
    "    \"drop_rate\":0.02,\n",
    "    \"early_stopping_rounds\": 200\n",
    "}\n",
    "\n",
    "fi, metrics = modelLGBM(app_train, app_test, lgbm_params=lgbm_params)\n",
    "print('Baseline metrics')\n",
    "print(metrics)\n",
    "fi_sorted = plot_feature_importances(fi)"
   ]
  },
  {
   "cell_type": "code",
   "execution_count": null,
   "metadata": {
    "scrolled": false
   },
   "outputs": [],
   "source": [
    "lgbm_params = {\n",
    "    \"boosting\":\"gbdt\",\n",
    "    \"application\":\"binary\",\n",
    "    \"learning_rate\": 0.01,\n",
    "    'reg_alpha':10,\n",
    "    'reg_lambda': 10,\n",
    "    \"n_estimators\":10000,\n",
    "    \"max_depth\":5,\n",
    "    \"num_leaves\":200,\n",
    "    \"max_bin\":225,\n",
    "    \"drop_rate\":0.02,\n",
    "    \"early_stopping_rounds\": 500\n",
    "}\n",
    "\n",
    "fi, metrics = modelLGBM(app_train, app_test, lgbm_params=lgbm_params, validation_features=app_validation)\n",
    "print('Baseline metrics')\n",
    "print(metrics)\n",
    "fi_sorted = plot_feature_importances(fi)\n",
    "print(validation_metrics)"
   ]
  },
  {
   "cell_type": "markdown",
   "metadata": {},
   "source": [
    "## XGBoost"
   ]
  },
  {
   "cell_type": "code",
   "execution_count": null,
   "metadata": {},
   "outputs": [],
   "source": [
    "from sklearn.model_selection import KFold\n",
    "from sklearn.metrics import roc_auc_score, mean_absolute_error\n",
    "import xgboost as xgb\n",
    "\n",
    "import gc\n",
    "\n",
    "def modelXGBoost(features, test_features, params, n_folds = 5): \n",
    "    \"\"\"Train and test a XGBoost model using\n",
    "    cross validation. \n",
    "    \n",
    "    Parameters\n",
    "    --------\n",
    "        features (pd.DataFrame): \n",
    "            dataframe of training features to use \n",
    "            for training a model. Must include the TARGET column.\n",
    "        test_features (pd.DataFrame): \n",
    "            dataframe of testing features to use\n",
    "            for making predictions with the model. \n",
    "        \n",
    "    Return\n",
    "    --------\n",
    "        feature_importances (pd.DataFrame): \n",
    "            dataframe with the feature importances from the model.\n",
    "        valid_metrics (pd.DataFrame): \n",
    "            dataframe with training and validation metrics (ROC AUC) for each fold and overall.\n",
    "        \n",
    "    \"\"\"\n",
    "    \n",
    "    # Extract the ids\n",
    "    train_ids = features['SK_ID_CURR']\n",
    "    test_ids = test_features['SK_ID_CURR']\n",
    "    \n",
    "    # Extract the labels for training\n",
    "    labels = np.array(features['TARGET'].astype(int))\n",
    "    \n",
    "    # Remove the ids and target\n",
    "    features = features.drop(['SK_ID_CURR', 'TARGET'], axis=1)\n",
    "    test_features = test_features.drop(['SK_ID_CURR', 'TARGET'], axis=1)\n",
    "    \n",
    "    print('Training Data Shape: ', features.shape)\n",
    "    print('Testing Data Shape: ', test_features.shape)\n",
    "    \n",
    "    # Extract feature names\n",
    "    feature_names = list(features.columns)\n",
    "    \n",
    "    # Convert to np arrays\n",
    "    features = np.array(features)\n",
    "    test_features = np.array(test_features)\n",
    "    \n",
    "    # Create the kfold object\n",
    "    k_fold = KFold(n_splits = n_folds, shuffle = True, random_state = 50)\n",
    "    \n",
    "    # Empty array for feature importances\n",
    "    feature_importance_values = np.zeros(len(feature_names))\n",
    "    \n",
    "    # Empty array for test predictions\n",
    "    test_predictions = np.zeros(test_features.shape[0])\n",
    "    \n",
    "    # Empty array for out of fold validation predictions\n",
    "    out_of_fold = np.zeros(features.shape[0])\n",
    "    \n",
    "    # Lists for recording validation and training scores\n",
    "    valid_scores_auc = []\n",
    "    train_scores_auc = []\n",
    "    valid_scores_mae = []\n",
    "    train_scores_mae = []\n",
    "    \n",
    "    # Iterate through each fold\n",
    "    for train_indices, valid_indices in k_fold.split(features):\n",
    "        \n",
    "        # Training data for the fold\n",
    "        train_features, train_labels = features[train_indices], labels[train_indices]\n",
    "        # Validation data for the fold\n",
    "        valid_features, valid_labels = features[valid_indices], labels[valid_indices]\n",
    "        \n",
    "        # Create the model\n",
    "        model = xgb.XGBClassifier(learning_rate =params[\"learning_rate\"], \n",
    "                                  n_estimators=params[\"n_estimators\"], \n",
    "                                  max_depth=params[\"max_depth\"], \n",
    "                                  min_child_weight=params[\"min_child_weight\"], \n",
    "                                  subsample=params[\"subsample\"], \n",
    "                                  colsample_bytree=params[\"colsample_bytree\"], \n",
    "                                  objective= 'binary:logistic', \n",
    "                                  nthread=4, \n",
    "                                  scale_pos_weight=2, \n",
    "                                  seed=27)\n",
    "        \n",
    "        # Train the model\n",
    "        model.fit(train_features, train_labels, eval_metric = ['mae', 'auc'],\n",
    "                  eval_set = [(train_features, train_labels), (valid_features, valid_labels)],\n",
    "                  #eval_names = ['valid', 'train'],\n",
    "                  early_stopping_rounds = params[\"early_stopping_rounds\"], verbose = 200)\n",
    "        \n",
    "        # Record the best iteration\n",
    "        best_iteration = model.best_iteration\n",
    "        \n",
    "        # Record the feature importances\n",
    "        feature_importance_values += model.feature_importances_ / k_fold.n_splits\n",
    "        \n",
    "        # Make predictions\n",
    "        #test_predictions += model.predict_proba(test_features, num_iteration = best_iteration)[:, 1] / k_fold.n_splits\n",
    "        test_predictions += model.predict_proba(test_features)[:, 1] / k_fold.n_splits\n",
    "        \n",
    "        # Record the out of fold predictions\n",
    "        out_of_fold[valid_indices] = model.predict_proba(valid_features)[:, 1]\n",
    "        \n",
    "        # Record the best score\n",
    "        valid_score_auc = model.evals_result()['validation_1']['auc'][best_iteration] #model.best_score_['valid']['auc']\n",
    "        train_score_auc = model.evals_result()['validation_0']['auc'][best_iteration] #model.best_score_['train']['auc']\n",
    "        valid_score_mae = model.evals_result()['validation_1']['mae'][best_iteration] #model.best_score_['valid']['auc']\n",
    "        train_score_mae = model.evals_result()['validation_0']['mae'][best_iteration] #model.best_score_['train']['auc']\n",
    "        \n",
    "        valid_scores_auc.append(valid_score_auc)\n",
    "        train_scores_auc.append(train_score_auc)\n",
    "        valid_scores_mae.append(valid_score_mae)\n",
    "        train_scores_mae.append(train_score_mae)\n",
    "        \n",
    "        # Clean up memory\n",
    "        gc.enable()\n",
    "        del model, train_features, valid_features\n",
    "        gc.collect()\n",
    "        \n",
    "    # Make the feature importance dataframe\n",
    "    feature_importances = pd.DataFrame({'feature': feature_names, 'importance': feature_importance_values})\n",
    "    \n",
    "    # Overall validation score\n",
    "    valid_auc = roc_auc_score(labels, out_of_fold)\n",
    "    valid_mae = mean_absolute_error(labels, out_of_fold)\n",
    "    \n",
    "    # Add the overall scores to the metrics\n",
    "    valid_scores_auc.append(valid_auc)\n",
    "    train_scores_auc.append(np.mean(train_scores_auc))\n",
    "    valid_scores_mae.append(valid_mae)\n",
    "    train_scores_mae.append(np.mean(train_scores_mae))\n",
    "    \n",
    "    # Needed for creating dataframe of validation scores\n",
    "    fold_names = list(range(n_folds))\n",
    "    fold_names.append('overall')\n",
    "    \n",
    "    # Dataframe of validation scores\n",
    "    metrics = pd.DataFrame({'fold': fold_names,\n",
    "                            'train auc': train_scores_auc,\n",
    "                            'valid auc': valid_scores_auc,\n",
    "                            'train mae': train_scores_mae,\n",
    "                            'valid mae': valid_scores_mae}) \n",
    "    \n",
    "    return feature_importances, metrics"
   ]
  },
  {
   "cell_type": "code",
   "execution_count": null,
   "metadata": {},
   "outputs": [],
   "source": [
    "params = {\n",
    "    \"learning_rate\": 0.1,\n",
    "    \"n_estimators\":10000,\n",
    "    \"max_depth\":7,\n",
    "    \"min_child_weight\": 4,\n",
    "    \"subsample\": 0.8, \n",
    "    \"colsample_bytree\": 0.8,\n",
    "    \"early_stopping_rounds\": 200\n",
    "}\n",
    "\n",
    "fi, metrics = modelXGBoost(app_train, app_test, params=params)\n",
    "print('Baseline metrics')\n",
    "print(metrics)\n",
    "fi_sorted = plot_feature_importances(fi)"
   ]
  },
  {
   "cell_type": "code",
   "execution_count": null,
   "metadata": {},
   "outputs": [],
   "source": [
    "params = {\n",
    "    \"learning_rate\": 0.1,\n",
    "    \"n_estimators\": 10000,\n",
    "    \"max_depth\":5,\n",
    "    \"min_child_weight\": 40,\n",
    "    \"subsample\": 0.7, \n",
    "    \"colsample_bytree\": 0.8,\n",
    "    \"early_stopping_rounds\": 200\n",
    "}\n",
    "\n",
    "fi, metrics = modelXGBoost(app_train, app_test, params=params)\n",
    "print('Baseline metrics')\n",
    "print(metrics)\n",
    "fi_sorted = plot_feature_importances(fi)"
   ]
  },
  {
   "cell_type": "code",
   "execution_count": null,
   "metadata": {},
   "outputs": [],
   "source": [
    "params = {\n",
    "    \"learning_rate\": 0.1,\n",
    "    \"n_estimators\": 10000,\n",
    "    \"max_depth\":5,\n",
    "    \"min_child_weight\": 40,\n",
    "    \"subsample\": 0.7, \n",
    "    \"colsample_bytree\": 0.6,\n",
    "    \"early_stopping_rounds\": 200\n",
    "}\n",
    "\n",
    "fi, metrics = modelXGBoost(app_train, app_test, params=params)\n",
    "print('Baseline metrics')\n",
    "print(metrics)\n",
    "fi_sorted = plot_feature_importances(fi)"
   ]
  },
  {
   "cell_type": "code",
   "execution_count": null,
   "metadata": {},
   "outputs": [],
   "source": [
    "params = {\n",
    "    \"learning_rate\": 0.1,\n",
    "    \"n_estimators\": 10000,\n",
    "    \"max_depth\":3,\n",
    "    \"min_child_weight\": 40,\n",
    "    \"subsample\": 0.7, \n",
    "    \"colsample_bytree\": 0.8,\n",
    "    \"early_stopping_rounds\": 200\n",
    "}\n",
    "\n",
    "fi, metrics = modelXGBoost(app_train, app_test, params=params)\n",
    "print('Baseline metrics')\n",
    "print(metrics)\n",
    "fi_sorted = plot_feature_importances(fi)"
   ]
  },
  {
   "cell_type": "code",
   "execution_count": null,
   "metadata": {
    "scrolled": false
   },
   "outputs": [],
   "source": [
    "params = {\n",
    "    \"learning_rate\": 0.01,\n",
    "    \"n_estimators\": 10000,\n",
    "    \"max_depth\":5,\n",
    "    \"min_child_weight\": 40,\n",
    "    \"subsample\": 0.7, \n",
    "    \"colsample_bytree\": 0.6,\n",
    "    \"early_stopping_rounds\": 500\n",
    "}\n",
    "\n",
    "fi, metrics = modelXGBoost(app_train, app_test, params=params)\n",
    "print('Baseline metrics')\n",
    "print(metrics)\n",
    "fi_sorted = plot_feature_importances(fi)"
   ]
  },
  {
   "cell_type": "markdown",
   "metadata": {},
   "source": [
    "### Random Forest"
   ]
  },
  {
   "cell_type": "code",
   "execution_count": null,
   "metadata": {},
   "outputs": [],
   "source": [
    "from sklearn.model_selection import KFold\n",
    "from sklearn.metrics import roc_auc_score, mean_absolute_error\n",
    "from sklearn.ensemble import RandomForestClassifier\n",
    "\n",
    "import gc\n",
    "\n",
    "def modelRandomForest(features, test_features, params, n_folds = 5): \n",
    "    \"\"\"Train and test a Random Forest model using\n",
    "    cross validation. \n",
    "    \n",
    "    Parameters\n",
    "    --------\n",
    "        features (pd.DataFrame): \n",
    "            dataframe of training features to use \n",
    "            for training a model. Must include the TARGET column.\n",
    "        test_features (pd.DataFrame): \n",
    "            dataframe of testing features to use\n",
    "            for making predictions with the model. \n",
    "        \n",
    "    Return\n",
    "    --------\n",
    "        feature_importances (pd.DataFrame): \n",
    "            dataframe with the feature importances from the model.\n",
    "        valid_metrics (pd.DataFrame): \n",
    "            dataframe with training and validation metrics (ROC AUC) for each fold and overall.\n",
    "        \n",
    "    \"\"\"\n",
    "    \n",
    "    # Extract the ids\n",
    "    train_ids = features['SK_ID_CURR']\n",
    "    test_ids = test_features['SK_ID_CURR']\n",
    "    \n",
    "    # Extract the labels for training\n",
    "    labels = np.array(features['TARGET'].astype(int))\n",
    "    \n",
    "    # Remove the ids and target\n",
    "    features = features.drop(['SK_ID_CURR', 'TARGET'], axis=1)\n",
    "    test_features = test_features.drop(['SK_ID_CURR', 'TARGET'], axis=1)\n",
    "    \n",
    "    print('Training Data Shape: ', features.shape)\n",
    "    print('Testing Data Shape: ', test_features.shape)\n",
    "    \n",
    "    # Extract feature names\n",
    "    feature_names = list(features.columns)\n",
    "    \n",
    "    # Convert to np arrays\n",
    "    features = np.array(features)\n",
    "    test_features = np.array(test_features)\n",
    "    \n",
    "    # Create the kfold object\n",
    "    k_fold = KFold(n_splits = n_folds, shuffle = True, random_state = 50)\n",
    "    \n",
    "    # Empty array for feature importances\n",
    "    feature_importance_values = np.zeros(len(feature_names))\n",
    "    \n",
    "    # Empty array for test predictions\n",
    "    test_predictions = np.zeros(test_features.shape[0])\n",
    "    \n",
    "    # Empty array for out of fold validation predictions\n",
    "    out_of_fold = np.zeros(features.shape[0])\n",
    "    \n",
    "    # Lists for recording validation and training scores\n",
    "    valid_scores_auc = []\n",
    "    train_scores_auc = []\n",
    "    valid_scores_mae = []\n",
    "    train_scores_mae = []\n",
    "    \n",
    "    # Iterate through each fold\n",
    "    i = 0\n",
    "    for train_indices, valid_indices in k_fold.split(features):\n",
    "        i+=1\n",
    "        print(\"Training model\", i)\n",
    "        # Training data for the fold\n",
    "        train_features, train_labels = features[train_indices], labels[train_indices]\n",
    "        # Validation data for the fold\n",
    "        valid_features, valid_labels = features[valid_indices], labels[valid_indices]\n",
    "        \n",
    "        # Create the model\n",
    "        model = RandomForestClassifier(bootstrap=True, \n",
    "                                       class_weight=\"balanced\", \n",
    "                                       criterion=params[\"criterion\"]'gini',\n",
    "                                       max_depth=params[\"max_depth\"], \n",
    "                                       max_features=params[\"max_features\"], \n",
    "                                       #max_leaf_nodes=None,\n",
    "                                       #min_impurity_decrease=0.0, \n",
    "                                       #min_impurity_split=None,\n",
    "                                       min_samples_leaf=params[\"min_samples_leaf\"], \n",
    "                                       #min_samples_split=2,\n",
    "                                       #min_weight_fraction_leaf=0.0,\n",
    "                                       n_estimators=params[\"n_estimators\"], \n",
    "                                       n_jobs=5,\n",
    "                                       #oob_score=False, \n",
    "                                       random_state=562, \n",
    "                                       verbose=1,\n",
    "                                       warm_start=False)\n",
    "        \n",
    "        # Train the model\n",
    "        model.fit(train_features, train_labels)\n",
    "        \n",
    "        # Record the best iteration\n",
    "        # best_iteration = model.best_iteration\n",
    "        \n",
    "        # Record the feature importances\n",
    "        feature_importance_values += model.feature_importances_ / k_fold.n_splits\n",
    "        \n",
    "        # Make predictions\n",
    "        #test_predictions += model.predict_proba(test_features, num_iteration = best_iteration)[:, 1] / k_fold.n_splits\n",
    "        test_predictions += model.predict_proba(test_features)[:, 1] / k_fold.n_splits\n",
    "        \n",
    "        # Record the out of fold predictions\n",
    "        out_of_fold[valid_indices] = model.predict_proba(valid_features)[:, 1]\n",
    "        \n",
    "        t_p = model.predict_proba(train_features)[:, 1]\n",
    "        v_p = model.predict_proba(valid_features)[:, 1]\n",
    "        \n",
    "        # Record the best score\n",
    "        valid_score_auc = roc_auc_score(valid_labels, v_p)\n",
    "        train_score_auc = roc_auc_score(train_labels, t_p)\n",
    "        valid_score_mae = mean_absolute_error(valid_labels, v_p)\n",
    "        train_score_mae = mean_absolute_error(train_labels, t_p)\n",
    "        \n",
    "        valid_scores_auc.append(valid_score_auc)\n",
    "        train_scores_auc.append(train_score_auc)\n",
    "        valid_scores_mae.append(valid_score_mae)\n",
    "        train_scores_mae.append(train_score_mae)\n",
    "        \n",
    "        print(\"valid's mae: \", valid_score_mae,\"\tvalid's auc: \", valid_score_auc, \"\ttrain's mae: \", train_score_mae, \"\ttrain's auc: \", train_score_auc)\n",
    "        # Clean up memory\n",
    "        gc.enable()\n",
    "        del model, train_features, valid_features\n",
    "        gc.collect()\n",
    "        \n",
    "    # Make the feature importance dataframe\n",
    "    feature_importances = pd.DataFrame({'feature': feature_names, 'importance': feature_importance_values})\n",
    "    \n",
    "    # Overall validation score\n",
    "    valid_auc = roc_auc_score(labels, out_of_fold)\n",
    "    valid_mae = mean_absolute_error(labels, out_of_fold)\n",
    "    \n",
    "    # Add the overall scores to the metrics\n",
    "    valid_scores_auc.append(valid_auc)\n",
    "    train_scores_auc.append(np.mean(train_scores_auc))\n",
    "    valid_scores_mae.append(valid_mae)\n",
    "    train_scores_mae.append(np.mean(train_scores_mae))\n",
    "    \n",
    "    # Needed for creating dataframe of validation scores\n",
    "    fold_names = list(range(n_folds))\n",
    "    fold_names.append('overall')\n",
    "    \n",
    "    # Dataframe of validation scores\n",
    "    metrics = pd.DataFrame({'fold': fold_names,\n",
    "                            'train auc': train_scores_auc,\n",
    "                            'valid auc': valid_scores_auc,\n",
    "                            'train mae': train_scores_mae,\n",
    "                            'valid mae': valid_scores_mae}) \n",
    "    \n",
    "    return feature_importances, metrics"
   ]
  },
  {
   "cell_type": "code",
   "execution_count": null,
   "metadata": {},
   "outputs": [],
   "source": [
    "params = {\n",
    "    \"criterion\": 'gini',\n",
    "    \"n_estimators\":100,\n",
    "    \"max_features\": 0.5,\n",
    "    \"max_depth\":7,\n",
    "    \"min_samples_leaf\": 4\n",
    "}\n",
    "\n",
    "fi, metrics = modelRandomForest(app_train, app_test, params=params)\n",
    "print('Baseline metrics')\n",
    "print(metrics)\n",
    "fi_sorted = plot_feature_importances(fi)"
   ]
  },
  {
   "cell_type": "code",
   "execution_count": null,
   "metadata": {},
   "outputs": [],
   "source": [
    "params = {\n",
    "    \"criterion\": 'gini',\n",
    "    \"n_estimators\":100,\n",
    "    \"max_features\": 0.8,\n",
    "    \"max_depth\":5,\n",
    "    \"min_samples_leaf\": 4\n",
    "}\n",
    "\n",
    "fi, metrics = modelRandomForest(app_train, app_test, params=params)\n",
    "print('Baseline metrics')\n",
    "print(metrics)\n",
    "fi_sorted = plot_feature_importances(fi)"
   ]
  },
  {
   "cell_type": "code",
   "execution_count": null,
   "metadata": {},
   "outputs": [],
   "source": [
    "params = {\n",
    "    \"criterion\": 'gini',\n",
    "    \"n_estimators\":100,\n",
    "    \"max_features\": 0.3,\n",
    "    \"max_depth\":14,\n",
    "    \"min_samples_leaf\": 4\n",
    "}\n",
    "\n",
    "fi, metrics = modelRandomForest(app_train, app_test, params=params)\n",
    "print('Baseline metrics')\n",
    "print(metrics)\n",
    "fi_sorted = plot_feature_importances(fi)"
   ]
  },
  {
   "cell_type": "code",
   "execution_count": null,
   "metadata": {},
   "outputs": [],
   "source": [
    "params = {\n",
    "    \"criterion\": 'gini',\n",
    "    \"n_estimators\":100,\n",
    "    \"max_features\": 0.8,\n",
    "    \"max_depth\":14,\n",
    "    \"min_samples_leaf\": 0.001\n",
    "}\n",
    "\n",
    "fi, metrics = modelRandomForest(app_train, app_test, params=params)\n",
    "print('Baseline metrics')\n",
    "print(metrics)\n",
    "fi_sorted = plot_feature_importances(fi)"
   ]
  },
  {
   "cell_type": "code",
   "execution_count": null,
   "metadata": {},
   "outputs": [],
   "source": [
    "params = {\n",
    "    \"criterion\": 'gini',\n",
    "    \"n_estimators\":100,\n",
    "    \"max_features\": 0.8,\n",
    "    \"max_depth\":28,\n",
    "    \"min_samples_leaf\": 0.001\n",
    "}\n",
    "\n",
    "fi, metrics = modelRandomForest(app_train, app_test, params=params)\n",
    "print('Baseline metrics')\n",
    "print(metrics)\n",
    "fi_sorted = plot_feature_importances(fi)"
   ]
  },
  {
   "cell_type": "code",
   "execution_count": null,
   "metadata": {},
   "outputs": [],
   "source": [
    "params = {\n",
    "    \"criterion\": 'entropy',\n",
    "    \"n_estimators\":100,\n",
    "    \"max_features\": 0.8,\n",
    "    \"max_depth\":14,\n",
    "    \"min_samples_leaf\": 0.001\n",
    "}\n",
    "\n",
    "fi, metrics = modelRandomForest(app_train, app_test, params=params)\n",
    "print('Baseline metrics')\n",
    "print(metrics)\n",
    "fi_sorted = plot_feature_importances(fi)"
   ]
  },
  {
   "cell_type": "code",
   "execution_count": null,
   "metadata": {},
   "outputs": [],
   "source": [
    "params = {\n",
    "    \"criterion\": 'gini',\n",
    "    \"n_estimators\":1000,\n",
    "    \"max_features\": 0.8,\n",
    "    \"max_depth\":14,\n",
    "    \"min_samples_leaf\": 0.001\n",
    "}\n",
    "\n",
    "fi, metrics = modelRandomForest(app_train, app_test, params=params)\n",
    "print('Baseline metrics')\n",
    "print(metrics)\n",
    "fi_sorted = plot_feature_importances(fi)"
   ]
  }
 ],
 "metadata": {
  "kernelspec": {
   "display_name": "myconda",
   "language": "python",
   "name": "myconda"
  },
  "language_info": {
   "codemirror_mode": {
    "name": "ipython",
    "version": 3
   },
   "file_extension": ".py",
   "mimetype": "text/x-python",
   "name": "python",
   "nbconvert_exporter": "python",
   "pygments_lexer": "ipython3",
   "version": "3.6.0"
  },
  "toc": {
   "base_numbering": 1,
   "nav_menu": {},
   "number_sections": true,
   "sideBar": true,
   "skip_h1_title": false,
   "title_cell": "Table of Contents",
   "title_sidebar": "Contents",
   "toc_cell": true,
   "toc_position": {},
   "toc_section_display": true,
   "toc_window_display": true
  }
 },
 "nbformat": 4,
 "nbformat_minor": 2
}
