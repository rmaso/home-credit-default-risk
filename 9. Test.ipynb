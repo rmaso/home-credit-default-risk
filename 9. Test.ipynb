{
 "cells": [
  {
   "cell_type": "code",
   "execution_count": 1,
   "metadata": {},
   "outputs": [],
   "source": [
    "# numpy and pandas for data manipulation\n",
    "import numpy as np\n",
    "import pandas as pd \n",
    "import matplotlib.pyplot as plt\n",
    "\n",
    "from sklearn.model_selection import train_test_split"
   ]
  },
  {
   "cell_type": "code",
   "execution_count": 2,
   "metadata": {},
   "outputs": [],
   "source": [
    "data = pd.read_csv('data/eda_dataset_imputed.csv')\n",
    "\n",
    "app_train, test_1 = train_test_split(data, test_size=0.30, random_state=64)\n",
    "app_test, app_validation = train_test_split(test_1, test_size=0.5, random_state=56)"
   ]
  },
  {
   "cell_type": "code",
   "execution_count": 3,
   "metadata": {},
   "outputs": [],
   "source": [
    "train_labels = np.array(app_train['TARGET'].astype(int))\n",
    "test_labels = np.array(app_test['TARGET'].astype(int))\n",
    "validation_labels = np.array(app_validation['TARGET'].astype(int))\n"
   ]
  },
  {
   "cell_type": "code",
   "execution_count": 7,
   "metadata": {},
   "outputs": [
    {
     "data": {
      "text/plain": [
       "0.080768569663239753"
      ]
     },
     "execution_count": 7,
     "metadata": {},
     "output_type": "execute_result"
    }
   ],
   "source": [
    "sum(train_labels)/len(train_labels)"
   ]
  },
  {
   "cell_type": "code",
   "execution_count": 11,
   "metadata": {},
   "outputs": [
    {
     "name": "stdout",
     "output_type": "stream",
     "text": [
      "All zeros\n",
      "0.5 0.5 0.5\n",
      "0.0807685696632 0.0794328701195 0.081839269842\n",
      "All Ones\n",
      "0.5 0.5 0.5\n",
      "0.919231430337 0.920567129881 0.918160730158\n"
     ]
    }
   ],
   "source": [
    "from sklearn.metrics import roc_auc_score, mean_absolute_error\n",
    "\n",
    "\n",
    "print(\"All zeros\")\n",
    "print(roc_auc_score(train_labels, np.zeros(len(train_labels))), roc_auc_score(test_labels, np.zeros(len(test_labels))), roc_auc_score(validation_labels, np.zeros(len(validation_labels))))\n",
    "print(mean_absolute_error(train_labels, np.zeros(len(train_labels))), mean_absolute_error(test_labels, np.zeros(len(test_labels))), mean_absolute_error(validation_labels, np.zeros(len(validation_labels))))\n",
    "\n",
    "\n",
    "print(\"All Ones\")\n",
    "print(roc_auc_score(train_labels, np.ones(len(train_labels))), roc_auc_score(test_labels, np.ones(len(test_labels))), roc_auc_score(validation_labels, np.ones(len(validation_labels))))\n",
    "print(mean_absolute_error(train_labels, np.ones(len(train_labels))), mean_absolute_error(test_labels, np.ones(len(test_labels))), mean_absolute_error(validation_labels, np.ones(len(validation_labels))))\n",
    "\n",
    "\n"
   ]
  }
 ],
 "metadata": {
  "kernelspec": {
   "display_name": "myconda",
   "language": "python",
   "name": "myconda"
  },
  "language_info": {
   "codemirror_mode": {
    "name": "ipython",
    "version": 3
   },
   "file_extension": ".py",
   "mimetype": "text/x-python",
   "name": "python",
   "nbconvert_exporter": "python",
   "pygments_lexer": "ipython3",
   "version": "3.6.0"
  }
 },
 "nbformat": 4,
 "nbformat_minor": 2
}
