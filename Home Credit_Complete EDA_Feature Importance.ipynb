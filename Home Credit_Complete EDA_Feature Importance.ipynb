{
 "cells": [
  {
   "cell_type": "markdown",
   "metadata": {
    "toc": true
   },
   "source": [
    "<h1>Table of Contents<span class=\"tocSkip\"></span></h1>\n",
    "<div class=\"toc\"><ul class=\"toc-item\"><li><span><a href=\"#1.-Introduction\" data-toc-modified-id=\"1.-Introduction-1\"><span class=\"toc-item-num\">1&nbsp;&nbsp;</span><a id=\"1\">1. Introduction</a></a></span></li><li><span><a href=\"#2.-Retrieving-the-Data\" data-toc-modified-id=\"2.-Retrieving-the-Data-2\"><span class=\"toc-item-num\">2&nbsp;&nbsp;</span><a id=\"2\">2. Retrieving the Data</a></a></span></li><li><span><a href=\"#3.-Glimpse-of-Data\" data-toc-modified-id=\"3.-Glimpse-of-Data-3\"><span class=\"toc-item-num\">3&nbsp;&nbsp;</span><a id=\"3\">3. Glimpse of Data</a></a></span></li><li><span><a href=\"#-4-Check-for-missing-data\" data-toc-modified-id=\"-4-Check-for-missing-data-4\"><span class=\"toc-item-num\">4&nbsp;&nbsp;</span><a id=\"4\"> 4 Check for missing data</a></a></span></li><li><span><a href=\"#5.-Data-Exploration\" data-toc-modified-id=\"5.-Data-Exploration-5\"><span class=\"toc-item-num\">5&nbsp;&nbsp;</span><a id=\"5\">5. Data Exploration</a></a></span><ul class=\"toc-item\"><li><span><a href=\"#5.1-Distribution-of-AMT_CREDIT\" data-toc-modified-id=\"5.1-Distribution-of-AMT_CREDIT-5.1\"><span class=\"toc-item-num\">5.1&nbsp;&nbsp;</span><a id=\"5-1\">5.1 Distribution of AMT_CREDIT</a></a></span></li><li><span><a href=\"#5.2-Distribution-of-AMT_INCOME_TOTAL\" data-toc-modified-id=\"5.2-Distribution-of-AMT_INCOME_TOTAL-5.2\"><span class=\"toc-item-num\">5.2&nbsp;&nbsp;</span><a id=\"5-2\">5.2 Distribution of AMT_INCOME_TOTAL</a></a></span></li><li><span><a href=\"#5.3-Distribution-of-AMT_GOODS_PRICE\" data-toc-modified-id=\"5.3-Distribution-of-AMT_GOODS_PRICE-5.3\"><span class=\"toc-item-num\">5.3&nbsp;&nbsp;</span><a id=\"5-3\">5.3 Distribution of AMT_GOODS_PRICE</a></a></span></li><li><span><a href=\"#5.4-Who-accompanied-client-when-applying-for-the--application\" data-toc-modified-id=\"5.4-Who-accompanied-client-when-applying-for-the--application-5.4\"><span class=\"toc-item-num\">5.4&nbsp;&nbsp;</span><a id=\"5-4\">5.4 Who accompanied client when applying for the  application</a></a></span></li><li><span><a href=\"#5.5-Data-is-balanced-or-imbalanced\" data-toc-modified-id=\"5.5-Data-is-balanced-or-imbalanced-5.5\"><span class=\"toc-item-num\">5.5&nbsp;&nbsp;</span><a id=\"5-5\">5.5 Data is balanced or imbalanced</a></a></span></li><li><span><a href=\"#5.6-Types-of-loan\" data-toc-modified-id=\"5.6-Types-of-loan-5.6\"><span class=\"toc-item-num\">5.6&nbsp;&nbsp;</span><a id=\"5-6\">5.6 Types of loan</a></a></span></li><li><span><a href=\"#5.7-Purpose-of-loan\" data-toc-modified-id=\"5.7-Purpose-of-loan-5.7\"><span class=\"toc-item-num\">5.7&nbsp;&nbsp;</span><a id=\"5-7\">5.7 Purpose of loan</a></a></span></li><li><span><a href=\"#5.8-Income-sources-of-Applicant's-who-applied-for-loan\" data-toc-modified-id=\"5.8-Income-sources-of-Applicant's-who-applied-for-loan-5.8\"><span class=\"toc-item-num\">5.8&nbsp;&nbsp;</span><a id=\"5-8\">5.8 Income sources of Applicant's who applied for loan</a></a></span></li><li><span><a href=\"#5.9-Family-Status-of-Applicant's-who-applied-for-loan\" data-toc-modified-id=\"5.9-Family-Status-of-Applicant's-who-applied-for-loan-5.9\"><span class=\"toc-item-num\">5.9&nbsp;&nbsp;</span><a id=\"5-9\">5.9 Family Status of Applicant's who applied for loan</a></a></span></li><li><span><a href=\"#5.10-Occupation-of-Applicant's-who-applied-for-loan\" data-toc-modified-id=\"5.10-Occupation-of-Applicant's-who-applied-for-loan-5.10\"><span class=\"toc-item-num\">5.10&nbsp;&nbsp;</span><a id=\"5-10\">5.10 Occupation of Applicant's who applied for loan</a></a></span></li><li><span><a href=\"#5.11-Education-of-Applicant's-who-applied-for-loan\" data-toc-modified-id=\"5.11-Education-of-Applicant's-who-applied-for-loan-5.11\"><span class=\"toc-item-num\">5.11&nbsp;&nbsp;</span><a id=\"5-11\">5.11 Education of Applicant's who applied for loan</a></a></span></li><li><span><a href=\"#5.12-For-which-types-of-house-higher-applicant's-applied-for-loan-?\" data-toc-modified-id=\"5.12-For-which-types-of-house-higher-applicant's-applied-for-loan-?-5.12\"><span class=\"toc-item-num\">5.12&nbsp;&nbsp;</span><a id=\"5-12\">5.12 For which types of house higher applicant's applied for loan ?</a></a></span></li><li><span><a href=\"#5.13-Types-of-Organizations-who-applied-for-loan-\" data-toc-modified-id=\"5.13-Types-of-Organizations-who-applied-for-loan--5.13\"><span class=\"toc-item-num\">5.13&nbsp;&nbsp;</span><a id=\"5-13\">5.13 Types of Organizations who applied for loan </a></a></span></li><li><span><a href=\"#5.14-Exploration-in-terms-of-loan-is-repayed-or-not\" data-toc-modified-id=\"5.14-Exploration-in-terms-of-loan-is-repayed-or-not-5.14\"><span class=\"toc-item-num\">5.14&nbsp;&nbsp;</span><a id=\"5-14\">5.14 Exploration in terms of loan is repayed or not</a></a></span></li><li><span><a href=\"#5.14.1-Income-sources-of-Applicant's-in-terms-of-loan-is-repayed-or-not-in-%\" data-toc-modified-id=\"5.14.1-Income-sources-of-Applicant's-in-terms-of-loan-is-repayed-or-not-in-%-5.15\"><span class=\"toc-item-num\">5.15&nbsp;&nbsp;</span><a id=\"5-14-1\">5.14.1 Income sources of Applicant's in terms of loan is repayed or not in %</a></a></span></li><li><span><a href=\"#5.14.2-Family-Status-of-Applicant's-in-terms-of-loan-is-repayed-or-not-in-%\" data-toc-modified-id=\"5.14.2-Family-Status-of-Applicant's-in-terms-of-loan-is-repayed-or-not-in-%-5.16\"><span class=\"toc-item-num\">5.16&nbsp;&nbsp;</span><a id=\"5-14-2\">5.14.2 Family Status of Applicant's in terms of loan is repayed or not in %</a></a></span></li><li><span><a href=\"#5.14.3-Occupation-of-Applicant's-in-terms-of-loan-is-repayed-or-not-in-%\" data-toc-modified-id=\"5.14.3-Occupation-of-Applicant's-in-terms-of-loan-is-repayed-or-not-in-%-5.17\"><span class=\"toc-item-num\">5.17&nbsp;&nbsp;</span><a id=\"5-14-3\">5.14.3 Occupation of Applicant's in terms of loan is repayed or not in %</a></a></span></li><li><span><a href=\"#5.14.4-Education-of-Applicant's-in-terms-of-loan-is-repayed-or-not-in-%\" data-toc-modified-id=\"5.14.4-Education-of-Applicant's-in-terms-of-loan-is-repayed-or-not-in-%-5.18\"><span class=\"toc-item-num\">5.18&nbsp;&nbsp;</span><a id=\"5-14-4\">5.14.4 Education of Applicant's in terms of loan is repayed or not in %</a></a></span></li><li><span><a href=\"#5.14.5-For-which-types-of-house-higher-applicant's-applied-for-loan-in-terms-of-loan-is-repayed-or-not-in-%\" data-toc-modified-id=\"5.14.5-For-which-types-of-house-higher-applicant's-applied-for-loan-in-terms-of-loan-is-repayed-or-not-in-%-5.19\"><span class=\"toc-item-num\">5.19&nbsp;&nbsp;</span><a id=\"5-14-5\">5.14.5 For which types of house higher applicant's applied for loan in terms of loan is repayed or not in %</a></a></span></li><li><span><a href=\"#5.14.6-Types-of-Organizations-in-terms-of-loan-is-repayed-or-not-in-%\" data-toc-modified-id=\"5.14.6-Types-of-Organizations-in-terms-of-loan-is-repayed-or-not-in-%-5.20\"><span class=\"toc-item-num\">5.20&nbsp;&nbsp;</span><a id=\"5-14-6\">5.14.6 Types of Organizations in terms of loan is repayed or not in %</a></a></span></li><li><span><a href=\"#5.14.7-Distribution-of-Name-of-type-of-the-Suite-in-terms-of-loan-is-repayed-or-not-in-%\" data-toc-modified-id=\"5.14.7-Distribution-of-Name-of-type-of-the-Suite-in-terms-of-loan-is-repayed-or-not-in-%-5.21\"><span class=\"toc-item-num\">5.21&nbsp;&nbsp;</span><a id=\"5-14-7\">5.14.7 Distribution of Name of type of the Suite in terms of loan is repayed or not in %</a></a></span></li></ul></li><li><span><a href=\"#5.15-Exploartion-of-previous-application-data\" data-toc-modified-id=\"5.15-Exploartion-of-previous-application-data-6\"><span class=\"toc-item-num\">6&nbsp;&nbsp;</span><a id=\"5-15\">5.15 Exploartion of previous application data</a></a></span><ul class=\"toc-item\"><li><span><a href=\"#5.15.1-Contract-product-type-of-previous-application\" data-toc-modified-id=\"5.15.1-Contract-product-type-of-previous-application-6.1\"><span class=\"toc-item-num\">6.1&nbsp;&nbsp;</span><a id=\"5-15-1\">5.15.1 Contract product type of previous application</a></a></span></li><li><span><a href=\"#5.15.2-On-which-day-highest-number-of-clients-applied-in-prevoies-application\" data-toc-modified-id=\"5.15.2-On-which-day-highest-number-of-clients-applied-in-prevoies-application-6.2\"><span class=\"toc-item-num\">6.2&nbsp;&nbsp;</span><a id=\"5-15-2\">5.15.2 On which day highest number of clients applied in prevoies application</a></a></span></li><li><span><a href=\"#5.15.3-Purpose-of-cash-loan-in-previous-application\" data-toc-modified-id=\"5.15.3-Purpose-of-cash-loan-in-previous-application-6.3\"><span class=\"toc-item-num\">6.3&nbsp;&nbsp;</span><a id=\"5-15-3\">5.15.3 Purpose of cash loan in previous application</a></a></span></li><li><span><a href=\"#5.15.4-Contract-was-approved-or-not-in-previous-application\" data-toc-modified-id=\"5.15.4-Contract-was-approved-or-not-in-previous-application-6.4\"><span class=\"toc-item-num\">6.4&nbsp;&nbsp;</span><a id=\"5-15-4\">5.15.4 Contract was approved or not in previous application</a></a></span></li><li><span><a href=\"#5.15.5-Payment-method-that-client-choose-to-pay-for-the-previous-application\" data-toc-modified-id=\"5.15.5-Payment-method-that-client-choose-to-pay-for-the-previous-application-6.5\"><span class=\"toc-item-num\">6.5&nbsp;&nbsp;</span><a id=\"5-15-5\">5.15.5 Payment method that client choose to pay for the previous application</a></a></span></li><li><span><a href=\"#5.15.6-Why-was-the-previous-application-rejected-?\" data-toc-modified-id=\"5.15.6-Why-was-the-previous-application-rejected-?-6.6\"><span class=\"toc-item-num\">6.6&nbsp;&nbsp;</span><a id=\"5-15-6\">5.15.6 Why was the previous application rejected ?</a></a></span></li><li><span><a href=\"#5.15.7-Who-accompanied-client-when-applying-for-the-previous-application\" data-toc-modified-id=\"5.15.7-Who-accompanied-client-when-applying-for-the-previous-application-6.7\"><span class=\"toc-item-num\">6.7&nbsp;&nbsp;</span><a id=\"5-15-7\">5.15.7 Who accompanied client when applying for the previous application</a></a></span></li><li><span><a href=\"#5.15.8-Was-the-client-old-or-new-client-when-applying-for-the-previous-application\" data-toc-modified-id=\"5.15.8-Was-the-client-old-or-new-client-when-applying-for-the-previous-application-6.8\"><span class=\"toc-item-num\">6.8&nbsp;&nbsp;</span><a id=\"5-15-8\">5.15.8 Was the client old or new client when applying for the previous application</a></a></span></li><li><span><a href=\"#5.15.9-What-kind-of-goods-did-the-client-apply-for-in-the-previous-application\" data-toc-modified-id=\"5.15.9-What-kind-of-goods-did-the-client-apply-for-in-the-previous-application-6.9\"><span class=\"toc-item-num\">6.9&nbsp;&nbsp;</span><a id=\"5-15-9\">5.15.9 What kind of goods did the client apply for in the previous application</a></a></span></li><li><span><a href=\"#5.15.10-Was-the-previous-application-for-CASH,-POS,-CAR,-…\" data-toc-modified-id=\"5.15.10-Was-the-previous-application-for-CASH,-POS,-CAR,-…-6.10\"><span class=\"toc-item-num\">6.10&nbsp;&nbsp;</span><a id=\"5=15=10\">5.15.10 Was the previous application for CASH, POS, CAR, …</a></a></span></li><li><span><a href=\"#5.15.11-Was-the-previous-application-x-sell-or-walk-in-?\" data-toc-modified-id=\"5.15.11-Was-the-previous-application-x-sell-or-walk-in-?-6.11\"><span class=\"toc-item-num\">6.11&nbsp;&nbsp;</span><a id=\"5-15-11\">5.15.11 Was the previous application x-sell or walk-in ?</a></a></span></li><li><span><a href=\"#5.15.12-Top-channels--through-which-they-acquired-the-client-on-the-previous-application\" data-toc-modified-id=\"5.15.12-Top-channels--through-which-they-acquired-the-client-on-the-previous-application-6.12\"><span class=\"toc-item-num\">6.12&nbsp;&nbsp;</span><a id=\"5-15-12\">5.15.12 Top channels  through which they acquired the client on the previous application</a></a></span></li><li><span><a href=\"#5.15.13-Top-industry-of-the-seller\" data-toc-modified-id=\"5.15.13-Top-industry-of-the-seller-6.13\"><span class=\"toc-item-num\">6.13&nbsp;&nbsp;</span><a id=\"5-15-13\">5.15.13 Top industry of the seller</a></a></span></li><li><span><a href=\"#5.15.14-Grouped-interest-rate-into-small-medium-and-high-of-the-previous-application\" data-toc-modified-id=\"5.15.14-Grouped-interest-rate-into-small-medium-and-high-of-the-previous-application-6.14\"><span class=\"toc-item-num\">6.14&nbsp;&nbsp;</span><a id=\"5-15-14\">5.15.14 Grouped interest rate into small medium and high of the previous application</a></a></span></li><li><span><a href=\"#5.15.15-Top-Detailed-product-combination-of-the-previous-application\" data-toc-modified-id=\"5.15.15-Top-Detailed-product-combination-of-the-previous-application-6.15\"><span class=\"toc-item-num\">6.15&nbsp;&nbsp;</span><a id=\"5-15-15\">5.15.15 Top Detailed product combination of the previous application</a></a></span></li><li><span><a href=\"#5.15.16-Did-the-client-requested-insurance-during-the-previous-application\" data-toc-modified-id=\"5.15.16-Did-the-client-requested-insurance-during-the-previous-application-6.16\"><span class=\"toc-item-num\">6.16&nbsp;&nbsp;</span><a id=\"5-15-16\">5.15.16 Did the client requested insurance during the previous application</a></a></span></li></ul></li><li><span><a href=\"#6.-Pearson-Correlation-of-features\" data-toc-modified-id=\"6.-Pearson-Correlation-of-features-7\"><span class=\"toc-item-num\">7&nbsp;&nbsp;</span><a id=\"6\">6. Pearson Correlation of features</a></a></span></li><li><span><a href=\"#7.-Feature-Importance-using-Random-forest\" data-toc-modified-id=\"7.-Feature-Importance-using-Random-forest-8\"><span class=\"toc-item-num\">8&nbsp;&nbsp;</span><a id=\"7\">7. Feature Importance using Random forest</a></a></span></li><li><span><a href=\"#More-To-Come.-Stayed-Tuned\" data-toc-modified-id=\"More-To-Come.-Stayed-Tuned-9\"><span class=\"toc-item-num\">9&nbsp;&nbsp;</span>More To Come. Stayed Tuned</a></span></li></ul></div>"
   ]
  },
  {
   "cell_type": "markdown",
   "metadata": {
    "_cell_guid": "e8c21cb6-1d93-4356-962a-6523349f54b7",
    "_uuid": "c6d3d82b20ec1911d04a7fe511365f1e3b4fd8ae"
   },
   "source": [
    "![](http://www.homecredit.net/~/media/Images/H/Home-Credit-Group/image-gallery/full/image-gallery-01-11-2016-b.png)"
   ]
  },
  {
   "cell_type": "markdown",
   "metadata": {
    "_uuid": "f39845c344f54ce3c0986dbda56404f3986b3f1b"
   },
   "source": [
    "- <a href='#1'>1. Introduction</a>  \n",
    "- <a href='#2'>2. Retrieving the Data</a>\n",
    "- <a href='#3'>3. Glimpse of Data</a>\n",
    "- <a href='#4'> 4. Check for missing data</a>\n",
    "- <a href='#5'>5. Data Exploration</a>\n",
    "    - <a href='#5-1'>5.1 Distribution of AMT_CREDIT</a>\n",
    "    - <a href='#5-2'>5.2 Distribution of AMT_INCOME_TOTAL</a>\n",
    "    - <a href='#5-3'>5.3 Distribution of AMT_GOODS_PRICE</a>\n",
    "    - <a href='#5-4'>5.4 Distribution of Name of type of the Suite</a>\n",
    "    - <a href='#5-5'>5.5 Data is balanced or imbalanced</a>\n",
    "    - <a href='#5-6'>5.6 Types of loan</a>\n",
    "    - <a href='#5-7'>5.7 Purpose of loan</a>\n",
    "    - <a href='#5-8'>5.8 Income sources of Applicant's who applied for loan</a>\n",
    "    - <a href='#5-9'>5.9 Family Status of Applicant's who applied for loan</a>\n",
    "    - <a href='#5-10'>5.10 Occupation of Applicant's who applied for loan</a>\n",
    "    - <a href='#5-11'>5.11 Education of Applicant's who applied for loan</a>\n",
    "    - <a href='#5-12'>5.12 For which types of house higher applicant's applied for loan ?</a>\n",
    "    - <a href='#5-13'>5.13 Types of Organizations who applied for loan </a>\n",
    "    - <a href='#5-14'>5.14 Exploration in terms of loan is repayed or not</a>\n",
    "        - <a href='#5-14-1'>5.14.1 Income sources of Applicant's in terms of loan is repayed or not</a>\n",
    "        - <a href='#5-14-2'>5.14.2 Family Status of Applicant's in terms of loan is repayed or not</a>\n",
    "        - <a href='#5-14-3'>5.14.3 Occupation of Applicant's in terms of loan is repayed or not</a>\n",
    "        - <a href='#5-14-4'>5.14.4 Education of Applicant's in terms of loan is repayed or not</a>\n",
    "        - <a href='#5-14-5'>5.14.5 For which types of house higher applicant's applied for loan in terms of loan is repayed or not</a>\n",
    "        - <a href='#5-14-6'>5.14.6 Types of Organizations in terms of loan is repayed or not</a>\n",
    "        - <a href='#5-14-7'>5.14.7 Distribution of Name of type of the Suite in terms of loan is repayed or not</a>\n",
    "    - <a href='#5-15'>5.15 Exploartion of previous application data</a>\n",
    "        - <a href='#5-15-1'>5.15.1 Contract product type of previous application</a>\n",
    "        - <a href='#5-15-2'>5.15.2 On which day highest number of clients applied in prevoies application</a>\n",
    "        - <a href='#5-15-3'>5.15.3 Purpose of cash loan in previous application</a>\n",
    "        - <a href='#5-15-4'>5.15.4 Contract was approved or not in previous application</a>\n",
    "        - <a href='#5-15-5'>5.15.5 Payment method that client choose to pay for the previous application</a>\n",
    "        - <a href='#5-15-6'>5.15.6 Why was the previous application rejected ?</a>\n",
    "        - <a href='#5-15-7'>5.15.7 Who accompanied client when applying for the previous application</a>\n",
    "        - <a href='#5-15-8'>5.15.8 Was the client old or new client when applying for the previous application</a>\n",
    "        - <a href='#5-15-9'>5.15.9 What kind of goods did the client apply for in the previous application</a>\n",
    "        - <a href='#5=15=10'>5.15.10 Was the previous application for CASH, POS, CAR, …</a>\n",
    "        - <a href='#5-15-11'>5.15.11 Was the previous application x-sell or walk-in ?</a>\n",
    "        - <a href='#5-15-12'>5.15.12 Top channels  through which they acquired the client on the previous application</a>\n",
    "        - <a href='#5-15-13'>5.15.13 Top industry of the seller</a>\n",
    "        - <a href='#5-15-14'>5.15.14 Grouped interest rate into small medium and high of the previous application</a>\n",
    "        - <a href='#5-15-15'>5.15.15 Top Detailed product combination of the previous application</a>\n",
    "        - <a href='#5-15-16'>5.15.16 Did the client requested insurance during the previous application</a>\n",
    "- <a href='#6'>6. Pearson Correlation of features</a>\n",
    "- <a href='#7'>7. Feature Importance using Random forest</a>"
   ]
  },
  {
   "cell_type": "markdown",
   "metadata": {
    "_cell_guid": "631b9db9-a94d-4aab-9ee1-ef028b05181e",
    "_uuid": "77ae4f459f7ccb8d40f576658cde0c55a6b2b2a8"
   },
   "source": [
    "# <a id='1'>1. Introduction</a>"
   ]
  },
  {
   "cell_type": "markdown",
   "metadata": {
    "_uuid": "880ec502a492295155318817243142b2f85fe6a9"
   },
   "source": [
    "Home Credit strives to broaden financial inclusion for the unbanked population by providing a positive and safe borrowing experience. In order to make sure this underserved population has a positive loan experience, Home Credit makes use of a variety of alternative data--including telco and transactional information--to predict their clients' repayment abilities.\n",
    "\n",
    "While Home Credit is currently using various statistical and machine learning methods to make these predictions, they're challenging Kagglers to help them unlock the full potential of their data. Doing so will ensure that clients capable of repayment are not rejected and that loans are given with a principal, maturity, and repayment calendar that will empower their clients to be successful."
   ]
  },
  {
   "cell_type": "markdown",
   "metadata": {
    "_cell_guid": "524d4c51-dada-4c6a-bcba-13e768f9bc6f",
    "_uuid": "eae9d7872de9b75c028adb8cdcad02dda532ad94"
   },
   "source": [
    " # <a id='2'>2. Retrieving the Data</a>"
   ]
  },
  {
   "cell_type": "code",
   "execution_count": null,
   "metadata": {
    "_cell_guid": "8a70df85-37cf-4f42-a71c-d1f48c0a52d9",
    "_kg_hide-input": true,
    "_uuid": "99a9e3d0f7b2b2d8503477b97d11ed0c030d40c5",
    "collapsed": true
   },
   "outputs": [],
   "source": [
    "import pandas as pd # package for high-performance, easy-to-use data structures and data analysis\n",
    "import numpy as np # fundamental package for scientific computing with Python\n",
    "import matplotlib\n",
    "import matplotlib.pyplot as plt # for plotting\n",
    "import seaborn as sns # for making plots with seaborn\n",
    "color = sns.color_palette()\n",
    "import plotly.offline as py\n",
    "py.init_notebook_mode(connected=True)\n",
    "from plotly.offline import init_notebook_mode, iplot\n",
    "init_notebook_mode(connected=True)\n",
    "import plotly.graph_objs as go\n",
    "import plotly.offline as offline\n",
    "offline.init_notebook_mode()\n",
    "# from plotly import tools\n",
    "# import plotly.tools as tls\n",
    "# import squarify\n",
    "# from mpl_toolkits.basemap import Basemap\n",
    "# from numpy import array\n",
    "# from matplotlib import cm\n",
    "\n",
    "# import cufflinks and offline mode\n",
    "import cufflinks as cf\n",
    "cf.go_offline()\n",
    "\n",
    "# from sklearn import preprocessing\n",
    "# # Supress unnecessary warnings so that presentation looks clean\n",
    "# import warnings\n",
    "# warnings.filterwarnings(\"ignore\")\n",
    "\n",
    "# # Print all rows and columns\n",
    "# pd.set_option('display.max_columns', None)\n",
    "# pd.set_option('display.max_rows', None)\n"
   ]
  },
  {
   "cell_type": "code",
   "execution_count": null,
   "metadata": {
    "_cell_guid": "b1076dfc-b9ad-4769-8c92-a6c4dae69d19",
    "_kg_hide-input": true,
    "_uuid": "8f2839f25d086af736a60e9eeb907d3b93b6e0e5",
    "collapsed": true
   },
   "outputs": [],
   "source": [
    "import os\n",
    "print(os.listdir(\"../input\"))"
   ]
  },
  {
   "cell_type": "code",
   "execution_count": null,
   "metadata": {
    "_cell_guid": "79c7e3d0-c299-4dcb-8224-4455121ee9b0",
    "_kg_hide-input": true,
    "_uuid": "d629ff2d2480ee46fbb7e2d37f6b5fab8052498a",
    "collapsed": true
   },
   "outputs": [],
   "source": [
    "application_train = pd.read_csv('../input/application_train.csv')\n",
    "POS_CASH_balance = pd.read_csv('../input/POS_CASH_balance.csv')\n",
    "bureau_balance = pd.read_csv('../input/bureau_balance.csv')\n",
    "previous_application = pd.read_csv('../input/previous_application.csv')\n",
    "installments_payments = pd.read_csv('../input/installments_payments.csv')\n",
    "credit_card_balance = pd.read_csv('../input/credit_card_balance.csv')\n",
    "bureau = pd.read_csv('../input/bureau.csv')\n",
    "application_test = pd.read_csv('../input/application_test.csv')"
   ]
  },
  {
   "cell_type": "code",
   "execution_count": null,
   "metadata": {
    "_cell_guid": "a1d86b14-dff9-4bdc-acba-f20784047f86",
    "_uuid": "e9a401e7bb0604cc2e0219f80b7ab2d47b9440bd",
    "collapsed": true
   },
   "outputs": [],
   "source": [
    "print('Size of application_train data', application_train.shape)\n",
    "print('Size of POS_CASH_balance data', POS_CASH_balance.shape)\n",
    "print('Size of bureau_balance data', bureau_balance.shape)\n",
    "print('Size of previous_application data', previous_application.shape)\n",
    "print('Size of installments_payments data', installments_payments.shape)\n",
    "print('Size of credit_card_balance data', credit_card_balance.shape)\n",
    "print('Size of bureau data', bureau.shape)"
   ]
  },
  {
   "cell_type": "markdown",
   "metadata": {
    "_cell_guid": "6eaf55b2-9dad-48c2-b9f3-b190a5e20a3a",
    "_uuid": "58b8141dbaf2939b957ef0f0c2a15526774d7674"
   },
   "source": [
    "# <a id='3'>3. Glimpse of Data</a>"
   ]
  },
  {
   "cell_type": "markdown",
   "metadata": {
    "_cell_guid": "3420e50f-8508-4d8a-86ac-ba18076334b1",
    "_uuid": "bc25b022e2c35358db3eb6ffdc89329cfa4efb2c"
   },
   "source": [
    "**application_train data**"
   ]
  },
  {
   "cell_type": "code",
   "execution_count": null,
   "metadata": {
    "_cell_guid": "d8a70558-cb54-4e34-b210-21344d8e0943",
    "_kg_hide-input": true,
    "_uuid": "1e4c5a34a50d5e8cd46367562c9d553a7a02f377",
    "collapsed": true
   },
   "outputs": [],
   "source": [
    "application_train.head()"
   ]
  },
  {
   "cell_type": "code",
   "execution_count": null,
   "metadata": {
    "_cell_guid": "cf020ec7-e2a7-4cbc-8494-22460073ee90",
    "_kg_hide-input": true,
    "_uuid": "0e59960b43a7cd47ad0f60f247bd15bd99a27489",
    "collapsed": true
   },
   "outputs": [],
   "source": [
    "application_train.columns.values"
   ]
  },
  {
   "cell_type": "markdown",
   "metadata": {
    "_cell_guid": "2a02feb0-a360-4dc9-8cc7-7db56e5d9eda",
    "_uuid": "51458c441acb1850bb37d687245ec0f702c0dcb8"
   },
   "source": [
    "**POS_CASH_balance data**"
   ]
  },
  {
   "cell_type": "code",
   "execution_count": null,
   "metadata": {
    "_cell_guid": "294c2708-794a-4107-b924-61c3c86732c8",
    "_kg_hide-input": true,
    "_uuid": "43ae3cf5293ca132f15c15f198ea6c4e06c01860",
    "collapsed": true
   },
   "outputs": [],
   "source": [
    "POS_CASH_balance.head()"
   ]
  },
  {
   "cell_type": "markdown",
   "metadata": {
    "_cell_guid": "71c8293b-87f4-47db-84fc-0e181e264bde",
    "_uuid": "e39ac575c247c034c169049ed1a3c082f0c85358"
   },
   "source": [
    "**bureau_balance data**"
   ]
  },
  {
   "cell_type": "code",
   "execution_count": null,
   "metadata": {
    "_cell_guid": "0a33acd4-967b-471b-a0f2-47b3006c98f1",
    "_uuid": "ed03f746510ec053706a46783a297b4257570886",
    "collapsed": true
   },
   "outputs": [],
   "source": [
    "bureau_balance.head()"
   ]
  },
  {
   "cell_type": "markdown",
   "metadata": {
    "_cell_guid": "a12db337-43c0-497a-8d31-db71360711a1",
    "_uuid": "3fc75bdf7cdbd9d1689f7d7be30241ccacc237ad"
   },
   "source": [
    "**previous_application data**"
   ]
  },
  {
   "cell_type": "code",
   "execution_count": null,
   "metadata": {
    "_cell_guid": "e4a19ad9-3f73-4327-9bb9-69cfa3085bbe",
    "_uuid": "3020ad29299ad3b826865687bd98218787808209",
    "collapsed": true
   },
   "outputs": [],
   "source": [
    "previous_application.head()"
   ]
  },
  {
   "cell_type": "code",
   "execution_count": null,
   "metadata": {
    "_cell_guid": "27522f84-f54c-4d84-8252-ed7e86bb545a",
    "_kg_hide-input": true,
    "_uuid": "f272e8849d39214eb85eb2aa9bb4bf27f41cf112",
    "collapsed": true
   },
   "outputs": [],
   "source": [
    "previous_application.columns.values"
   ]
  },
  {
   "cell_type": "markdown",
   "metadata": {
    "_cell_guid": "b8c2976e-a327-4b8c-835b-083d7f222b7a",
    "_uuid": "e048b7f33404d91cdb45414a33f4efc5d45ab9e1"
   },
   "source": [
    "**installments_payments data**"
   ]
  },
  {
   "cell_type": "code",
   "execution_count": null,
   "metadata": {
    "_cell_guid": "9901ddbd-c74f-4e35-aabc-9e03ca3fa63f",
    "_kg_hide-input": true,
    "_uuid": "39253c04863c52e55b68ddf309d19ada13641553",
    "collapsed": true
   },
   "outputs": [],
   "source": [
    "installments_payments.head()"
   ]
  },
  {
   "cell_type": "markdown",
   "metadata": {
    "_cell_guid": "859045b3-f00a-4551-8087-9497ebeeb0e2",
    "_uuid": "96bb9263a18068267dd412ce1f698c40725dec25"
   },
   "source": [
    "**credit_card_balance data**"
   ]
  },
  {
   "cell_type": "code",
   "execution_count": null,
   "metadata": {
    "_cell_guid": "b19e5a44-95aa-4f0c-a20a-269469cce12c",
    "_kg_hide-input": true,
    "_uuid": "8489a32e3a711a3cbcb85725051a5e701ad7c1b9",
    "collapsed": true
   },
   "outputs": [],
   "source": [
    "credit_card_balance.head()"
   ]
  },
  {
   "cell_type": "code",
   "execution_count": null,
   "metadata": {
    "_cell_guid": "91b50e41-9a42-461b-8f19-ffaf2f032faa",
    "_kg_hide-input": true,
    "_uuid": "427a4d349078c5c1b9ea8dd3ce6b64299ce1d837",
    "collapsed": true
   },
   "outputs": [],
   "source": [
    "credit_card_balance.columns.values"
   ]
  },
  {
   "cell_type": "markdown",
   "metadata": {
    "_cell_guid": "7224afa7-73c8-48cd-867f-bebd25c6ba46",
    "_uuid": "6f085735e3ecf96db64cec75ff7a99994f22cf1d"
   },
   "source": [
    "**bureau data**"
   ]
  },
  {
   "cell_type": "code",
   "execution_count": null,
   "metadata": {
    "_cell_guid": "8d026574-2e20-4885-abb3-860da8c27d2f",
    "_kg_hide-input": true,
    "_uuid": "60233424455454167d57acb3b99a34fda84a4171",
    "collapsed": true
   },
   "outputs": [],
   "source": [
    "bureau.head()"
   ]
  },
  {
   "cell_type": "markdown",
   "metadata": {
    "_cell_guid": "b3bf3876-c9e4-4aa9-9033-c1caa52fd7b3",
    "_uuid": "1e4f25339189ec49f4313e6ff0bff1661adb42b5"
   },
   "source": [
    "# <a id='4'> 4 Check for missing data</a>"
   ]
  },
  {
   "cell_type": "markdown",
   "metadata": {
    "_cell_guid": "366dd436-3f8a-4555-8105-02df40d91a3c",
    "_uuid": "569ecf45d55ba3fa707febd49f86de52861f7a1e"
   },
   "source": [
    "**checking missing data in application_train **"
   ]
  },
  {
   "cell_type": "code",
   "execution_count": null,
   "metadata": {
    "_cell_guid": "6b9799ca-d61b-46d5-9927-a3abf27ae1a8",
    "_kg_hide-input": true,
    "_uuid": "511527bf89ddcf2d74a7969a2588364296dd568f",
    "collapsed": true
   },
   "outputs": [],
   "source": [
    "# checking missing data\n",
    "total = application_train.isnull().sum().sort_values(ascending = False)\n",
    "percent = (application_train.isnull().sum()/application_train.isnull().count()*100).sort_values(ascending = False)\n",
    "missing_application_train_data  = pd.concat([total, percent], axis=1, keys=['Total', 'Percent'])\n",
    "missing_application_train_data.head(20)"
   ]
  },
  {
   "cell_type": "markdown",
   "metadata": {
    "_cell_guid": "5a011fe4-3a4d-4ff1-9dc6-1ab2fc7a46a2",
    "_uuid": "e85cd209adbdc27f92c0b285ef6d2fd7e4c4cd4e"
   },
   "source": [
    "**checking missing data in POS_CASH_balance **"
   ]
  },
  {
   "cell_type": "code",
   "execution_count": null,
   "metadata": {
    "_cell_guid": "55217e93-ac75-4431-8863-aef097caf3f0",
    "_kg_hide-input": true,
    "_uuid": "056cc10b6f8f71fcd329198d5d677d572336640b",
    "collapsed": true
   },
   "outputs": [],
   "source": [
    "# checking missing data\n",
    "total = POS_CASH_balance.isnull().sum().sort_values(ascending = False)\n",
    "percent = (POS_CASH_balance.isnull().sum()/POS_CASH_balance.isnull().count()*100).sort_values(ascending = False)\n",
    "missing_POS_CASH_balance_data  = pd.concat([total, percent], axis=1, keys=['Total', 'Percent'])\n",
    "missing_POS_CASH_balance_data.head(3)"
   ]
  },
  {
   "cell_type": "markdown",
   "metadata": {
    "_cell_guid": "fa1ea90e-5a51-4b35-afd8-0580b0521d7d",
    "_uuid": "01041e6d83e53b60df80698d3f91311cc3a7763d"
   },
   "source": [
    "**checking missing data in bureau_balance **"
   ]
  },
  {
   "cell_type": "code",
   "execution_count": null,
   "metadata": {
    "_cell_guid": "8cf98376-545c-4356-89dd-87e3ae928525",
    "_kg_hide-input": true,
    "_uuid": "d5371403eb79abdc8d75f1b588d93933e13409d0",
    "collapsed": true
   },
   "outputs": [],
   "source": [
    "# checking missing data\n",
    "total = bureau_balance.isnull().sum().sort_values(ascending = False)\n",
    "percent = (bureau_balance.isnull().sum()/bureau_balance.isnull().count()*100).sort_values(ascending = False)\n",
    "missing_bureau_balance_data  = pd.concat([total, percent], axis=1, keys=['Total', 'Percent'])\n",
    "missing_bureau_balance_data.head(3)"
   ]
  },
  {
   "cell_type": "markdown",
   "metadata": {
    "_cell_guid": "6b47ac84-3cfb-48b4-b3d0-5b8669d6bd4c",
    "_uuid": "e5e886fa1dfa747e3e9abc6802ba4351b263971c"
   },
   "source": [
    "**checking missing data in previous_application **"
   ]
  },
  {
   "cell_type": "code",
   "execution_count": null,
   "metadata": {
    "_cell_guid": "83424ebd-bbcb-4511-a1b0-c8946dda300f",
    "_kg_hide-input": true,
    "_uuid": "c163ea22030858882ccb9af2e0d73a4a830497c7",
    "collapsed": true
   },
   "outputs": [],
   "source": [
    "# checking missing data\n",
    "total = previous_application.isnull().sum().sort_values(ascending = False)\n",
    "percent = (previous_application.isnull().sum()/previous_application.isnull().count()*100).sort_values(ascending = False)\n",
    "missing_previous_application_data  = pd.concat([total, percent], axis=1, keys=['Total', 'Percent'])\n",
    "missing_previous_application_data.head(15)"
   ]
  },
  {
   "cell_type": "markdown",
   "metadata": {
    "_cell_guid": "82adfb2d-7bbc-4bf7-9fb4-cbee26d52d90",
    "_uuid": "cb81be1e3223198871f38e8545432d7d2d24f4e6"
   },
   "source": [
    "**checking missing data in installments_payments **"
   ]
  },
  {
   "cell_type": "code",
   "execution_count": null,
   "metadata": {
    "_cell_guid": "6b9082d4-a638-423b-80ef-db80a0ca8a53",
    "_kg_hide-input": true,
    "_uuid": "499f8da6d58a4418887e3591fcd3bd31da205ad4",
    "collapsed": true
   },
   "outputs": [],
   "source": [
    "# checking missing data\n",
    "total = installments_payments.isnull().sum().sort_values(ascending = False)\n",
    "percent = (installments_payments.isnull().sum()/installments_payments.isnull().count()*100).sort_values(ascending = False)\n",
    "missing_installments_payments_data  = pd.concat([total, percent], axis=1, keys=['Total', 'Percent'])\n",
    "missing_installments_payments_data.head(3)"
   ]
  },
  {
   "cell_type": "markdown",
   "metadata": {
    "_cell_guid": "7cbc8de1-5cb9-4880-8587-4bb2842738c5",
    "_uuid": "28d69ecfaaaea282aaaedfe4ba7e488a76b7adb7"
   },
   "source": [
    "**checking missing data in credit_card_balance **"
   ]
  },
  {
   "cell_type": "code",
   "execution_count": null,
   "metadata": {
    "_cell_guid": "4637da5d-d0fc-451b-8831-5caf9dffd499",
    "_kg_hide-input": true,
    "_uuid": "0d09f185678aa292dedf6a04bfe43599e8446cf7",
    "collapsed": true
   },
   "outputs": [],
   "source": [
    "# checking missing data\n",
    "total = credit_card_balance.isnull().sum().sort_values(ascending = False)\n",
    "percent = (credit_card_balance.isnull().sum()/credit_card_balance.isnull().count()*100).sort_values(ascending = False)\n",
    "missing_credit_card_balance_data  = pd.concat([total, percent], axis=1, keys=['Total', 'Percent'])\n",
    "missing_credit_card_balance_data.head(10)"
   ]
  },
  {
   "cell_type": "markdown",
   "metadata": {
    "_cell_guid": "28d6dcbd-427c-44f3-b1af-4f7c1e8e77db",
    "_uuid": "e25c697fbb83bf73641ef9d879b1f11e645329fc"
   },
   "source": [
    "**checking missing data in bureau **"
   ]
  },
  {
   "cell_type": "code",
   "execution_count": null,
   "metadata": {
    "_cell_guid": "1208787b-2af9-4eaa-9d6c-4e1675f5e632",
    "_kg_hide-input": true,
    "_uuid": "c7acc0ff1d0a185895a19aa7999ae037af2a96f8",
    "collapsed": true
   },
   "outputs": [],
   "source": [
    "# checking missing data\n",
    "total = bureau.isnull().sum().sort_values(ascending = False)\n",
    "percent = (bureau.isnull().sum()/bureau.isnull().count()*100).sort_values(ascending = False)\n",
    "missing_bureau_data  = pd.concat([total, percent], axis=1, keys=['Total', 'Percent'])\n",
    "missing_bureau_data.head(8)"
   ]
  },
  {
   "cell_type": "markdown",
   "metadata": {
    "_cell_guid": "a63316d0-1adb-465f-b16e-d2788817d3f8",
    "_uuid": "65cb4804aa7a72eaeeefe47c5d75634c375dff6f"
   },
   "source": [
    "# <a id='5'>5. Data Exploration</a>"
   ]
  },
  {
   "cell_type": "markdown",
   "metadata": {
    "_cell_guid": "be41c9f5-4649-49cc-89c1-f3ffa2a9ad5d",
    "_uuid": "2ac29b8901a6d61afcb5dd83709fe7f1d346a2cf"
   },
   "source": [
    "## <a id='5-1'>5.1 Distribution of AMT_CREDIT</a>"
   ]
  },
  {
   "cell_type": "code",
   "execution_count": null,
   "metadata": {
    "_cell_guid": "c3a93bfe-6f34-41a3-ac69-48db004beb5b",
    "_kg_hide-input": true,
    "_uuid": "7fceb70a909aebd88695429266a469187834fea4",
    "collapsed": true
   },
   "outputs": [],
   "source": [
    "plt.figure(figsize=(12,5))\n",
    "plt.title(\"Distribution of AMT_CREDIT\")\n",
    "ax = sns.distplot(application_train[\"AMT_CREDIT\"])"
   ]
  },
  {
   "cell_type": "markdown",
   "metadata": {
    "_cell_guid": "0aa63cff-d756-4f41-9244-4e33f45289a2",
    "_uuid": "6f0db72c30a34ecff74671f0eeec1c3a4440ef5d"
   },
   "source": [
    "## <a id='5-2'>5.2 Distribution of AMT_INCOME_TOTAL</a>"
   ]
  },
  {
   "cell_type": "code",
   "execution_count": null,
   "metadata": {
    "_cell_guid": "fc45c404-caf9-4ab5-bce2-7f027928c9d4",
    "_kg_hide-input": true,
    "_uuid": "3918fa104e3922dd991abd3cc76152b3e14506d2",
    "collapsed": true
   },
   "outputs": [],
   "source": [
    "plt.figure(figsize=(12,5))\n",
    "plt.title(\"Distribution of AMT_INCOME_TOTAL\")\n",
    "ax = sns.distplot(application_train[\"AMT_INCOME_TOTAL\"].dropna())"
   ]
  },
  {
   "cell_type": "markdown",
   "metadata": {
    "_cell_guid": "3d4a14c7-ea4b-433e-9c33-da6b6c8ac726",
    "_uuid": "a347c59b1d88afb6e875921e88e47f27fea3e059"
   },
   "source": [
    "## <a id='5-3'>5.3 Distribution of AMT_GOODS_PRICE</a>"
   ]
  },
  {
   "cell_type": "code",
   "execution_count": null,
   "metadata": {
    "_cell_guid": "acadcf6a-1227-4515-9120-2ea142bc1d0a",
    "_kg_hide-input": true,
    "_uuid": "79877041b256c221f16d39834d969e4de34dab20",
    "collapsed": true
   },
   "outputs": [],
   "source": [
    "plt.figure(figsize=(12,5))\n",
    "plt.title(\"Distribution of AMT_GOODS_PRICE\")\n",
    "ax = sns.distplot(application_train[\"AMT_GOODS_PRICE\"].dropna())"
   ]
  },
  {
   "cell_type": "markdown",
   "metadata": {
    "_cell_guid": "ac9ebdf7-c349-4735-b4bb-d0821fd2bc7e",
    "_uuid": "026c409d01e7bb2cfb126ceafe647ec134f6775f"
   },
   "source": [
    "## <a id='5-4'>5.4 Who accompanied client when applying for the  application</a>"
   ]
  },
  {
   "cell_type": "code",
   "execution_count": null,
   "metadata": {
    "_cell_guid": "432eba00-8166-4323-bcb9-5d668b3749b0",
    "_kg_hide-input": true,
    "_uuid": "6d25e83408274ad0d711bf12af3838fb0c543ffb",
    "collapsed": true
   },
   "outputs": [],
   "source": [
    "temp = application_train[\"NAME_TYPE_SUITE\"].value_counts()\n",
    "#print(\"Total number of states : \",len(temp))\n",
    "trace = go.Bar(\n",
    "    x = temp.index,\n",
    "    y = (temp / temp.sum())*100,\n",
    ")\n",
    "data = [trace]\n",
    "layout = go.Layout(\n",
    "    title = \"Who accompanied client when applying for the  application in % \",\n",
    "    xaxis=dict(\n",
    "        title='Name of type of the Suite',\n",
    "        tickfont=dict(\n",
    "            size=14,\n",
    "            color='rgb(107, 107, 107)'\n",
    "        )\n",
    "    ),\n",
    "    yaxis=dict(\n",
    "        title='Count of Name of type of the Suite in %',\n",
    "        titlefont=dict(\n",
    "            size=16,\n",
    "            color='rgb(107, 107, 107)'\n",
    "        ),\n",
    "        tickfont=dict(\n",
    "            size=14,\n",
    "            color='rgb(107, 107, 107)'\n",
    "        )\n",
    ")\n",
    ")\n",
    "fig = go.Figure(data=data, layout=layout)\n",
    "py.iplot(fig, filename='schoolStateNames')"
   ]
  },
  {
   "cell_type": "markdown",
   "metadata": {
    "_cell_guid": "b909b399-b5e4-4efc-8761-a8f1a0ad8cd6",
    "_uuid": "386bb1f1570ddecc5c88230842ecfd71bb3b761c"
   },
   "source": [
    "## <a id='5-5'>5.5 Data is balanced or imbalanced</a>"
   ]
  },
  {
   "cell_type": "code",
   "execution_count": null,
   "metadata": {
    "_cell_guid": "c69e95e4-2806-47cc-81d7-7aa1020d19b5",
    "_kg_hide-input": true,
    "_uuid": "54e80c90bb1fa958ea363a85a851b80138b9f48c",
    "collapsed": true
   },
   "outputs": [],
   "source": [
    "temp = application_train[\"TARGET\"].value_counts()\n",
    "df = pd.DataFrame({'labels': temp.index,\n",
    "                   'values': temp.values\n",
    "                  })\n",
    "df.iplot(kind='pie',labels='labels',values='values', title='Loan Repayed or not')"
   ]
  },
  {
   "cell_type": "markdown",
   "metadata": {
    "_cell_guid": "79b6d53e-7e50-4da5-afea-985ae8892a55",
    "_uuid": "a6c650bd9de4d099d3a98722bb1b176ec118e497"
   },
   "source": [
    "* As we can see data is highly imbalanced."
   ]
  },
  {
   "cell_type": "markdown",
   "metadata": {
    "_cell_guid": "8899990b-d9a3-42bb-a231-ecfba0eb891d",
    "_uuid": "fffd8aaab0827bf53284bea8474da635953b65a0"
   },
   "source": [
    "## <a id='5-6'>5.6 Types of loan</a>"
   ]
  },
  {
   "cell_type": "markdown",
   "metadata": {
    "_cell_guid": "513a1961-0d85-4020-86b1-e57a866149d0",
    "_uuid": "997e682e73b03680361ed1c3ffa4b8d6161d67f5"
   },
   "source": [
    "* **Rovolving loans :**  Arrangement which allows for the loan amount to be withdrawn, repaid, and redrawn again in any manner and any number of times, until the arrangement expires. Credit card loans and overdrafts are revolving loans. Also called evergreen loan"
   ]
  },
  {
   "cell_type": "code",
   "execution_count": null,
   "metadata": {
    "_cell_guid": "f7f5d9d3-7e30-49c0-92d7-9f1ba91aa871",
    "_kg_hide-input": true,
    "_uuid": "bf7fc1691347cf2c2fa4dcfbfbe7873b67d9bddd",
    "collapsed": true
   },
   "outputs": [],
   "source": [
    "temp = application_train[\"NAME_CONTRACT_TYPE\"].value_counts()\n",
    "fig = {\n",
    "  \"data\": [\n",
    "    {\n",
    "      \"values\": temp.values,\n",
    "      \"labels\": temp.index,\n",
    "      \"domain\": {\"x\": [0, .48]},\n",
    "      #\"name\": \"Types of Loans\",\n",
    "      #\"hoverinfo\":\"label+percent+name\",\n",
    "      \"hole\": .7,\n",
    "      \"type\": \"pie\"\n",
    "    },\n",
    "    \n",
    "    ],\n",
    "  \"layout\": {\n",
    "        \"title\":\"Types of loan\",\n",
    "        \"annotations\": [\n",
    "            {\n",
    "                \"font\": {\n",
    "                    \"size\": 20\n",
    "                },\n",
    "                \"showarrow\": False,\n",
    "                \"text\": \"Loan Types\",\n",
    "                \"x\": 0.17,\n",
    "                \"y\": 0.5\n",
    "            }\n",
    "            \n",
    "        ]\n",
    "    }\n",
    "}\n",
    "iplot(fig, filename='donut')"
   ]
  },
  {
   "cell_type": "markdown",
   "metadata": {
    "_cell_guid": "231426d5-d5ce-4e74-a187-9fde6be726e0",
    "_uuid": "3d4df15ed585870a049bb73ef808267db11bf8a2"
   },
   "source": [
    "* Most of the loans are Cash loans which were taken by applicants. **90.5 %** loans are Cash loans."
   ]
  },
  {
   "cell_type": "markdown",
   "metadata": {
    "_cell_guid": "f5f4fb32-bc35-4c11-a3a5-eeb0c52a510b",
    "_uuid": "43e4c868a147fccc1f51d97b490e09cb9e4517da"
   },
   "source": [
    "## <a id='5-7'>5.7 Purpose of loan</a>"
   ]
  },
  {
   "cell_type": "code",
   "execution_count": null,
   "metadata": {
    "_cell_guid": "958e658e-18e6-4e7a-9076-f159305fe5b3",
    "_kg_hide-input": true,
    "_uuid": "668accf7033ff1128b4c7bf7d2276394f8de79ff",
    "collapsed": true
   },
   "outputs": [],
   "source": [
    "temp1 = application_train[\"FLAG_OWN_CAR\"].value_counts()\n",
    "temp2 = application_train[\"FLAG_OWN_REALTY\"].value_counts()\n",
    "\n",
    "fig = {\n",
    "  \"data\": [\n",
    "    {\n",
    "      \"values\": temp1.values,\n",
    "      \"labels\": temp1.index,\n",
    "      \"domain\": {\"x\": [0, .48]},\n",
    "      \"name\": \"Own Car\",\n",
    "      \"hoverinfo\":\"label+percent+name\",\n",
    "      \"hole\": .6,\n",
    "      \"type\": \"pie\"\n",
    "    },\n",
    "    {\n",
    "      \"values\": temp2.values,\n",
    "      \"labels\": temp2.index,\n",
    "      \"text\":\"Own Realty\",\n",
    "      \"textposition\":\"inside\",\n",
    "      \"domain\": {\"x\": [.52, 1]},\n",
    "      \"name\": \"Own Reality\",\n",
    "      \"hoverinfo\":\"label+percent+name\",\n",
    "      \"hole\": .6,\n",
    "      \"type\": \"pie\"\n",
    "    }],\n",
    "  \"layout\": {\n",
    "        \"title\":\"Purpose of loan\",\n",
    "        \"annotations\": [\n",
    "            {\n",
    "                \"font\": {\n",
    "                    \"size\": 20\n",
    "                },\n",
    "                \"showarrow\": False,\n",
    "                \"text\": \"Own Car\",\n",
    "                \"x\": 0.20,\n",
    "                \"y\": 0.5\n",
    "            },\n",
    "            {\n",
    "                \"font\": {\n",
    "                    \"size\": 20\n",
    "                },\n",
    "                \"showarrow\": False,\n",
    "                \"text\": \"Own Realty\",\n",
    "                \"x\": 0.8,\n",
    "                \"y\": 0.5\n",
    "            }\n",
    "        ]\n",
    "    }\n",
    "}\n",
    "iplot(fig, filename='donut')\n",
    "\n"
   ]
  },
  {
   "cell_type": "markdown",
   "metadata": {
    "_cell_guid": "d4aeda7b-8658-4c8a-85be-a039d73b6dae",
    "_uuid": "12b2716a2d49cfa3fbdee210fb7f3822b201048f"
   },
   "source": [
    "## <a id='5-8'>5.8 Income sources of Applicant's who applied for loan</a>"
   ]
  },
  {
   "cell_type": "code",
   "execution_count": null,
   "metadata": {
    "_cell_guid": "c003b408-b8cf-4b1c-8d21-6643bdb46c53",
    "_kg_hide-input": true,
    "_uuid": "d854d5047695f7276978490e1b9300aaca7e430a",
    "collapsed": true
   },
   "outputs": [],
   "source": [
    "temp = application_train[\"NAME_INCOME_TYPE\"].value_counts()\n",
    "df = pd.DataFrame({'labels': temp.index,\n",
    "                   'values': temp.values\n",
    "                  })\n",
    "df.iplot(kind='pie',labels='labels',values='values', title='Income sources of Applicant\\'s', hole = 0.5)"
   ]
  },
  {
   "cell_type": "markdown",
   "metadata": {
    "_cell_guid": "480fb3ea-67d9-4e9f-8c5e-3ecd18f3bbea",
    "_uuid": "fcdc06c5d982735b119cb6e90c5a3361b196d503"
   },
   "source": [
    "* 51.6 % Applicants mentioned that they are working.  23.3 % are Commercial Associate and 18 % are Pensioner etc. "
   ]
  },
  {
   "cell_type": "markdown",
   "metadata": {
    "_cell_guid": "789146d9-de4a-4fa7-a386-007bc729083f",
    "_uuid": "9a432fd54b11cbdf3f8d45a0db6b07e05d9a1dda"
   },
   "source": [
    "## <a id='5-9'>5.9 Family Status of Applicant's who applied for loan</a>"
   ]
  },
  {
   "cell_type": "code",
   "execution_count": null,
   "metadata": {
    "_cell_guid": "8a083df4-9395-4005-9547-d61ef40442fb",
    "_kg_hide-input": true,
    "_uuid": "5bc0d87f57eb89332e3fda0e6b3f326287eae65a",
    "collapsed": true
   },
   "outputs": [],
   "source": [
    "temp = application_train[\"NAME_FAMILY_STATUS\"].value_counts()\n",
    "df = pd.DataFrame({'labels': temp.index,\n",
    "                   'values': temp.values\n",
    "                  })\n",
    "df.iplot(kind='pie',labels='labels',values='values', title='Family Status of Applicant\\'s', hole = 0.5)"
   ]
  },
  {
   "cell_type": "markdown",
   "metadata": {
    "_cell_guid": "4c735ab8-2319-4f9b-8b6d-f60622c7d139",
    "_uuid": "f8fa8334881da2ab5fd27a30db35600c2b3d9dd7"
   },
   "source": [
    "* 63.9 % applicants are married. 14.8 % are single etc."
   ]
  },
  {
   "cell_type": "markdown",
   "metadata": {
    "_cell_guid": "fd9fd6b2-085f-4a8e-a909-b7ccaefbb43d",
    "_uuid": "953bcd9b7b946c17c8c538609b7de07b4be4494c"
   },
   "source": [
    "## <a id='5-10'>5.10 Occupation of Applicant's who applied for loan</a>"
   ]
  },
  {
   "cell_type": "code",
   "execution_count": null,
   "metadata": {
    "_cell_guid": "e2c0c311-50cc-4e8a-8114-dd1aaf25cc28",
    "_kg_hide-input": true,
    "_uuid": "cbeb67aebe2ae4b1ad1e9c3e020ee85bb4838d2f",
    "collapsed": true
   },
   "outputs": [],
   "source": [
    "temp = application_train[\"OCCUPATION_TYPE\"].value_counts()\n",
    "temp.iplot(kind='bar', xTitle = 'Occupation', yTitle = \"Count\", title = 'Occupation of Applicant\\'s who applied for loan', color = 'green')"
   ]
  },
  {
   "cell_type": "markdown",
   "metadata": {
    "_cell_guid": "66239ac2-d487-468f-b684-cb756e9b2b7f",
    "_uuid": "2c26a32b1ee6b5bcd7834a97a30a3ac615ec25e9"
   },
   "source": [
    "* **Top Applicant's who applied for loan :**\n",
    "  * Laborers - Apprx. 55 K\n",
    "  * Sales Staff - Approx. 32 K\n",
    "  * Core staff - Approx. 28 K\n",
    "  * Managers - Approx. 21 K\n",
    "  * Drivers - Approx. 19 K"
   ]
  },
  {
   "cell_type": "markdown",
   "metadata": {
    "_cell_guid": "38e7d546-490b-42e4-8bfa-2ddbdda7c8e4",
    "_uuid": "ffcf5d16f6f6b9f350402d8975e7494e646ae19c"
   },
   "source": [
    "## <a id='5-11'>5.11 Education of Applicant's who applied for loan</a>"
   ]
  },
  {
   "cell_type": "code",
   "execution_count": null,
   "metadata": {
    "_cell_guid": "658df347-ac81-4702-892b-35edbc520f26",
    "_kg_hide-input": true,
    "_uuid": "2cc8b4779239d5b4022e8205b8a666198c292203",
    "collapsed": true
   },
   "outputs": [],
   "source": [
    "temp = application_train[\"NAME_EDUCATION_TYPE\"].value_counts()\n",
    "df = pd.DataFrame({'labels': temp.index,\n",
    "                   'values': temp.values\n",
    "                  })\n",
    "df.iplot(kind='pie',labels='labels',values='values', title='Education of Applicant\\'s', hole = 0.5)"
   ]
  },
  {
   "cell_type": "markdown",
   "metadata": {
    "_cell_guid": "c12ac4de-c5f5-4147-8e26-a24619183b18",
    "_uuid": "0716e37411bb805c7c41a6adfc87db3f0f25facf"
   },
   "source": [
    "* 71 % applicants have secondary and 24.3 % having higher education."
   ]
  },
  {
   "cell_type": "markdown",
   "metadata": {
    "_cell_guid": "39fab4aa-f1f2-4f69-9cf3-7285cfbd90db",
    "_uuid": "88c0f4ca7430f7a5bc271bdf6fce0b31d142eb34"
   },
   "source": [
    "## <a id='5-12'>5.12 For which types of house higher applicant's applied for loan ?</a>"
   ]
  },
  {
   "cell_type": "code",
   "execution_count": null,
   "metadata": {
    "_cell_guid": "839f2003-c306-4b70-b611-a8eb31700e86",
    "_kg_hide-input": true,
    "_kg_hide-output": false,
    "_uuid": "78db92c864f33c19d308eb1b6ca0abd6738c9719",
    "collapsed": true
   },
   "outputs": [],
   "source": [
    "temp = application_train[\"NAME_HOUSING_TYPE\"].value_counts()\n",
    "df = pd.DataFrame({'labels': temp.index,\n",
    "                   'values': temp.values\n",
    "                  })\n",
    "df.iplot(kind='pie',labels='labels',values='values', title='Type of House', hole = 0.5)"
   ]
  },
  {
   "cell_type": "markdown",
   "metadata": {
    "_cell_guid": "4c188d39-547e-4aff-9049-3ee61cd45613",
    "_uuid": "9367ec5434208420eec2380e3f4ad523cdd97023"
   },
   "source": [
    "* Approx. 89 % peoples applied for loan, they mentioned type of house is **House / Appartment**."
   ]
  },
  {
   "cell_type": "markdown",
   "metadata": {
    "_cell_guid": "2ad4af55-8d40-4700-b1f2-19896c641082",
    "_uuid": "359928d033441d8d812c55c7eba45adaf7876420"
   },
   "source": [
    "## <a id='5-13'>5.13 Types of Organizations who applied for loan </a>"
   ]
  },
  {
   "cell_type": "code",
   "execution_count": null,
   "metadata": {
    "_cell_guid": "94e428c8-7466-4592-9457-b705c78f7783",
    "_kg_hide-input": true,
    "_uuid": "c44846855471455afd76ca446e3da95160f73055",
    "collapsed": true
   },
   "outputs": [],
   "source": [
    "temp = application_train[\"ORGANIZATION_TYPE\"].value_counts()\n",
    "temp.iplot(kind='bar', xTitle = 'Organization Name', yTitle = \"Count\", title = 'Types of Organizations who applied for loan ', color = 'red')"
   ]
  },
  {
   "cell_type": "markdown",
   "metadata": {
    "_cell_guid": "ee11769f-31e2-43e6-a6b8-e43bf0a0eef8",
    "_uuid": "4c650f4009ff4ac218f1de8a7b3d42a38183db03"
   },
   "source": [
    "* **Types of Organizations who applied for loan :**\n",
    "  * Business Entity Type 3 - Approx. 68 K\n",
    "  * XNA - Approx. 55 K\n",
    "  * Self employed - Approx. 38 K\n",
    "  * Others - Approx. 17 K\n",
    "  * Medicine - Approx. 11 K\n",
    " "
   ]
  },
  {
   "cell_type": "markdown",
   "metadata": {
    "_cell_guid": "8b9c4d3b-ec67-416d-a08b-b035cf9b64a9",
    "_uuid": "8594cf915232d133be2a291964c931f063e55217"
   },
   "source": [
    "## <a id='5-14'>5.14 Exploration in terms of loan is repayed or not</a>"
   ]
  },
  {
   "cell_type": "markdown",
   "metadata": {
    "_cell_guid": "56f53040-05fd-4ae3-8926-44abbe6c3701",
    "_uuid": "aed46fc7bb4e90b4dde1d626e030a0c77162b2c0"
   },
   "source": [
    "## <a id='5-14-1'>5.14.1 Income sources of Applicant's in terms of loan is repayed or not in %</a>"
   ]
  },
  {
   "cell_type": "code",
   "execution_count": null,
   "metadata": {
    "_cell_guid": "27745f99-49c4-401d-895a-8436c9b25501",
    "_kg_hide-input": true,
    "_uuid": "c7a697b9a6482414d52a4003a9bbbd1dd01c6483",
    "collapsed": true
   },
   "outputs": [],
   "source": [
    "temp = application_train[\"NAME_INCOME_TYPE\"].value_counts()\n",
    "#print(temp.values)\n",
    "temp_y0 = []\n",
    "temp_y1 = []\n",
    "for val in temp.index:\n",
    "    temp_y1.append(np.sum(application_train[\"TARGET\"][application_train[\"NAME_INCOME_TYPE\"]==val] == 1))\n",
    "    temp_y0.append(np.sum(application_train[\"TARGET\"][application_train[\"NAME_INCOME_TYPE\"]==val] == 0))    \n",
    "trace1 = go.Bar(\n",
    "    x = temp.index,\n",
    "    y = (temp_y1 / temp.sum()) * 100,\n",
    "    name='YES'\n",
    ")\n",
    "trace2 = go.Bar(\n",
    "    x = temp.index,\n",
    "    y = (temp_y0 / temp.sum()) * 100, \n",
    "    name='NO'\n",
    ")\n",
    "\n",
    "data = [trace1, trace2]\n",
    "layout = go.Layout(\n",
    "    title = \"Income sources of Applicant's in terms of loan is repayed or not  in %\",\n",
    "    #barmode='stack',\n",
    "    width = 1000,\n",
    "    xaxis=dict(\n",
    "        title='Income source',\n",
    "        tickfont=dict(\n",
    "            size=14,\n",
    "            color='rgb(107, 107, 107)'\n",
    "        )\n",
    "    ),\n",
    "    yaxis=dict(\n",
    "        title='Count in %',\n",
    "        titlefont=dict(\n",
    "            size=16,\n",
    "            color='rgb(107, 107, 107)'\n",
    "        ),\n",
    "        tickfont=dict(\n",
    "            size=14,\n",
    "            color='rgb(107, 107, 107)'\n",
    "        )\n",
    ")\n",
    ")\n",
    "\n",
    "fig = go.Figure(data=data, layout=layout)\n",
    "iplot(fig)"
   ]
  },
  {
   "cell_type": "markdown",
   "metadata": {
    "_cell_guid": "3d838402-03db-49f8-913f-065602dfde1b",
    "_uuid": "b886039b24af887b63ee95b52a75446e44c43f1b"
   },
   "source": [
    "## <a id='5-14-2'>5.14.2 Family Status of Applicant's in terms of loan is repayed or not in %</a>"
   ]
  },
  {
   "cell_type": "code",
   "execution_count": null,
   "metadata": {
    "_cell_guid": "92788f8c-8603-4e33-8397-79bf532c7023",
    "_kg_hide-input": true,
    "_uuid": "bc9bd93b4296754b61d40786d2727aa9d66d4927",
    "collapsed": true
   },
   "outputs": [],
   "source": [
    "temp = application_train[\"NAME_FAMILY_STATUS\"].value_counts()\n",
    "#print(temp.values)\n",
    "temp_y0 = []\n",
    "temp_y1 = []\n",
    "for val in temp.index:\n",
    "    temp_y1.append(np.sum(application_train[\"TARGET\"][application_train[\"NAME_FAMILY_STATUS\"]==val] == 1))\n",
    "    temp_y0.append(np.sum(application_train[\"TARGET\"][application_train[\"NAME_FAMILY_STATUS\"]==val] == 0))    \n",
    "trace1 = go.Bar(\n",
    "    x = temp.index,\n",
    "    y = (temp_y1 / temp.sum()) * 100,\n",
    "    name='YES'\n",
    ")\n",
    "trace2 = go.Bar(\n",
    "    x = temp.index,\n",
    "    y = (temp_y0 / temp.sum()) * 100, \n",
    "    name='NO'\n",
    ")\n",
    "\n",
    "data = [trace1, trace2]\n",
    "layout = go.Layout(\n",
    "    title = \"Family Status of Applicant's in terms of loan is repayed or not in %\",\n",
    "    #barmode='stack',\n",
    "    width = 1000,\n",
    "    xaxis=dict(\n",
    "        title='Family Status',\n",
    "        tickfont=dict(\n",
    "            size=14,\n",
    "            color='rgb(107, 107, 107)'\n",
    "        )\n",
    "    ),\n",
    "    yaxis=dict(\n",
    "        title='Count in %',\n",
    "        titlefont=dict(\n",
    "            size=16,\n",
    "            color='rgb(107, 107, 107)'\n",
    "        ),\n",
    "        tickfont=dict(\n",
    "            size=14,\n",
    "            color='rgb(107, 107, 107)'\n",
    "        )\n",
    ")\n",
    ")\n",
    "\n",
    "fig = go.Figure(data=data, layout=layout)\n",
    "iplot(fig)"
   ]
  },
  {
   "cell_type": "markdown",
   "metadata": {
    "_cell_guid": "bceac935-bdb1-422e-9525-29931e010638",
    "_uuid": "2d858491a994780e22162bafb908305913edd475"
   },
   "source": [
    "## <a id='5-14-3'>5.14.3 Occupation of Applicant's in terms of loan is repayed or not in %</a>"
   ]
  },
  {
   "cell_type": "code",
   "execution_count": null,
   "metadata": {
    "_cell_guid": "6ab4926d-8026-40f9-99a6-297b7fffefdc",
    "_kg_hide-input": true,
    "_uuid": "22441ff315557f45b3f8bd56acb78f8cdd6077cf",
    "collapsed": true
   },
   "outputs": [],
   "source": [
    "temp = application_train[\"OCCUPATION_TYPE\"].value_counts()\n",
    "#print(temp.values)\n",
    "temp_y0 = []\n",
    "temp_y1 = []\n",
    "for val in temp.index:\n",
    "    temp_y1.append(np.sum(application_train[\"TARGET\"][application_train[\"OCCUPATION_TYPE\"]==val] == 1))\n",
    "    temp_y0.append(np.sum(application_train[\"TARGET\"][application_train[\"OCCUPATION_TYPE\"]==val] == 0))    \n",
    "trace1 = go.Bar(\n",
    "    x = temp.index,\n",
    "    y = (temp_y1 / temp.sum()) * 100,\n",
    "    name='YES'\n",
    ")\n",
    "trace2 = go.Bar(\n",
    "    x = temp.index,\n",
    "    y = (temp_y0 / temp.sum()) * 100, \n",
    "    name='NO'\n",
    ")\n",
    "\n",
    "data = [trace1, trace2]\n",
    "layout = go.Layout(\n",
    "    title = \"Occupation of Applicant's in terms of loan is repayed or not in %\",\n",
    "    #barmode='stack',\n",
    "    width = 1000,\n",
    "    xaxis=dict(\n",
    "        title='Occupation of Applicant\\'s',\n",
    "        tickfont=dict(\n",
    "            size=14,\n",
    "            color='rgb(107, 107, 107)'\n",
    "        )\n",
    "    ),\n",
    "    yaxis=dict(\n",
    "        title='Count in %',\n",
    "        titlefont=dict(\n",
    "            size=16,\n",
    "            color='rgb(107, 107, 107)'\n",
    "        ),\n",
    "        tickfont=dict(\n",
    "            size=14,\n",
    "            color='rgb(107, 107, 107)'\n",
    "        )\n",
    ")\n",
    ")\n",
    "\n",
    "fig = go.Figure(data=data, layout=layout)\n",
    "iplot(fig)"
   ]
  },
  {
   "cell_type": "markdown",
   "metadata": {
    "_cell_guid": "cd4d4883-56d7-42a8-9a30-bbf0012ce353",
    "_uuid": "4dcded1fba2c7bd181209784a253721bbcbd888a"
   },
   "source": [
    "## <a id='5-14-4'>5.14.4 Education of Applicant's in terms of loan is repayed or not in %</a>"
   ]
  },
  {
   "cell_type": "code",
   "execution_count": null,
   "metadata": {
    "_cell_guid": "790f886f-422d-4089-adc7-465eb6a6a034",
    "_kg_hide-input": true,
    "_uuid": "c59558ba37ee9a4f4c4fdd4d2524ce0def431e66",
    "collapsed": true
   },
   "outputs": [],
   "source": [
    "temp = application_train[\"NAME_EDUCATION_TYPE\"].value_counts()\n",
    "#print(temp.values)\n",
    "temp_y0 = []\n",
    "temp_y1 = []\n",
    "for val in temp.index:\n",
    "    temp_y1.append(np.sum(application_train[\"TARGET\"][application_train[\"NAME_EDUCATION_TYPE\"]==val] == 1))\n",
    "    temp_y0.append(np.sum(application_train[\"TARGET\"][application_train[\"NAME_EDUCATION_TYPE\"]==val] == 0))    \n",
    "trace1 = go.Bar(\n",
    "    x = temp.index,\n",
    "    y = (temp_y1 / temp.sum()) * 100,\n",
    "    name='YES'\n",
    ")\n",
    "trace2 = go.Bar(\n",
    "    x = temp.index,\n",
    "    y = (temp_y0 / temp.sum()) * 100, \n",
    "    name='NO'\n",
    ")\n",
    "\n",
    "data = [trace1, trace2]\n",
    "layout = go.Layout(\n",
    "    title = \"Education of Applicant's in terms of loan is repayed or not in %\",\n",
    "    #barmode='stack',\n",
    "    width = 1000,\n",
    "    xaxis=dict(\n",
    "        title='Education of Applicant\\'s',\n",
    "        tickfont=dict(\n",
    "            size=14,\n",
    "            color='rgb(107, 107, 107)'\n",
    "        )\n",
    "    ),\n",
    "    yaxis=dict(\n",
    "        title='Count in %',\n",
    "        titlefont=dict(\n",
    "            size=16,\n",
    "            color='rgb(107, 107, 107)'\n",
    "        ),\n",
    "        tickfont=dict(\n",
    "            size=14,\n",
    "            color='rgb(107, 107, 107)'\n",
    "        )\n",
    ")\n",
    ")\n",
    "\n",
    "fig = go.Figure(data=data, layout=layout)\n",
    "iplot(fig)"
   ]
  },
  {
   "cell_type": "markdown",
   "metadata": {
    "_cell_guid": "6c82995c-442a-47bf-b103-7d99a482473c",
    "_uuid": "e1ce19d7fa25831f334099040a88149fcb69acb8"
   },
   "source": [
    "## <a id='5-14-5'>5.14.5 For which types of house higher applicant's applied for loan in terms of loan is repayed or not in %</a>"
   ]
  },
  {
   "cell_type": "code",
   "execution_count": null,
   "metadata": {
    "_cell_guid": "049ad1dc-5bd8-4bee-af9d-f4a4230f1636",
    "_kg_hide-input": true,
    "_uuid": "d03d459f6ae4585cfbdad80418f304d4da412286",
    "collapsed": true
   },
   "outputs": [],
   "source": [
    "temp = application_train[\"NAME_HOUSING_TYPE\"].value_counts()\n",
    "#print(temp.values)\n",
    "temp_y0 = []\n",
    "temp_y1 = []\n",
    "for val in temp.index:\n",
    "    temp_y1.append(np.sum(application_train[\"TARGET\"][application_train[\"NAME_HOUSING_TYPE\"]==val] == 1))\n",
    "    temp_y0.append(np.sum(application_train[\"TARGET\"][application_train[\"NAME_HOUSING_TYPE\"]==val] == 0))    \n",
    "trace1 = go.Bar(\n",
    "    x = temp.index,\n",
    "    y = (temp_y1 / temp.sum()) * 100,\n",
    "    name='YES'\n",
    ")\n",
    "trace2 = go.Bar(\n",
    "    x = temp.index,\n",
    "    y = (temp_y0 / temp.sum()) * 100, \n",
    "    name='NO'\n",
    ")\n",
    "\n",
    "data = [trace1, trace2]\n",
    "layout = go.Layout(\n",
    "    title = \"For which types of house higher applicant's applied for loan in terms of loan is repayed or not in %\",\n",
    "    #barmode='stack',\n",
    "    width = 1000,\n",
    "    xaxis=dict(\n",
    "        title='types of house',\n",
    "        tickfont=dict(\n",
    "            size=14,\n",
    "            color='rgb(107, 107, 107)'\n",
    "        )\n",
    "    ),\n",
    "    yaxis=dict(\n",
    "        title='Count in %',\n",
    "        titlefont=dict(\n",
    "            size=16,\n",
    "            color='rgb(107, 107, 107)'\n",
    "        ),\n",
    "        tickfont=dict(\n",
    "            size=14,\n",
    "            color='rgb(107, 107, 107)'\n",
    "        )\n",
    ")\n",
    ")\n",
    "\n",
    "fig = go.Figure(data=data, layout=layout)\n",
    "iplot(fig)"
   ]
  },
  {
   "cell_type": "markdown",
   "metadata": {
    "_cell_guid": "66037e24-e764-4d47-9dda-b08fbf139204",
    "_uuid": "fab9fcb2586ff3ac4cc70233dec84f622380a049"
   },
   "source": [
    "## <a id='5-14-6'>5.14.6 Types of Organizations in terms of loan is repayed or not in %</a>"
   ]
  },
  {
   "cell_type": "code",
   "execution_count": null,
   "metadata": {
    "_cell_guid": "cc8cd61d-c412-4fe4-a7a0-54c835b4e2f3",
    "_kg_hide-input": true,
    "_uuid": "486f1e491a1f0914e71b10d3942c9da45bd3347d",
    "collapsed": true
   },
   "outputs": [],
   "source": [
    "temp = application_train[\"ORGANIZATION_TYPE\"].value_counts()\n",
    "#print(temp.values)\n",
    "temp_y0 = []\n",
    "temp_y1 = []\n",
    "for val in temp.index:\n",
    "    temp_y1.append(np.sum(application_train[\"TARGET\"][application_train[\"ORGANIZATION_TYPE\"]==val] == 1))\n",
    "    temp_y0.append(np.sum(application_train[\"TARGET\"][application_train[\"ORGANIZATION_TYPE\"]==val] == 0))    \n",
    "trace1 = go.Bar(\n",
    "    x = temp.index,\n",
    "    y = (temp_y1 / temp.sum()) * 100,\n",
    "    name='YES'\n",
    ")\n",
    "trace2 = go.Bar(\n",
    "    x = temp.index,\n",
    "    y = (temp_y0 / temp.sum()) * 100, \n",
    "    name='NO'\n",
    ")\n",
    "\n",
    "data = [trace1, trace2]\n",
    "layout = go.Layout(\n",
    "    title = \"Types of Organizations in terms of loan is repayed or not in %\",\n",
    "    #barmode='stack',\n",
    "    width = 1000,\n",
    "    xaxis=dict(\n",
    "        title='Types of Organizations',\n",
    "        tickfont=dict(\n",
    "            size=10,\n",
    "            color='rgb(107, 107, 107)'\n",
    "        )\n",
    "    ),\n",
    "    yaxis=dict(\n",
    "        title='Count in %',\n",
    "        titlefont=dict(\n",
    "            size=16,\n",
    "            color='rgb(107, 107, 107)'\n",
    "        ),\n",
    "        tickfont=dict(\n",
    "            size=14,\n",
    "            color='rgb(107, 107, 107)'\n",
    "        )\n",
    ")\n",
    ")\n",
    "\n",
    "fig = go.Figure(data=data, layout=layout)\n",
    "iplot(fig)"
   ]
  },
  {
   "cell_type": "markdown",
   "metadata": {
    "_cell_guid": "0f49f21f-8be9-4a66-a9b6-0674ee000848",
    "_uuid": "fc291dd37c514403cb397172aa21093d9a844e60"
   },
   "source": [
    "## <a id='5-14-7'>5.14.7 Distribution of Name of type of the Suite in terms of loan is repayed or not in %</a>"
   ]
  },
  {
   "cell_type": "code",
   "execution_count": null,
   "metadata": {
    "_cell_guid": "fb09bda1-83dd-40ed-a3d8-f44e4ba96455",
    "_kg_hide-input": true,
    "_uuid": "673c426f57d3e21b59b552d437f3c1b628b378ce",
    "collapsed": true
   },
   "outputs": [],
   "source": [
    "temp = application_train[\"NAME_TYPE_SUITE\"].value_counts()\n",
    "#print(temp.values)\n",
    "temp_y0 = []\n",
    "temp_y1 = []\n",
    "for val in temp.index:\n",
    "    temp_y1.append(np.sum(application_train[\"TARGET\"][application_train[\"NAME_TYPE_SUITE\"]==val] == 1))\n",
    "    temp_y0.append(np.sum(application_train[\"TARGET\"][application_train[\"NAME_TYPE_SUITE\"]==val] == 0))    \n",
    "trace1 = go.Bar(\n",
    "    x = temp.index,\n",
    "    y = (temp_y1 / temp.sum()) * 100,\n",
    "    name='YES'\n",
    ")\n",
    "trace2 = go.Bar(\n",
    "    x = temp.index,\n",
    "    y = (temp_y0 / temp.sum()) * 100, \n",
    "    name='NO'\n",
    ")\n",
    "\n",
    "data = [trace1, trace2]\n",
    "layout = go.Layout(\n",
    "    title = \"Distribution of Name of type of the Suite in terms of loan is repayed or not in %\",\n",
    "    #barmode='stack',\n",
    "    width = 1000,\n",
    "    xaxis=dict(\n",
    "        title='Name of type of the Suite',\n",
    "        tickfont=dict(\n",
    "            size=14,\n",
    "            color='rgb(107, 107, 107)'\n",
    "        )\n",
    "    ),\n",
    "    yaxis=dict(\n",
    "        title='Count in %',\n",
    "        titlefont=dict(\n",
    "            size=16,\n",
    "            color='rgb(107, 107, 107)'\n",
    "        ),\n",
    "        tickfont=dict(\n",
    "            size=14,\n",
    "            color='rgb(107, 107, 107)'\n",
    "        )\n",
    ")\n",
    ")\n",
    "\n",
    "fig = go.Figure(data=data, layout=layout)\n",
    "iplot(fig)"
   ]
  },
  {
   "cell_type": "markdown",
   "metadata": {
    "_cell_guid": "ed1a6ede-1f5b-4f6f-968a-5fb79df5350f",
    "_uuid": "3a9deca64915994620e86ac51e52de94663d7fe2"
   },
   "source": [
    "# <a id='5-15'>5.15 Exploartion of previous application data</a>"
   ]
  },
  {
   "cell_type": "markdown",
   "metadata": {
    "_cell_guid": "92340e35-e858-4fdc-ba3a-f3c4e4a07041",
    "_uuid": "c5ee13e6141d7f432d9b1be1d3c60d1a5351d64c"
   },
   "source": [
    "## <a id='5-15-1'>5.15.1 Contract product type of previous application</a>"
   ]
  },
  {
   "cell_type": "code",
   "execution_count": null,
   "metadata": {
    "_cell_guid": "a8cabf00-b110-470e-8ca5-bde2b9d92063",
    "_kg_hide-input": true,
    "_uuid": "33db4f0b35495c53f7eea93f0c712615a218312e",
    "collapsed": true
   },
   "outputs": [],
   "source": [
    "temp = previous_application[\"NAME_CONTRACT_TYPE\"].value_counts()\n",
    "fig = {\n",
    "  \"data\": [\n",
    "    {\n",
    "      \"values\": temp.values,\n",
    "      \"labels\": temp.index,\n",
    "      \"domain\": {\"x\": [0, .48]},\n",
    "      #\"name\": \"Types of Loans\",\n",
    "      #\"hoverinfo\":\"label+percent+name\",\n",
    "      \"hole\": .7,\n",
    "      \"type\": \"pie\"\n",
    "    },\n",
    "    \n",
    "    ],\n",
    "  \"layout\": {\n",
    "        \"title\":\"Contract product type of previous application\",\n",
    "        \"annotations\": [\n",
    "            {\n",
    "                \"font\": {\n",
    "                    \"size\": 20\n",
    "                },\n",
    "                \"showarrow\": False,\n",
    "                \"text\": \"Contract product type\",\n",
    "                \"x\": 0.12,\n",
    "                \"y\": 0.5\n",
    "            }\n",
    "            \n",
    "        ]\n",
    "    }\n",
    "}\n",
    "iplot(fig, filename='donut')"
   ]
  },
  {
   "cell_type": "markdown",
   "metadata": {
    "_cell_guid": "ddcf31ba-f949-43d6-b319-f5f3a16311d1",
    "_uuid": "c820809cefcc056f0a187cfb85404bc0e2b5b373"
   },
   "source": [
    "* **Contract product type of previous application :**\n",
    "  * Cash loans - 44.8 %\n",
    "  * Consumer loans - 43.7 %\n",
    "  * Rovolving loan - 11.6 %\n",
    "  * XNA - 0.0207 %"
   ]
  },
  {
   "cell_type": "markdown",
   "metadata": {
    "_cell_guid": "f1fc2043-ca4e-45eb-9bfe-5cbe31a77bb4",
    "_uuid": "11dcdb20ffd47c152783f427719f01ecc1ce3baf"
   },
   "source": [
    "## <a id='5-15-2'>5.15.2 On which day highest number of clients applied in prevoies application</a>"
   ]
  },
  {
   "cell_type": "code",
   "execution_count": null,
   "metadata": {
    "_cell_guid": "d641d3b2-9535-4eeb-9459-8e7345d84b41",
    "_kg_hide-input": true,
    "_uuid": "42865af21f80e589c2e22c2df885aa2e01293b3a",
    "collapsed": true
   },
   "outputs": [],
   "source": [
    "temp = previous_application[\"WEEKDAY_APPR_PROCESS_START\"].value_counts()\n",
    "#print(\"Total number of states : \",len(temp))\n",
    "trace = go.Bar(\n",
    "    x = temp.index,\n",
    "    y = (temp / temp.sum())*100,\n",
    ")\n",
    "data = [trace]\n",
    "layout = go.Layout(\n",
    "    title = \"On which day highest number of clients applied in prevoies application in % \",\n",
    "    xaxis=dict(\n",
    "        title='Day of the Week',\n",
    "        tickfont=dict(\n",
    "            size=14,\n",
    "            color='rgb(107, 107, 107)'\n",
    "        )\n",
    "    ),\n",
    "    yaxis=dict(\n",
    "        title='Count of Day of Week in %',\n",
    "        titlefont=dict(\n",
    "            size=16,\n",
    "            color='rgb(107, 107, 107)'\n",
    "        ),\n",
    "        tickfont=dict(\n",
    "            size=14,\n",
    "            color='rgb(107, 107, 107)'\n",
    "        )\n",
    ")\n",
    ")\n",
    "fig = go.Figure(data=data, layout=layout)\n",
    "py.iplot(fig, filename='schoolStateNames')"
   ]
  },
  {
   "cell_type": "markdown",
   "metadata": {
    "_cell_guid": "a17fec9f-0041-479e-a040-16a4a78d7b47",
    "_uuid": "c128574637703cf49da880de6faa36a0702a432f"
   },
   "source": [
    "* What a coincedence, Approximately 15 % clients applied in each 5 days a week i.e, Tuesday, Wednesday, Monday, Friday and Thrusday. "
   ]
  },
  {
   "cell_type": "markdown",
   "metadata": {
    "_cell_guid": "4c325a4f-606e-45e2-a850-635d4217fd79",
    "_uuid": "0fc4950aeb0140d8cc88af73d5c8b434b4fc5416"
   },
   "source": [
    "## <a id='5-15-3'>5.15.3 Purpose of cash loan in previous application</a>"
   ]
  },
  {
   "cell_type": "code",
   "execution_count": null,
   "metadata": {
    "_cell_guid": "75396121-9a64-45d0-9aea-fefafc68798f",
    "_kg_hide-input": true,
    "_uuid": "2fe7ffb6244d669756e004242350c8fc7749f008",
    "collapsed": true
   },
   "outputs": [],
   "source": [
    "temp = previous_application[\"NAME_CASH_LOAN_PURPOSE\"].value_counts()\n",
    "#print(\"Total number of states : \",len(temp))\n",
    "trace = go.Bar(\n",
    "    x = temp.index,\n",
    "    y = (temp / temp.sum())*100,\n",
    "    marker=dict(\n",
    "        color=(temp / temp.sum())*100,\n",
    "        colorscale = 'Blues',\n",
    "        reversescale = True\n",
    "    ),\n",
    ")\n",
    "data = [trace]\n",
    "layout = go.Layout(\n",
    "    title = \"Purpose of cash loan in previous application in % \",\n",
    "    xaxis=dict(\n",
    "        title='Purpose of cash loan',\n",
    "        tickfont=dict(\n",
    "            size=14,\n",
    "            color='rgb(107, 107, 107)'\n",
    "        )\n",
    "    ),\n",
    "    yaxis=dict(\n",
    "        title='Count in %',\n",
    "        titlefont=dict(\n",
    "            size=16,\n",
    "            color='rgb(107, 107, 107)'\n",
    "        ),\n",
    "        tickfont=dict(\n",
    "            size=14,\n",
    "            color='rgb(107, 107, 107)'\n",
    "        )\n",
    ")\n",
    ")\n",
    "fig = go.Figure(data=data, layout=layout)\n",
    "py.iplot(fig)"
   ]
  },
  {
   "cell_type": "markdown",
   "metadata": {
    "_cell_guid": "518857d7-fbb0-42ff-a958-317040aca3fe",
    "_uuid": "5ebac287b746d78ba000193b5a15fb23766730d0"
   },
   "source": [
    "* **Main purpose of the cash loan was  :**\n",
    "  * XAP - 55 %\n",
    "  * XNA - 41 %"
   ]
  },
  {
   "cell_type": "markdown",
   "metadata": {
    "_cell_guid": "c8ea4b86-2dba-4bcc-8d54-c700fea93c15",
    "_uuid": "02406e789706396393c627449d02cc36fd275b3f"
   },
   "source": [
    "## <a id='5-15-4'>5.15.4 Contract was approved or not in previous application</a>"
   ]
  },
  {
   "cell_type": "code",
   "execution_count": null,
   "metadata": {
    "_cell_guid": "8e49eaac-b693-4909-a4ca-82bed584e570",
    "_kg_hide-input": true,
    "_uuid": "2aa59b941b79254e517ea4422be0ac3fd3cd3c9d",
    "collapsed": true
   },
   "outputs": [],
   "source": [
    "temp = previous_application[\"NAME_CONTRACT_STATUS\"].value_counts()\n",
    "df = pd.DataFrame({'labels': temp.index,\n",
    "                   'values': temp.values\n",
    "                  })\n",
    "df.iplot(kind='pie',labels='labels',values='values', title='Contract approved or not', hole = 0.5)"
   ]
  },
  {
   "cell_type": "markdown",
   "metadata": {
    "_cell_guid": "61740054-6dd1-40ea-ba11-ea95c0f427ca",
    "_uuid": "b509aa754efab75f04fed702b62c4d370f5cbce6"
   },
   "source": [
    "* **Contract was approved or not in previous application :**\n",
    "  * Approved : 62.1 % times\n",
    "  * Cancelled : 18.9 % times\n",
    "  * Refused : 17.4 % times \n",
    "  * Unused offer : 1.58 % times"
   ]
  },
  {
   "cell_type": "markdown",
   "metadata": {
    "_cell_guid": "7097dba5-c73c-4ced-9cbe-d5bec7d8ac49",
    "_uuid": "494dc1fcee5f1b497ac5e70038f0320ac6e12c69"
   },
   "source": [
    "## <a id='5-15-5'>5.15.5 Payment method that client choose to pay for the previous application</a>"
   ]
  },
  {
   "cell_type": "code",
   "execution_count": null,
   "metadata": {
    "_cell_guid": "303fc303-4e89-4284-9e53-7e9d88804a95",
    "_kg_hide-input": true,
    "_uuid": "a863ed9a64af1d1ff312cd1257346f76fe75e3c8",
    "collapsed": true
   },
   "outputs": [],
   "source": [
    "temp = previous_application[\"NAME_PAYMENT_TYPE\"].value_counts()\n",
    "df = pd.DataFrame({'labels': temp.index,\n",
    "                   'values': temp.values\n",
    "                  })\n",
    "df.iplot(kind='pie',labels='labels',values='values', title='Payment method that client choose to pay for the previous application', hole = 0.7,colors=['#75e575', '#ea7c96',])"
   ]
  },
  {
   "cell_type": "markdown",
   "metadata": {
    "_cell_guid": "a092caea-d738-4865-a6b0-d073940cb684",
    "_uuid": "1d6032c1261455f9591be26862aa37591231aa74"
   },
   "source": [
    "* As we can most of the payment(61.9 %) has done thorugh cash only. "
   ]
  },
  {
   "cell_type": "markdown",
   "metadata": {
    "_cell_guid": "2fbcac52-d0ee-451a-af4a-ab29b3ae143e",
    "_uuid": "f908220d1504ee3c5234caf6a95223169ef35676"
   },
   "source": [
    "## <a id='5-15-6'>5.15.6 Why was the previous application rejected ?</a>"
   ]
  },
  {
   "cell_type": "code",
   "execution_count": null,
   "metadata": {
    "_cell_guid": "1fe867c8-43dd-46e5-95c8-99f463443a52",
    "_kg_hide-input": true,
    "_uuid": "bc3f4777821de3331730f1f7660a3a84a2d8f98d",
    "collapsed": true
   },
   "outputs": [],
   "source": [
    "temp = previous_application[\"CODE_REJECT_REASON\"].value_counts()\n",
    "temp.iplot(kind='bar', xTitle = 'Reason', yTitle = \"Count\", title = 'Top reasons of previous application rejection(Wriiten in some codes)', colors=['#75e575'])"
   ]
  },
  {
   "cell_type": "markdown",
   "metadata": {
    "_cell_guid": "e8f1de05-ff87-4261-a5de-b478c7a3464b",
    "_uuid": "25726f25faaf8e95f53f2588f1b3d0b11c3cf548"
   },
   "source": [
    "## <a id='5-15-7'>5.15.7 Who accompanied client when applying for the previous application</a>"
   ]
  },
  {
   "cell_type": "code",
   "execution_count": null,
   "metadata": {
    "_cell_guid": "36472f5e-bca8-4d3c-9a60-f505638e052f",
    "_kg_hide-input": true,
    "_uuid": "bd692586d01aa2c27868ef06757b1599c8d4d752",
    "collapsed": true
   },
   "outputs": [],
   "source": [
    "temp = previous_application[\"NAME_TYPE_SUITE\"].value_counts()\n",
    "trace = go.Bar(\n",
    "    x = temp.index,\n",
    "    y = (temp / temp.sum())*100,\n",
    "    marker=dict(\n",
    "        color=(temp / temp.sum())*100,\n",
    "        colorscale = '#ea7c96',\n",
    "        #reversescale = True\n",
    "    ),\n",
    ")\n",
    "data = [trace]\n",
    "layout = go.Layout(\n",
    "    title = \"Who accompanied client when applying for the previous application in % \",\n",
    "    xaxis=dict(\n",
    "        title='Name of type of the Suite',\n",
    "        tickfont=dict(\n",
    "            size=14,\n",
    "            color='rgb(107, 107, 107)'\n",
    "        )\n",
    "    ),\n",
    "    yaxis=dict(\n",
    "        title='Count of Name of type of the Suite in %',\n",
    "        titlefont=dict(\n",
    "            size=16,\n",
    "            color='rgb(107, 107, 107)'\n",
    "        ),\n",
    "        tickfont=dict(\n",
    "            size=14,\n",
    "            color='rgb(107, 107, 107)'\n",
    "        )\n",
    ")\n",
    ")\n",
    "fig = go.Figure(data=data, layout=layout)\n",
    "py.iplot(fig)"
   ]
  },
  {
   "cell_type": "markdown",
   "metadata": {
    "_cell_guid": "6bb9d72f-dd6a-4e25-a141-84c9626a7da5",
    "_uuid": "d717fce5ea63d4d290dbe63c8b25a6a62c0a8f66"
   },
   "source": [
    "* **Who accompanied client when applying for the previous application :**\n",
    "  * Unaccompanied : Approx. 60 % times\n",
    "  * Family : Approx. 25 % times\n",
    "  * Spouse, Partner : Approx. 8 %\n",
    "  * Childrens : Approx. 4 %"
   ]
  },
  {
   "cell_type": "markdown",
   "metadata": {
    "_cell_guid": "1679776a-a712-48db-9568-99a0fd5eb793",
    "_uuid": "20b0f0c8d46d6e38a3cf6dd8ceff6f24d6e6228b"
   },
   "source": [
    "## <a id='5-15-8'>5.15.8 Was the client old or new client when applying for the previous application</a>"
   ]
  },
  {
   "cell_type": "code",
   "execution_count": null,
   "metadata": {
    "_cell_guid": "d27e237f-3b18-442c-9dc5-011f1c3580e4",
    "_kg_hide-input": true,
    "_uuid": "019b6d119ef2972aadfa7f4f9e928b03a452e476",
    "collapsed": true
   },
   "outputs": [],
   "source": [
    "temp = previous_application[\"NAME_CLIENT_TYPE\"].value_counts()\n",
    "df = pd.DataFrame({'labels': temp.index,\n",
    "                   'values': temp.values\n",
    "                  })\n",
    "df.iplot(kind='pie',labels='labels',values='values', title='Was the client old or new client when applying for the previous application', hole = 0.7,colors=['#ea7c96','#75e575',])"
   ]
  },
  {
   "cell_type": "markdown",
   "metadata": {
    "_cell_guid": "0fc3e84e-b42b-4246-87be-37ac97b59027",
    "_uuid": "23e46f2f9521145f5a3b43d467e1eaf6a4efe098"
   },
   "source": [
    "* Approximately 74 % was repeater clients who applied for previous application."
   ]
  },
  {
   "cell_type": "markdown",
   "metadata": {
    "_cell_guid": "6820f8ff-1382-467a-8ad1-44032de81d10",
    "_uuid": "a43569610dacccba1b7d97367d3193b1e9d8ed31"
   },
   "source": [
    "## <a id='5-15-9'>5.15.9 What kind of goods did the client apply for in the previous application</a>"
   ]
  },
  {
   "cell_type": "code",
   "execution_count": null,
   "metadata": {
    "_cell_guid": "7edea8e3-2e33-49ad-9de9-dd1655379de9",
    "_kg_hide-input": true,
    "_uuid": "9358a7453b390ee89c63e74896fb8e5ddd2e7607",
    "collapsed": true
   },
   "outputs": [],
   "source": [
    "temp = previous_application[\"NAME_GOODS_CATEGORY\"].value_counts()\n",
    "trace = go.Bar(\n",
    "    x = temp.index,\n",
    "    y = (temp / temp.sum())*100,\n",
    "    marker=dict(\n",
    "        color=(temp / temp.sum())*100,\n",
    "        colorscale = 'Greens',\n",
    "        reversescale = True\n",
    "    ),\n",
    ")\n",
    "data = [trace]\n",
    "layout = go.Layout(\n",
    "    title = \"What kind of goods did the client apply for in the previous application in % \",\n",
    "    xaxis=dict(\n",
    "        title='Name of the goods',\n",
    "        tickfont=dict(\n",
    "            size=14,\n",
    "            color='rgb(107, 107, 107)'\n",
    "        )\n",
    "    ),\n",
    "    yaxis=dict(\n",
    "        title='Count in %',\n",
    "        titlefont=dict(\n",
    "            size=16,\n",
    "            color='rgb(107, 107, 107)'\n",
    "        ),\n",
    "        tickfont=dict(\n",
    "            size=14,\n",
    "            color='rgb(107, 107, 107)'\n",
    "        )\n",
    ")\n",
    ")\n",
    "fig = go.Figure(data=data, layout=layout)\n",
    "py.iplot(fig)"
   ]
  },
  {
   "cell_type": "markdown",
   "metadata": {
    "_cell_guid": "8765a035-e644-49d1-92e7-ae353bfb0378",
    "_uuid": "304f6fc864e419153e602a22d36fc9d07a9a4db4"
   },
   "source": [
    "## <a id='5=15=10'>5.15.10 Was the previous application for CASH, POS, CAR, …</a>"
   ]
  },
  {
   "cell_type": "code",
   "execution_count": null,
   "metadata": {
    "_cell_guid": "eab3f992-ed01-45ad-ad73-155209b27b4e",
    "_kg_hide-input": true,
    "_uuid": "b4e80e0fde98c699aa296719aa6c53aa8489d870",
    "collapsed": true
   },
   "outputs": [],
   "source": [
    "temp = previous_application[\"NAME_PORTFOLIO\"].value_counts()\n",
    "df = pd.DataFrame({'labels': temp.index,\n",
    "                   'values': temp.values\n",
    "                  })\n",
    "df.iplot(kind='pie',labels='labels',values='values', title='Was the previous application for CASH, POS, CAR, …', hole = 0.7,colors=['#ea7c96','#75e575',])"
   ]
  },
  {
   "cell_type": "markdown",
   "metadata": {
    "_cell_guid": "e2c83f9c-223a-43dc-a2f9-685d1fd31f86",
    "_uuid": "204c043881886f163df07bdc30c6c87eb034c298"
   },
   "source": [
    "## <a id='5-15-11'>5.15.11 Was the previous application x-sell or walk-in ?</a>"
   ]
  },
  {
   "cell_type": "code",
   "execution_count": null,
   "metadata": {
    "_cell_guid": "606e43b3-ba93-4626-805c-bc20ad2107da",
    "_kg_hide-input": true,
    "_uuid": "e0753fbb92384630ca23c5dad697efd81dff89f7",
    "collapsed": true
   },
   "outputs": [],
   "source": [
    "temp = previous_application[\"NAME_PRODUCT_TYPE\"].value_counts()\n",
    "df = pd.DataFrame({'labels': temp.index,\n",
    "                   'values': temp.values\n",
    "                  })\n",
    "df.iplot(kind='pie',labels='labels',values='values', title='Was the previous application x-sell or walk-in', hole = 0.7)"
   ]
  },
  {
   "cell_type": "markdown",
   "metadata": {
    "_cell_guid": "7534fc64-eb8e-4754-8943-c8de3f523266",
    "_uuid": "fa1807d8fcd46c730aa1aa366587eb17f5cfea23"
   },
   "source": [
    "## <a id='5-15-12'>5.15.12 Top channels  through which they acquired the client on the previous application</a>"
   ]
  },
  {
   "cell_type": "code",
   "execution_count": null,
   "metadata": {
    "_cell_guid": "4bdf39ae-9539-4185-a488-8c7f365e3909",
    "_kg_hide-input": true,
    "_uuid": "8bd9ebc8d74149d1fdd95a04857a58207b73f1c6",
    "collapsed": true
   },
   "outputs": [],
   "source": [
    "temp = previous_application[\"CHANNEL_TYPE\"].value_counts()\n",
    "trace = go.Bar(\n",
    "    x = temp.index,\n",
    "    y = (temp / temp.sum())*100,\n",
    "    marker=dict(\n",
    "        color=(temp / temp.sum())*100,\n",
    "#         colorscale = 'Violet',\n",
    "#         reversescale = True\n",
    "    ),\n",
    ")\n",
    "data = [trace]\n",
    "layout = go.Layout(\n",
    "    title = \"Top channels  through which they acquired the client on the previous application in % \",\n",
    "    xaxis=dict(\n",
    "        title='Name of the Channel',\n",
    "        tickfont=dict(\n",
    "            size=14,\n",
    "            color='rgb(107, 107, 107)'\n",
    "        )\n",
    "    ),\n",
    "    yaxis=dict(\n",
    "        title='Count in %',\n",
    "        titlefont=dict(\n",
    "            size=16,\n",
    "            color='rgb(107, 107, 107)'\n",
    "        ),\n",
    "        tickfont=dict(\n",
    "            size=14,\n",
    "            color='rgb(107, 107, 107)'\n",
    "        )\n",
    ")\n",
    ")\n",
    "fig = go.Figure(data=data, layout=layout)\n",
    "py.iplot(fig)"
   ]
  },
  {
   "cell_type": "markdown",
   "metadata": {
    "_cell_guid": "4126d285-653f-4192-be67-f04351ab7ab7",
    "_uuid": "43a265771041ad07954002d44eced5a1d9e8a8ac"
   },
   "source": [
    "* **Top channels  through which they acquired the client on the previous application :**\n",
    "  * Credidit and cash offices : 43 % times\n",
    "  * Country_wide : 30 % times\n",
    "  * Stone : 13 % times"
   ]
  },
  {
   "cell_type": "markdown",
   "metadata": {
    "_cell_guid": "207d6f0e-4462-4a1c-8d2c-10e540e1d6b5",
    "_uuid": "fe95785c9c5247707c5d28b2a8418a3812446ce9"
   },
   "source": [
    "## <a id='5-15-13'>5.15.13 Top industry of the seller</a>"
   ]
  },
  {
   "cell_type": "code",
   "execution_count": null,
   "metadata": {
    "_cell_guid": "4f263079-1142-4eb3-8192-1bcc18ef37a5",
    "_kg_hide-input": true,
    "_uuid": "7754e86dc55fbeca8f09715162d5f57633cb1a21",
    "collapsed": true
   },
   "outputs": [],
   "source": [
    "temp = previous_application[\"NAME_SELLER_INDUSTRY\"].value_counts()\n",
    "trace = go.Bar(\n",
    "    x = temp.index,\n",
    "    y = (temp / temp.sum())*100,\n",
    "    marker=dict(\n",
    "        color=(temp / temp.sum())*100,\n",
    "        colorscale = 'Greens',\n",
    "        reversescale = True\n",
    "    ),\n",
    ")\n",
    "data = [trace]\n",
    "layout = go.Layout(\n",
    "    title = \"Top industry of the seller in % \",\n",
    "    xaxis=dict(\n",
    "        title='Industry Name',\n",
    "        tickfont=dict(\n",
    "            size=14,\n",
    "            color='rgb(107, 107, 107)'\n",
    "        )\n",
    "    ),\n",
    "    yaxis=dict(\n",
    "        title='Count in %',\n",
    "        titlefont=dict(\n",
    "            size=16,\n",
    "            color='rgb(107, 107, 107)'\n",
    "        ),\n",
    "        tickfont=dict(\n",
    "            size=14,\n",
    "            color='rgb(107, 107, 107)'\n",
    "        )\n",
    ")\n",
    ")\n",
    "fig = go.Figure(data=data, layout=layout)\n",
    "py.iplot(fig)"
   ]
  },
  {
   "cell_type": "markdown",
   "metadata": {
    "_cell_guid": "cbe64cf3-fa8d-484f-963e-ff1222ee4668",
    "_uuid": "0dca1834ae1ae6d9f61f4a32d912c95ffe03d80b"
   },
   "source": [
    "## <a id='5-15-14'>5.15.14 Grouped interest rate into small medium and high of the previous application</a>"
   ]
  },
  {
   "cell_type": "code",
   "execution_count": null,
   "metadata": {
    "_cell_guid": "d234af38-5abd-4c18-a6de-cd75fcc4ff22",
    "_kg_hide-input": true,
    "_uuid": "d29a23d98989f28c2a4587f98386c23f92586475",
    "collapsed": true
   },
   "outputs": [],
   "source": [
    "temp = previous_application[\"NAME_YIELD_GROUP\"].value_counts()\n",
    "trace = go.Bar(\n",
    "    x = temp.index,\n",
    "    y = (temp / temp.sum())*100,\n",
    "    marker=dict(\n",
    "        color=(temp / temp.sum())*100,\n",
    "        colorscale = 'Greens',\n",
    "        reversescale = True\n",
    "    ),\n",
    ")\n",
    "data = [trace]\n",
    "layout = go.Layout(\n",
    "    title = \"Grouped interest rate into small medium and high of the previous application in % \",\n",
    "    xaxis=dict(\n",
    "        title='Grouped Interest rate',\n",
    "        tickfont=dict(\n",
    "            size=14,\n",
    "            color='rgb(107, 107, 107)'\n",
    "        )\n",
    "    ),\n",
    "    yaxis=dict(\n",
    "        title='Count in %',\n",
    "        titlefont=dict(\n",
    "            size=16,\n",
    "            color='rgb(107, 107, 107)'\n",
    "        ),\n",
    "        tickfont=dict(\n",
    "            size=14,\n",
    "            color='rgb(107, 107, 107)'\n",
    "        )\n",
    ")\n",
    ")\n",
    "fig = go.Figure(data=data, layout=layout)\n",
    "py.iplot(fig)"
   ]
  },
  {
   "cell_type": "markdown",
   "metadata": {
    "_cell_guid": "fa7c5add-75d4-47cc-9ab4-3762dd7fe4a0",
    "_uuid": "2d43a31698e89e284efb0800836f291099415b47"
   },
   "source": [
    "## <a id='5-15-15'>5.15.15 Top Detailed product combination of the previous application</a>"
   ]
  },
  {
   "cell_type": "code",
   "execution_count": null,
   "metadata": {
    "_cell_guid": "6a9b42be-9e78-40cf-b6c8-eca2984074d1",
    "_kg_hide-input": true,
    "_uuid": "e3f0ff8cb0ec3beaf6db6cfa658df4cd28bc8b4a",
    "collapsed": true
   },
   "outputs": [],
   "source": [
    "temp = previous_application[\"PRODUCT_COMBINATION\"].value_counts()\n",
    "df = pd.DataFrame({'labels': temp.index,\n",
    "                   'values': temp.values\n",
    "                  })\n",
    "df.iplot(kind='pie',labels='labels',values='values', title='Top Detailed product combination of the previous application', hole = 0.7)"
   ]
  },
  {
   "cell_type": "markdown",
   "metadata": {
    "_cell_guid": "e7bc55f3-38c3-4d64-9754-b1ae7aea68ba",
    "_uuid": "449294340c38142748520c222b6bac6fbcd8cac4"
   },
   "source": [
    "## <a id='5-15-16'>5.15.16 Did the client requested insurance during the previous application</a>"
   ]
  },
  {
   "cell_type": "code",
   "execution_count": null,
   "metadata": {
    "_cell_guid": "b3d8dae6-6ac0-4d87-bfc6-eda1de1ce5ce",
    "_kg_hide-input": true,
    "_uuid": "0f7afd96103455b606a1052f0d3eb2090610c064",
    "collapsed": true
   },
   "outputs": [],
   "source": [
    "temp = previous_application[\"NFLAG_INSURED_ON_APPROVAL\"].value_counts()\n",
    "df = pd.DataFrame({'labels': temp.index,\n",
    "                   'values': temp.values\n",
    "                  })\n",
    "df.iplot(kind='pie',labels='labels',values='values', title='Did the client requested insurance during the previous application(YES : 1, NO : 0)', hole = 0.7, colors=['#ea7c96','#75e575',])"
   ]
  },
  {
   "cell_type": "markdown",
   "metadata": {
    "_cell_guid": "e90f6497-123b-4b29-a2b0-b36be1c90dfe",
    "_uuid": "f8a595c3ac710ff55a80afaae761b175bc074742"
   },
   "source": [
    "# <a id='6'>6. Pearson Correlation of features</a>"
   ]
  },
  {
   "cell_type": "code",
   "execution_count": null,
   "metadata": {
    "_cell_guid": "b0e09721-02c0-414b-9178-eab5b679ee4f",
    "_kg_hide-input": true,
    "_uuid": "4e3314dda3f9720cc73fb77c8c43bd529bb6aadf",
    "collapsed": true
   },
   "outputs": [],
   "source": [
    "data = [\n",
    "    go.Heatmap(\n",
    "        z= application_train.corr().values,\n",
    "        x=application_train.columns.values,\n",
    "        y=application_train.columns.values,\n",
    "        colorscale='Viridis',\n",
    "        reversescale = False,\n",
    "        text = True ,\n",
    "        opacity = 1.0 )\n",
    "]\n",
    "\n",
    "layout = go.Layout(\n",
    "    title='Pearson Correlation of features',\n",
    "    xaxis = dict(ticks='', nticks=36),\n",
    "    yaxis = dict(ticks='' ),\n",
    "    width = 900, height = 700,\n",
    "margin=dict(\n",
    "    l=240,\n",
    "),)\n",
    "\n",
    "fig = go.Figure(data=data, layout=layout)\n",
    "py.iplot(fig, filename='labelled-heatmap')"
   ]
  },
  {
   "cell_type": "markdown",
   "metadata": {
    "_cell_guid": "47ecbd75-fd50-4440-ab20-484f19aa1a9a",
    "_uuid": "e13fb6e4661d22640fedc59a89bb4831ce17afd4"
   },
   "source": [
    "# <a id='7'>7. Feature Importance using Random forest</a>"
   ]
  },
  {
   "cell_type": "code",
   "execution_count": null,
   "metadata": {
    "_cell_guid": "2a2ae5e6-7726-40eb-a34e-8aa79eef8f0d",
    "_kg_hide-input": true,
    "_uuid": "d8b679dc994545fe6f71dbe13bbac974d15d4298",
    "collapsed": true
   },
   "outputs": [],
   "source": [
    "from sklearn import preprocessing\n",
    "categorical_feats = [\n",
    "    f for f in application_train.columns if application_train[f].dtype == 'object'\n",
    "]\n",
    "\n",
    "for col in categorical_feats:\n",
    "    lb = preprocessing.LabelEncoder()\n",
    "    lb.fit(list(application_train[col].values.astype('str')) + list(application_test[col].values.astype('str')))\n",
    "    application_train[col] = lb.transform(list(application_train[col].values.astype('str')))\n",
    "    application_test[col] = lb.transform(list(application_test[col].values.astype('str')))"
   ]
  },
  {
   "cell_type": "code",
   "execution_count": null,
   "metadata": {
    "_cell_guid": "007cb03d-505d-44da-a3c8-b04980a9ab7b",
    "_kg_hide-input": true,
    "_uuid": "ab401c7f2b834ea7abd5dea1bea9ead3a1362ad1",
    "collapsed": true
   },
   "outputs": [],
   "source": [
    "application_train.fillna(-999, inplace = True)"
   ]
  },
  {
   "cell_type": "code",
   "execution_count": null,
   "metadata": {
    "_cell_guid": "be9f9a83-0765-4b73-90bc-4e83195e1bdf",
    "_kg_hide-input": true,
    "_uuid": "972c54ff21f5dfa9c23124f98033530dd2e1d6a1",
    "collapsed": true
   },
   "outputs": [],
   "source": [
    "from sklearn.ensemble import RandomForestClassifier\n",
    "rf = RandomForestClassifier(n_estimators=50, max_depth=8, min_samples_leaf=4, max_features=0.5, random_state=2018)\n",
    "rf.fit(application_train.drop(['SK_ID_CURR', 'TARGET'],axis=1), application_train.TARGET)\n",
    "features = application_train.drop(['SK_ID_CURR', 'TARGET'],axis=1).columns.values"
   ]
  },
  {
   "cell_type": "code",
   "execution_count": null,
   "metadata": {
    "_cell_guid": "abf25358-942f-4bbd-a9c1-4e86af3f4cc6",
    "_kg_hide-input": true,
    "_uuid": "88f460195491d916b142a47842af39ee371a60d7",
    "collapsed": true
   },
   "outputs": [],
   "source": [
    "x, y = (list(x) for x in zip(*sorted(zip(rf.feature_importances_, features), \n",
    "                                                            reverse = False)))\n",
    "trace2 = go.Bar(\n",
    "    x=x ,\n",
    "    y=y,\n",
    "    marker=dict(\n",
    "        color=x,\n",
    "        colorscale = 'Viridis',\n",
    "        reversescale = True\n",
    "    ),\n",
    "    name='Random Forest Feature importance',\n",
    "    orientation='h',\n",
    ")\n",
    "\n",
    "layout = dict(\n",
    "    title='Barplot of Feature importances',\n",
    "     width = 900, height = 2000,\n",
    "    yaxis=dict(\n",
    "        showgrid=False,\n",
    "        showline=False,\n",
    "        showticklabels=True,\n",
    "#         domain=[0, 0.85],\n",
    "    ),\n",
    "    margin=dict(\n",
    "    l=300,\n",
    "),\n",
    ")\n",
    "\n",
    "fig1 = go.Figure(data=[trace2])\n",
    "fig1['layout'].update(layout)\n",
    "py.iplot(fig1, filename='plots')"
   ]
  },
  {
   "cell_type": "markdown",
   "metadata": {
    "_cell_guid": "38f8d351-bb91-4065-b8f8-02f5f8c546f3",
    "_uuid": "3fb32ad935e230321b76aaa9335b9e0b48cc942e"
   },
   "source": [
    "# More To Come. Stayed Tuned "
   ]
  }
 ],
 "metadata": {
  "kernelspec": {
   "display_name": "Python 3",
   "language": "python",
   "name": "python3"
  },
  "language_info": {
   "codemirror_mode": {
    "name": "ipython",
    "version": 3
   },
   "file_extension": ".py",
   "mimetype": "text/x-python",
   "name": "python",
   "nbconvert_exporter": "python",
   "pygments_lexer": "ipython3",
   "version": "3.6.3"
  },
  "toc": {
   "base_numbering": 1,
   "nav_menu": {},
   "number_sections": true,
   "sideBar": true,
   "skip_h1_title": false,
   "title_cell": "Table of Contents",
   "title_sidebar": "Contents",
   "toc_cell": true,
   "toc_position": {},
   "toc_section_display": true,
   "toc_window_display": true
  }
 },
 "nbformat": 4,
 "nbformat_minor": 1
}
