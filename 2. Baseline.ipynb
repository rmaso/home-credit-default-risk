{
 "cells": [
  {
   "cell_type": "markdown",
   "metadata": {
    "toc": true
   },
   "source": [
    "<h1>Table of Contents<span class=\"tocSkip\"></span></h1>\n",
    "<div class=\"toc\"><ul class=\"toc-item\"><li><span><a href=\"#Libraries\" data-toc-modified-id=\"Libraries-1\"><span class=\"toc-item-num\">1&nbsp;&nbsp;</span>Libraries</a></span></li><li><span><a href=\"#Split-Train/Test/Validation\" data-toc-modified-id=\"Split-Train/Test/Validation-2\"><span class=\"toc-item-num\">2&nbsp;&nbsp;</span>Split Train/Test/Validation</a></span></li><li><span><a href=\"#Baseline-model\" data-toc-modified-id=\"Baseline-model-3\"><span class=\"toc-item-num\">3&nbsp;&nbsp;</span>Baseline model</a></span></li><li><span><a href=\"#Models-Training\" data-toc-modified-id=\"Models-Training-4\"><span class=\"toc-item-num\">4&nbsp;&nbsp;</span>Models Training</a></span><ul class=\"toc-item\"><li><span><a href=\"#Light-Gradient-Boosting-Machine-(LGBM)\" data-toc-modified-id=\"Light-Gradient-Boosting-Machine-(LGBM)-4.1\"><span class=\"toc-item-num\">4.1&nbsp;&nbsp;</span>Light Gradient Boosting Machine (LGBM)</a></span></li></ul></li></ul></div>"
   ]
  },
  {
   "cell_type": "markdown",
   "metadata": {},
   "source": [
    "# Libraries"
   ]
  },
  {
   "cell_type": "code",
   "execution_count": 23,
   "metadata": {
    "ExecuteTime": {
     "end_time": "2018-08-01T20:12:37.818996Z",
     "start_time": "2018-08-01T20:12:37.445912Z"
    }
   },
   "outputs": [],
   "source": [
    "# numpy and pandas for data manipulation\n",
    "import numpy as np\n",
    "import pandas as pd \n",
    "import matplotlib.pyplot as plt\n",
    "\n",
    "from sklearn.model_selection import train_test_split"
   ]
  },
  {
   "cell_type": "markdown",
   "metadata": {},
   "source": [
    "# Split Train/Test/Validation"
   ]
  },
  {
   "cell_type": "code",
   "execution_count": 2,
   "metadata": {
    "ExecuteTime": {
     "end_time": "2018-08-01T14:50:42.684435Z",
     "start_time": "2018-08-01T14:49:47.286191Z"
    }
   },
   "outputs": [],
   "source": [
    "data = pd.read_csv('data/eda_dataset_imputed.csv')\n",
    "\n",
    "app_train, test_1 = train_test_split(data, test_size=0.30, random_state=64)\n",
    "app_test, app_validation = train_test_split(test_1, test_size=0.5, random_state=56)"
   ]
  },
  {
   "cell_type": "code",
   "execution_count": 3,
   "metadata": {
    "ExecuteTime": {
     "end_time": "2018-08-01T14:50:42.715385Z",
     "start_time": "2018-08-01T14:50:42.687230Z"
    }
   },
   "outputs": [
    {
     "data": {
      "text/plain": [
       "((215257, 451), (46127, 451), (46127, 451))"
      ]
     },
     "execution_count": 3,
     "metadata": {},
     "output_type": "execute_result"
    }
   ],
   "source": [
    "app_train.shape, app_test.shape, app_validation.shape"
   ]
  },
  {
   "cell_type": "markdown",
   "metadata": {},
   "source": [
    "# Baseline model"
   ]
  },
  {
   "cell_type": "code",
   "execution_count": 4,
   "metadata": {
    "ExecuteTime": {
     "end_time": "2018-07-31T20:10:38.780437Z",
     "start_time": "2018-07-31T20:10:38.774464Z"
    }
   },
   "outputs": [],
   "source": [
    "train_labels = app_train['TARGET']\n",
    "test_labels = app_test['TARGET']"
   ]
  },
  {
   "cell_type": "code",
   "execution_count": 5,
   "metadata": {
    "ExecuteTime": {
     "end_time": "2018-07-31T20:11:30.314442Z",
     "start_time": "2018-07-31T20:10:38.783257Z"
    }
   },
   "outputs": [
    {
     "name": "stdout",
     "output_type": "stream",
     "text": [
      "Training data shape:  (215257, 450)\n",
      "Testing data shape:  (46127, 450)\n"
     ]
    }
   ],
   "source": [
    "from sklearn.preprocessing import MinMaxScaler, Imputer\n",
    "\n",
    "# Drop the target from the training data\n",
    "if 'TARGET' in app_train:\n",
    "    train = app_train.drop(columns = ['TARGET'])\n",
    "else:\n",
    "    train = app_train.copy()\n",
    "\n",
    "    \n",
    "if 'TARGET' in app_test:\n",
    "    test = app_test.drop(columns = ['TARGET'])\n",
    "else:\n",
    "    test = app_test.copy()\n",
    "\n",
    "    \n",
    "# Feature names\n",
    "features = list(train.columns)\n",
    "\n",
    "# Median imputation of missing values\n",
    "imputer = Imputer(strategy = 'median')\n",
    "\n",
    "# Scale each feature to 0-1\n",
    "scaler = MinMaxScaler(feature_range = (0, 1))\n",
    "\n",
    "# Fit on the training data\n",
    "imputer.fit(train)\n",
    "\n",
    "# Transform both training and testing data\n",
    "train = imputer.transform(train)\n",
    "test = imputer.transform(test)\n",
    "\n",
    "# Repeat with the scaler\n",
    "scaler.fit(train)\n",
    "train = scaler.transform(train)\n",
    "test = scaler.transform(test)\n",
    "\n",
    "print('Training data shape: ', train.shape)\n",
    "print('Testing data shape: ', test.shape)"
   ]
  },
  {
   "cell_type": "code",
   "execution_count": 6,
   "metadata": {
    "ExecuteTime": {
     "end_time": "2018-07-31T20:11:37.630184Z",
     "start_time": "2018-07-31T20:11:30.321827Z"
    }
   },
   "outputs": [
    {
     "data": {
      "text/plain": [
       "LogisticRegression(C=0.0001, class_weight=None, dual=False,\n",
       "          fit_intercept=True, intercept_scaling=1, max_iter=100,\n",
       "          multi_class='ovr', n_jobs=1, penalty='l2', random_state=None,\n",
       "          solver='liblinear', tol=0.0001, verbose=0, warm_start=False)"
      ]
     },
     "execution_count": 6,
     "metadata": {},
     "output_type": "execute_result"
    }
   ],
   "source": [
    "from sklearn.linear_model import LogisticRegression\n",
    "\n",
    "# Make the model with the specified regularization parameter\n",
    "log_reg = LogisticRegression(C = 0.0001)\n",
    "\n",
    "# Train on the training data\n",
    "log_reg.fit(train, train_labels)"
   ]
  },
  {
   "cell_type": "code",
   "execution_count": 7,
   "metadata": {
    "ExecuteTime": {
     "end_time": "2018-07-31T20:11:37.715568Z",
     "start_time": "2018-07-31T20:11:37.633614Z"
    }
   },
   "outputs": [],
   "source": [
    "# Make predictions\n",
    "# Make sure to select the second column only\n",
    "log_reg_pred = log_reg.predict_proba(test)[:, 1]"
   ]
  },
  {
   "cell_type": "code",
   "execution_count": 8,
   "metadata": {
    "ExecuteTime": {
     "end_time": "2018-07-31T20:11:37.767054Z",
     "start_time": "2018-07-31T20:11:37.718495Z"
    }
   },
   "outputs": [
    {
     "data": {
      "text/plain": [
       "0.7109988292401902"
      ]
     },
     "execution_count": 8,
     "metadata": {},
     "output_type": "execute_result"
    }
   ],
   "source": [
    "from sklearn.metrics import roc_auc_score\n",
    "\n",
    "roc_auc_score(test_labels, log_reg_pred)"
   ]
  },
  {
   "cell_type": "code",
   "execution_count": 9,
   "metadata": {
    "ExecuteTime": {
     "end_time": "2018-07-31T20:11:37.797022Z",
     "start_time": "2018-07-31T20:11:37.779009Z"
    }
   },
   "outputs": [
    {
     "data": {
      "text/plain": [
       "0.14895447690010147"
      ]
     },
     "execution_count": 9,
     "metadata": {},
     "output_type": "execute_result"
    }
   ],
   "source": [
    "from sklearn.metrics import mean_absolute_error\n",
    "\n",
    "mean_absolute_error(test_labels, log_reg_pred)"
   ]
  },
  {
   "cell_type": "markdown",
   "metadata": {},
   "source": [
    "# Models Training"
   ]
  },
  {
   "cell_type": "markdown",
   "metadata": {
    "ExecuteTime": {
     "end_time": "2018-07-31T20:04:07.636114Z",
     "start_time": "2018-07-31T20:04:07.624940Z"
    }
   },
   "source": [
    "## Light Gradient Boosting Machine (LGBM)"
   ]
  },
  {
   "cell_type": "code",
   "execution_count": 18,
   "metadata": {
    "ExecuteTime": {
     "end_time": "2018-08-01T15:38:50.771511Z",
     "start_time": "2018-08-01T15:38:50.018599Z"
    }
   },
   "outputs": [],
   "source": [
    "from sklearn.model_selection import KFold\n",
    "from sklearn.metrics import roc_auc_score\n",
    "import lightgbm as lgb\n",
    "from sklearn.utils.multiclass import type_of_target\n",
    "\n",
    "import gc\n",
    "\n",
    "def model(features, test_features, lgbm_params, n_folds = 5): \n",
    "    \"\"\"Train and test a light gradient boosting model using\n",
    "    cross validation. \n",
    "    \n",
    "    Parameters\n",
    "    --------\n",
    "        features (pd.DataFrame): \n",
    "            dataframe of training features to use \n",
    "            for training a model. Must include the TARGET column.\n",
    "        test_features (pd.DataFrame): \n",
    "            dataframe of testing features to use\n",
    "            for making predictions with the model. \n",
    "        \n",
    "    Return\n",
    "    --------\n",
    "        feature_importances (pd.DataFrame): \n",
    "            dataframe with the feature importances from the model.\n",
    "        valid_metrics (pd.DataFrame): \n",
    "            dataframe with training and validation metrics (ROC AUC) for each fold and overall.\n",
    "        \n",
    "    \"\"\"\n",
    "    \n",
    "    # Extract the ids\n",
    "    train_ids = features['SK_ID_CURR']\n",
    "    test_ids = test_features['SK_ID_CURR']\n",
    "    \n",
    "    # Extract the labels for training\n",
    "    labels = np.array(features['TARGET'].astype(int))\n",
    "    \n",
    "    # Remove the ids and target\n",
    "    features = features.drop(columns = ['SK_ID_CURR', 'TARGET'])\n",
    "    test_features = test_features.drop(columns = ['SK_ID_CURR', 'TARGET'])\n",
    "    \n",
    "    print('Training Data Shape: ', features.shape)\n",
    "    print('Testing Data Shape: ', test_features.shape)\n",
    "    \n",
    "    # Extract feature names\n",
    "    feature_names = list(features.columns)\n",
    "    \n",
    "    # Convert to np arrays\n",
    "    features = np.array(features)\n",
    "    test_features = np.array(test_features)\n",
    "    \n",
    "    # Create the kfold object\n",
    "    k_fold = KFold(n_splits = n_folds, shuffle = True, random_state = 50)\n",
    "    \n",
    "    # Empty array for feature importances\n",
    "    feature_importance_values = np.zeros(len(feature_names))\n",
    "    \n",
    "    # Empty array for test predictions\n",
    "    test_predictions = np.zeros(test_features.shape[0])\n",
    "    \n",
    "    # Empty array for out of fold validation predictions\n",
    "    out_of_fold = np.zeros(features.shape[0])\n",
    "    \n",
    "    # Lists for recording validation and training scores\n",
    "    valid_scores = []\n",
    "    train_scores = []\n",
    "    \n",
    "    # Iterate through each fold\n",
    "    for train_indices, valid_indices in k_fold.split(features):\n",
    "        \n",
    "        # Training data for the fold\n",
    "        train_features, train_labels = features[train_indices], labels[train_indices]\n",
    "        # Validation data for the fold\n",
    "        valid_features, valid_labels = features[valid_indices], labels[valid_indices]\n",
    "        \n",
    "        # Create the model\n",
    "        model = lgb.LGBMClassifier(application=\"binary\", boosting_type=lgbm_params[\"boosting\"],\n",
    "                          learning_rate=lgbm_params[\"learning_rate\"],n_estimators=lgbm_params[\"n_estimators\"],\n",
    "                          reg_alpha = lgbm_params[\"reg_alpha\"], reg_lambda = lgbm_params[\"reg_lambda\"], \n",
    "                          drop_rate=lgbm_params[\"drop_rate\"],\n",
    "                          num_leaves=lgbm_params[\"num_leaves\"], max_depth=lgbm_params[\"max_depth\"],\n",
    "                          max_bin=lgbm_params[\"max_bin\"],\n",
    "                          subsample = 0.8, n_jobs = -1, random_state = 50)\n",
    "        \n",
    "        # Train the model\n",
    "        model.fit(train_features, train_labels, eval_metric = ['auc', 'mae'],\n",
    "                  eval_set = [(valid_features, valid_labels), (train_features, train_labels)],\n",
    "                  eval_names = ['valid', 'train'],\n",
    "                  early_stopping_rounds = 200, verbose = 200)\n",
    "        \n",
    "        # Record the best iteration\n",
    "        best_iteration = model.best_iteration_\n",
    "        \n",
    "        # Record the feature importances\n",
    "        feature_importance_values += model.feature_importances_ / k_fold.n_splits\n",
    "        \n",
    "        # Make predictions\n",
    "        test_predictions += model.predict_proba(test_features, num_iteration = best_iteration)[:, 1] / k_fold.n_splits\n",
    "        \n",
    "        # Record the out of fold predictions\n",
    "        out_of_fold[valid_indices] = model.predict_proba(valid_features, num_iteration = best_iteration)[:, 1]\n",
    "        \n",
    "        # Record the best score\n",
    "        valid_score = model.best_score_['valid']['auc']\n",
    "        train_score = model.best_score_['train']['auc']\n",
    "        \n",
    "        valid_scores.append(valid_score)\n",
    "        train_scores.append(train_score)\n",
    "        \n",
    "        # Clean up memory\n",
    "        gc.enable()\n",
    "        del model, train_features, valid_features\n",
    "        gc.collect()\n",
    "        \n",
    "    # Make the feature importance dataframe\n",
    "    feature_importances = pd.DataFrame({'feature': feature_names, 'importance': feature_importance_values})\n",
    "    \n",
    "    # Overall validation score\n",
    "    valid_auc = roc_auc_score(labels, out_of_fold)\n",
    "    \n",
    "    # Add the overall scores to the metrics\n",
    "    valid_scores.append(valid_auc)\n",
    "    train_scores.append(np.mean(train_scores))\n",
    "    \n",
    "    # Needed for creating dataframe of validation scores\n",
    "    fold_names = list(range(n_folds))\n",
    "    fold_names.append('overall')\n",
    "    \n",
    "    # Dataframe of validation scores\n",
    "    metrics = pd.DataFrame({'fold': fold_names,\n",
    "                            'train': train_scores,\n",
    "                            'valid': valid_scores}) \n",
    "    \n",
    "    return feature_importances, metrics"
   ]
  },
  {
   "cell_type": "code",
   "execution_count": null,
   "metadata": {},
   "outputs": [],
   "source": [
    "def plot_feature_importances(df):\n",
    "    \"\"\"\n",
    "    Plot importances returned by a model. This can work with any measure of\n",
    "    feature importance provided that higher importance is better. \n",
    "    \n",
    "    Args:\n",
    "        df (dataframe): feature importances. Must have the features in a column\n",
    "        called `features` and the importances in a column called `importance\n",
    "        \n",
    "    Returns:\n",
    "        shows a plot of the 15 most importance features\n",
    "        \n",
    "        df (dataframe): feature importances sorted by importance (highest to lowest) \n",
    "        with a column for normalized importance\n",
    "        \"\"\"\n",
    "    \n",
    "    # Sort features according to importance\n",
    "    df = df.sort_values('importance', ascending = False).reset_index()\n",
    "    \n",
    "    # Normalize the feature importances to add up to one\n",
    "    df['importance_normalized'] = df['importance'] / df['importance'].sum()\n",
    "\n",
    "    # Make a horizontal bar chart of feature importances\n",
    "    plt.figure(figsize = (10, 6))\n",
    "    ax = plt.subplot()\n",
    "    \n",
    "    # Need to reverse the index to plot most important on top\n",
    "    ax.barh(list(reversed(list(df.index[:15]))), \n",
    "            df['importance_normalized'].head(15), \n",
    "            align = 'center', edgecolor = 'k')\n",
    "    \n",
    "    # Set the yticks and labels\n",
    "    ax.set_yticks(list(reversed(list(df.index[:15]))))\n",
    "    ax.set_yticklabels(df['feature'].head(15))\n",
    "    \n",
    "    # Plot labeling\n",
    "    plt.xlabel('Normalized Importance'); plt.title('Feature Importances')\n",
    "    plt.show()\n",
    "    \n",
    "    return df"
   ]
  },
  {
   "cell_type": "code",
   "execution_count": 19,
   "metadata": {
    "ExecuteTime": {
     "end_time": "2018-08-01T20:10:48.837373Z",
     "start_time": "2018-08-01T15:38:51.651540Z"
    }
   },
   "outputs": [
    {
     "name": "stdout",
     "output_type": "stream",
     "text": [
      "Training Data Shape:  (215257, 449)\n",
      "Testing Data Shape:  (46127, 449)\n",
      "Training until validation scores don't improve for 200 rounds.\n",
      "[200]\tvalid's l1: 0.138306\tvalid's auc: 0.75493\ttrain's l1: 0.1304\ttrain's auc: 0.878402\n",
      "Early stopping, best iteration is:\n",
      "[166]\tvalid's l1: 0.138346\tvalid's auc: 0.755672\ttrain's l1: 0.131516\ttrain's auc: 0.867146\n",
      "Training until validation scores don't improve for 200 rounds.\n",
      "[200]\tvalid's l1: 0.139016\tvalid's auc: 0.750802\ttrain's l1: 0.130111\ttrain's auc: 0.87597\n",
      "[400]\tvalid's l1: 0.137323\tvalid's auc: 0.751419\ttrain's l1: 0.12313\ttrain's auc: 0.919889\n",
      "[600]\tvalid's l1: 0.135929\tvalid's auc: 0.749653\ttrain's l1: 0.118465\ttrain's auc: 0.940436\n",
      "Early stopping, best iteration is:\n",
      "[412]\tvalid's l1: 0.137586\tvalid's auc: 0.751572\ttrain's l1: 0.123416\ttrain's auc: 0.920606\n",
      "Training until validation scores don't improve for 200 rounds.\n",
      "[200]\tvalid's l1: 0.13811\tvalid's auc: 0.740441\ttrain's l1: 0.130498\ttrain's auc: 0.877859\n",
      "[400]\tvalid's l1: 0.136333\tvalid's auc: 0.740352\ttrain's l1: 0.123934\ttrain's auc: 0.916263\n",
      "Early stopping, best iteration is:\n",
      "[331]\tvalid's l1: 0.137227\tvalid's auc: 0.741597\ttrain's l1: 0.126326\ttrain's auc: 0.90673\n",
      "Training until validation scores don't improve for 200 rounds.\n",
      "[200]\tvalid's l1: 0.139179\tvalid's auc: 0.751946\ttrain's l1: 0.130205\ttrain's auc: 0.875757\n",
      "[400]\tvalid's l1: 0.137394\tvalid's auc: 0.753593\ttrain's l1: 0.123516\ttrain's auc: 0.91668\n",
      "[600]\tvalid's l1: 0.135846\tvalid's auc: 0.752586\ttrain's l1: 0.118785\ttrain's auc: 0.938055\n",
      "Early stopping, best iteration is:\n",
      "[443]\tvalid's l1: 0.136263\tvalid's auc: 0.753691\ttrain's l1: 0.121726\ttrain's auc: 0.92254\n",
      "Training until validation scores don't improve for 200 rounds.\n",
      "[200]\tvalid's l1: 0.139801\tvalid's auc: 0.747836\ttrain's l1: 0.129844\ttrain's auc: 0.876599\n",
      "[400]\tvalid's l1: 0.138288\tvalid's auc: 0.745834\ttrain's l1: 0.123047\ttrain's auc: 0.918184\n",
      "Early stopping, best iteration is:\n",
      "[227]\tvalid's l1: 0.13919\tvalid's auc: 0.748303\ttrain's l1: 0.128457\ttrain's auc: 0.88392\n",
      "Baseline metrics\n",
      "      fold     train     valid\n",
      "0        0  0.867146  0.755672\n",
      "1        1  0.920606  0.751572\n",
      "2        2  0.906730  0.741597\n",
      "3        3  0.922540  0.753691\n",
      "4        4  0.883920  0.748303\n",
      "5  overall  0.900189  0.744406\n"
     ]
    }
   ],
   "source": [
    "lgbm_params = {\n",
    "    \"boosting\":\"dart\",\n",
    "    \"application\":\"binary\",\n",
    "    \"learning_rate\": 0.1,\n",
    "    'reg_alpha':0.01,\n",
    "    'reg_lambda': 0.01,\n",
    "    \"n_estimators\":10000,\n",
    "    \"max_depth\":7,\n",
    "    \"num_leaves\":100,\n",
    "    \"max_bin\":225,\n",
    "    \"drop_rate\":0.02\n",
    "}\n",
    "\n",
    "fi, metrics = model(app_train, app_test, lgbm_params=lgbm_params)\n",
    "print('Baseline metrics')\n",
    "print(metrics)"
   ]
  },
  {
   "cell_type": "code",
   "execution_count": 24,
   "metadata": {
    "ExecuteTime": {
     "end_time": "2018-08-01T20:12:45.577301Z",
     "start_time": "2018-08-01T20:12:44.954825Z"
    }
   },
   "outputs": [
    {
     "data": {
      "image/png": "[encoded data removed]",
      "text/plain": [
       "<matplotlib.figure.Figure at 0x10fea36d8>"
      ]
     },
     "metadata": {},
     "output_type": "display_data"
    }
   ],
   "source": [
    "fi_sorted = plot_feature_importances(fi)"
   ]
  },
  {
   "cell_type": "code",
   "execution_count": 27,
   "metadata": {
    "ExecuteTime": {
     "end_time": "2018-08-01T20:29:09.906660Z",
     "start_time": "2018-08-01T20:24:01.501459Z"
    }
   },
   "outputs": [
    {
     "name": "stdout",
     "output_type": "stream",
     "text": [
      "Training Data Shape:  (215257, 449)\n",
      "Testing Data Shape:  (46127, 449)\n",
      "Training until validation scores don't improve for 200 rounds.\n",
      "[200]\tvalid's l1: 0.135566\tvalid's auc: 0.756938\ttrain's l1: 0.131071\ttrain's auc: 0.828537\n",
      "Early stopping, best iteration is:\n",
      "[130]\tvalid's l1: 0.136014\tvalid's auc: 0.757189\ttrain's l1: 0.13316\ttrain's auc: 0.808128\n",
      "Training until validation scores don't improve for 200 rounds.\n",
      "[200]\tvalid's l1: 0.136443\tvalid's auc: 0.752111\ttrain's l1: 0.130766\ttrain's auc: 0.826718\n",
      "Early stopping, best iteration is:\n",
      "[146]\tvalid's l1: 0.136747\tvalid's auc: 0.752978\ttrain's l1: 0.132313\ttrain's auc: 0.812596\n",
      "Training until validation scores don't improve for 200 rounds.\n",
      "[200]\tvalid's l1: 0.135256\tvalid's auc: 0.741588\ttrain's l1: 0.131067\ttrain's auc: 0.828268\n",
      "Early stopping, best iteration is:\n",
      "[139]\tvalid's l1: 0.135558\tvalid's auc: 0.742579\ttrain's l1: 0.132704\ttrain's auc: 0.812905\n",
      "Training until validation scores don't improve for 200 rounds.\n",
      "[200]\tvalid's l1: 0.136586\tvalid's auc: 0.753357\ttrain's l1: 0.131001\ttrain's auc: 0.826593\n",
      "Early stopping, best iteration is:\n",
      "[107]\tvalid's l1: 0.137113\tvalid's auc: 0.754248\ttrain's l1: 0.133609\ttrain's auc: 0.801586\n",
      "Training until validation scores don't improve for 200 rounds.\n",
      "[200]\tvalid's l1: 0.136965\tvalid's auc: 0.749115\ttrain's l1: 0.130413\ttrain's auc: 0.828331\n",
      "Early stopping, best iteration is:\n",
      "[119]\tvalid's l1: 0.137492\tvalid's auc: 0.750581\ttrain's l1: 0.132851\ttrain's auc: 0.804085\n",
      "Baseline metrics\n",
      "      fold     train     valid\n",
      "0        0  0.808128  0.757189\n",
      "1        1  0.812596  0.752978\n",
      "2        2  0.812905  0.742579\n",
      "3        3  0.801586  0.754248\n",
      "4        4  0.804085  0.750581\n",
      "5  overall  0.807860  0.751475\n"
     ]
    },
    {
     "data": {
      "image/png": "[encoded data removed]",
      "text/plain": [
       "<matplotlib.figure.Figure at 0x1089fc5f8>"
      ]
     },
     "metadata": {},
     "output_type": "display_data"
    }
   ],
   "source": [
    "lgbm_params = {\n",
    "    \"boosting\":\"gbdt\",\n",
    "    \"application\":\"binary\",\n",
    "    \"learning_rate\": 0.1,\n",
    "    'reg_alpha':0.1,\n",
    "    'reg_lambda': 0.1,\n",
    "    \"n_estimators\":10000,\n",
    "    \"max_depth\":5,\n",
    "    \"num_leaves\":200,\n",
    "    \"max_bin\":225,\n",
    "    \"drop_rate\":0.02\n",
    "}\n",
    "\n",
    "fi, metrics = model(app_train, app_test, lgbm_params=lgbm_params)\n",
    "print('Baseline metrics')\n",
    "print(metrics)\n",
    "fi_sorted = plot_feature_importances(fi)"
   ]
  },
  {
   "cell_type": "code",
   "execution_count": 30,
   "metadata": {
    "ExecuteTime": {
     "end_time": "2018-08-01T20:44:43.535364Z",
     "start_time": "2018-08-01T20:38:32.678759Z"
    }
   },
   "outputs": [
    {
     "name": "stdout",
     "output_type": "stream",
     "text": [
      "Training Data Shape:  (215257, 449)\n",
      "Testing Data Shape:  (46127, 449)\n",
      "Training until validation scores don't improve for 200 rounds.\n",
      "[200]\tvalid's l1: 0.133943\tvalid's auc: 0.749703\ttrain's l1: 0.119879\ttrain's auc: 0.913331\n",
      "Early stopping, best iteration is:\n",
      "[65]\tvalid's l1: 0.136194\tvalid's auc: 0.753318\ttrain's l1: 0.130371\ttrain's auc: 0.847388\n",
      "Training until validation scores don't improve for 200 rounds.\n",
      "[200]\tvalid's l1: 0.134599\tvalid's auc: 0.748537\ttrain's l1: 0.119719\ttrain's auc: 0.91164\n",
      "Early stopping, best iteration is:\n",
      "[96]\tvalid's l1: 0.136173\tvalid's auc: 0.750691\ttrain's l1: 0.127529\ttrain's auc: 0.863436\n",
      "Training until validation scores don't improve for 200 rounds.\n",
      "[200]\tvalid's l1: 0.133589\tvalid's auc: 0.738573\ttrain's l1: 0.120909\ttrain's auc: 0.905562\n",
      "Early stopping, best iteration is:\n",
      "[111]\tvalid's l1: 0.134897\tvalid's auc: 0.740966\ttrain's l1: 0.126919\ttrain's auc: 0.87136\n",
      "Training until validation scores don't improve for 200 rounds.\n",
      "[200]\tvalid's l1: 0.134595\tvalid's auc: 0.746723\ttrain's l1: 0.120138\ttrain's auc: 0.911238\n",
      "Early stopping, best iteration is:\n",
      "[86]\tvalid's l1: 0.136328\tvalid's auc: 0.751202\ttrain's l1: 0.128321\ttrain's auc: 0.859346\n",
      "Training until validation scores don't improve for 200 rounds.\n",
      "[200]\tvalid's l1: 0.135417\tvalid's auc: 0.741755\ttrain's l1: 0.11979\ttrain's auc: 0.91115\n",
      "Early stopping, best iteration is:\n",
      "[60]\tvalid's l1: 0.1376\tvalid's auc: 0.747251\ttrain's l1: 0.130261\ttrain's auc: 0.842406\n",
      "Baseline metrics\n",
      "      fold     train     valid\n",
      "0        0  0.847388  0.753318\n",
      "1        1  0.863436  0.750691\n",
      "2        2  0.871360  0.740966\n",
      "3        3  0.859346  0.751202\n",
      "4        4  0.842406  0.747251\n",
      "5  overall  0.856787  0.748593\n"
     ]
    },
    {
     "data": {
      "image/png": "[encoded data removed]",
      "text/plain": [
       "<matplotlib.figure.Figure at 0x10b2180f0>"
      ]
     },
     "metadata": {},
     "output_type": "display_data"
    }
   ],
   "source": [
    "lgbm_params = {\n",
    "    \"boosting\":\"gbdt\",\n",
    "    \"application\":\"binary\",\n",
    "    \"learning_rate\": 0.1,\n",
    "    'reg_alpha':0.1,\n",
    "    'reg_lambda': 0.1,\n",
    "    \"n_estimators\":10000,\n",
    "    \"max_depth\":7,\n",
    "    \"num_leaves\":200,\n",
    "    \"max_bin\":225,\n",
    "    \"drop_rate\":0.02\n",
    "}\n",
    "\n",
    "fi, metrics = model(app_train, app_test, lgbm_params=lgbm_params)\n",
    "print('Baseline metrics')\n",
    "print(metrics)\n",
    "fi_sorted = plot_feature_importances(fi)"
   ]
  },
  {
   "cell_type": "code",
   "execution_count": 31,
   "metadata": {
    "ExecuteTime": {
     "end_time": "2018-08-01T20:51:42.766249Z",
     "start_time": "2018-08-01T20:45:03.384686Z"
    }
   },
   "outputs": [
    {
     "name": "stdout",
     "output_type": "stream",
     "text": [
      "Training Data Shape:  (215257, 449)\n",
      "Testing Data Shape:  (46127, 449)\n",
      "Training until validation scores don't improve for 200 rounds.\n",
      "[200]\tvalid's l1: 0.13569\tvalid's auc: 0.75843\ttrain's l1: 0.132836\ttrain's auc: 0.804785\n",
      "Early stopping, best iteration is:\n",
      "[150]\tvalid's l1: 0.135888\tvalid's auc: 0.758667\ttrain's l1: 0.133925\ttrain's auc: 0.79371\n",
      "Training until validation scores don't improve for 200 rounds.\n",
      "[200]\tvalid's l1: 0.136407\tvalid's auc: 0.754945\ttrain's l1: 0.132427\ttrain's auc: 0.80513\n",
      "[400]\tvalid's l1: 0.135644\tvalid's auc: 0.75478\ttrain's l1: 0.128452\ttrain's auc: 0.843975\n",
      "Early stopping, best iteration is:\n",
      "[382]\tvalid's l1: 0.135689\tvalid's auc: 0.755204\ttrain's l1: 0.128808\ttrain's auc: 0.840568\n",
      "Training until validation scores don't improve for 200 rounds.\n",
      "[200]\tvalid's l1: 0.135179\tvalid's auc: 0.744696\ttrain's l1: 0.132866\ttrain's auc: 0.80637\n",
      "[400]\tvalid's l1: 0.134526\tvalid's auc: 0.744106\ttrain's l1: 0.128731\ttrain's auc: 0.845455\n",
      "Early stopping, best iteration is:\n",
      "[259]\tvalid's l1: 0.134964\tvalid's auc: 0.745134\ttrain's l1: 0.131628\ttrain's auc: 0.818499\n",
      "Training until validation scores don't improve for 200 rounds.\n",
      "[200]\tvalid's l1: 0.136232\tvalid's auc: 0.756445\ttrain's l1: 0.13266\ttrain's auc: 0.804028\n",
      "Early stopping, best iteration is:\n",
      "[127]\tvalid's l1: 0.136532\tvalid's auc: 0.756981\ttrain's l1: 0.13421\ttrain's auc: 0.787898\n",
      "Training until validation scores don't improve for 200 rounds.\n",
      "[200]\tvalid's l1: 0.136938\tvalid's auc: 0.750755\ttrain's l1: 0.132142\ttrain's auc: 0.804798\n",
      "Early stopping, best iteration is:\n",
      "[142]\tvalid's l1: 0.137179\tvalid's auc: 0.751346\ttrain's l1: 0.133383\ttrain's auc: 0.791473\n",
      "Baseline metrics\n",
      "      fold     train     valid\n",
      "0        0  0.793710  0.758667\n",
      "1        1  0.840568  0.755204\n",
      "2        2  0.818499  0.745134\n",
      "3        3  0.787898  0.756981\n",
      "4        4  0.791473  0.751346\n",
      "5  overall  0.806430  0.753398\n"
     ]
    },
    {
     "data": {
      "image/png": "[encoded data removed]",
      "text/plain": [
       "<matplotlib.figure.Figure at 0x10fea36d8>"
      ]
     },
     "metadata": {},
     "output_type": "display_data"
    }
   ],
   "source": [
    "lgbm_params = {\n",
    "    \"boosting\":\"gbdt\",\n",
    "    \"application\":\"binary\",\n",
    "    \"learning_rate\": 0.1,\n",
    "    'reg_alpha':10,\n",
    "    'reg_lambda': 10,\n",
    "    \"n_estimators\":10000,\n",
    "    \"max_depth\":5,\n",
    "    \"num_leaves\":200,\n",
    "    \"max_bin\":225,\n",
    "    \"drop_rate\":0.02\n",
    "}\n",
    "\n",
    "fi, metrics = model(app_train, app_test, lgbm_params=lgbm_params)\n",
    "print('Baseline metrics')\n",
    "print(metrics)\n",
    "fi_sorted = plot_feature_importances(fi)"
   ]
  },
  {
   "cell_type": "code",
   "execution_count": 33,
   "metadata": {
    "ExecuteTime": {
     "end_time": "2018-08-01T21:04:19.952238Z",
     "start_time": "2018-08-01T20:57:12.516033Z"
    }
   },
   "outputs": [
    {
     "name": "stdout",
     "output_type": "stream",
     "text": [
      "Training Data Shape:  (215257, 449)\n",
      "Testing Data Shape:  (46127, 449)\n",
      "Training until validation scores don't improve for 200 rounds.\n",
      "[200]\tvalid's l1: 0.13569\tvalid's auc: 0.75843\ttrain's l1: 0.132836\ttrain's auc: 0.804785\n",
      "Early stopping, best iteration is:\n",
      "[150]\tvalid's l1: 0.135888\tvalid's auc: 0.758667\ttrain's l1: 0.133925\ttrain's auc: 0.79371\n",
      "Training until validation scores don't improve for 200 rounds.\n",
      "[200]\tvalid's l1: 0.136407\tvalid's auc: 0.754945\ttrain's l1: 0.132427\ttrain's auc: 0.80513\n",
      "[400]\tvalid's l1: 0.135644\tvalid's auc: 0.75478\ttrain's l1: 0.128452\ttrain's auc: 0.843975\n",
      "Early stopping, best iteration is:\n",
      "[382]\tvalid's l1: 0.135689\tvalid's auc: 0.755204\ttrain's l1: 0.128808\ttrain's auc: 0.840568\n",
      "Training until validation scores don't improve for 200 rounds.\n",
      "[200]\tvalid's l1: 0.135179\tvalid's auc: 0.744696\ttrain's l1: 0.132866\ttrain's auc: 0.80637\n",
      "[400]\tvalid's l1: 0.134526\tvalid's auc: 0.744106\ttrain's l1: 0.128731\ttrain's auc: 0.845455\n",
      "Early stopping, best iteration is:\n",
      "[259]\tvalid's l1: 0.134964\tvalid's auc: 0.745134\ttrain's l1: 0.131628\ttrain's auc: 0.818499\n",
      "Training until validation scores don't improve for 200 rounds.\n",
      "[200]\tvalid's l1: 0.136232\tvalid's auc: 0.756445\ttrain's l1: 0.13266\ttrain's auc: 0.804028\n",
      "Early stopping, best iteration is:\n",
      "[127]\tvalid's l1: 0.136532\tvalid's auc: 0.756981\ttrain's l1: 0.13421\ttrain's auc: 0.787898\n",
      "Training until validation scores don't improve for 200 rounds.\n",
      "[200]\tvalid's l1: 0.136938\tvalid's auc: 0.750755\ttrain's l1: 0.132142\ttrain's auc: 0.804798\n",
      "Early stopping, best iteration is:\n",
      "[142]\tvalid's l1: 0.137179\tvalid's auc: 0.751346\ttrain's l1: 0.133383\ttrain's auc: 0.791473\n",
      "Baseline metrics\n",
      "      fold     train     valid\n",
      "0        0  0.793710  0.758667\n",
      "1        1  0.840568  0.755204\n",
      "2        2  0.818499  0.745134\n",
      "3        3  0.787898  0.756981\n",
      "4        4  0.791473  0.751346\n",
      "5  overall  0.806430  0.753398\n"
     ]
    },
    {
     "data": {
      "image/png": "[encoded data removed]",
      "text/plain": [
       "<matplotlib.figure.Figure at 0x10fea36d8>"
      ]
     },
     "metadata": {},
     "output_type": "display_data"
    }
   ],
   "source": [
    "lgbm_params = {\n",
    "    \"boosting\":\"gbdt\",\n",
    "    \"application\":\"binary\",\n",
    "    \"learning_rate\": 0.1,\n",
    "    'reg_alpha':10,\n",
    "    'reg_lambda': 10,\n",
    "    \"n_estimators\":10000,\n",
    "    \"max_depth\":5,\n",
    "    \"num_leaves\":200,\n",
    "    \"max_bin\":225,\n",
    "    \"drop_rate\":0.02\n",
    "}\n",
    "\n",
    "fi, metrics = model(app_train, app_test, lgbm_params=lgbm_params)\n",
    "print('Baseline metrics')\n",
    "print(metrics)\n",
    "fi_sorted = plot_feature_importances(fi)"
   ]
  },
  {
   "cell_type": "code",
   "execution_count": null,
   "metadata": {},
   "outputs": [],
   "source": []
  }
 ],
 "metadata": {
  "kernelspec": {
   "display_name": "Python 3",
   "language": "python",
   "name": "python3"
  },
  "language_info": {
   "codemirror_mode": {
    "name": "ipython",
    "version": 3
   },
   "file_extension": ".py",
   "mimetype": "text/x-python",
   "name": "python",
   "nbconvert_exporter": "python",
   "pygments_lexer": "ipython3",
   "version": "3.6.3"
  },
  "toc": {
   "base_numbering": 1,
   "nav_menu": {},
   "number_sections": true,
   "sideBar": true,
   "skip_h1_title": false,
   "title_cell": "Table of Contents",
   "title_sidebar": "Contents",
   "toc_cell": true,
   "toc_position": {},
   "toc_section_display": true,
   "toc_window_display": true
  }
 },
 "nbformat": 4,
 "nbformat_minor": 2
}
